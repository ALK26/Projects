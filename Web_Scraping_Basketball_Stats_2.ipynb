{
  "nbformat": 4,
  "nbformat_minor": 0,
  "metadata": {
    "colab": {
      "name": "Web Scraping Basketball Stats 2",
      "provenance": [],
      "collapsed_sections": [],
      "authorship_tag": "ABX9TyO43PYmKCu2kbltMzTk3K2e",
      "include_colab_link": true
    },
    "kernelspec": {
      "name": "python3",
      "display_name": "Python 3"
    }
  },
  "cells": [
    {
      "cell_type": "markdown",
      "metadata": {
        "id": "view-in-github",
        "colab_type": "text"
      },
      "source": [
        "<a href=\"https://colab.research.google.com/github/ALK26/Projects/blob/master/Web_Scraping_Basketball_Stats_2.ipynb\" target=\"_parent\"><img src=\"https://colab.research.google.com/assets/colab-badge.svg\" alt=\"Open In Colab\"/></a>"
      ]
    },
    {
      "cell_type": "code",
      "metadata": {
        "id": "kvniymT8e5l0",
        "colab_type": "code",
        "colab": {}
      },
      "source": [
        "import bs4\n",
        "import requests\n",
        "import pandas as pd\n",
        "import numpy as np\n",
        "import boto3"
      ],
      "execution_count": 1,
      "outputs": []
    },
    {
      "cell_type": "code",
      "metadata": {
        "id": "HbI92Jbre_qh",
        "colab_type": "code",
        "colab": {}
      },
      "source": [
        "def get_basketball_stats(link='https://en.wikipedia.org/wiki/Michael_Jordan'):\n",
        "    # read the webpage \n",
        "    response = requests.get(link)\n",
        "    # create a BeautifulSoup object to parse the HTML  \n",
        "    soup = bs4.BeautifulSoup(response.text, 'html.parser')\n",
        "    # the player stats are defined  with the attribute CSS class set to 'wikitable sortable'; \n",
        "    #therefore we create a tag object \"table\"\n",
        "    table=soup.find(class_='wikitable sortable')\n",
        "\n",
        "    #the headers of the table are the first table row (tr) we create a tag object that has the first row  \n",
        "    headers=table.tr\n",
        "    #the table column names are displayed  as an abbreviation; therefore we find all the abbr tags and returs an Iterator\n",
        "    titles=headers.find_all(\"abbr\")\n",
        "    #we create a dictionary  and pass the table headers as the keys \n",
        "    data = {title['title']:[] for title in titles}\n",
        "   #we will store each column as a list in a dictionary, the header of the column will be the dictionary key \n",
        "\n",
        "    #we iterate over each table row by fining each table tag tr and assign it to the objed\n",
        "    for row in table.find_all('tr')[1:]:\n",
        "    \n",
        "        #we iterate over each cell in the table, as each cell corresponds to a different column we all obtain the correspondin key corresponding the column n \n",
        "        for key,a in zip(data.keys(),row.find_all(\"td\")[2:]):\n",
        "            # we append each elment and strip any extra HTML contnet \n",
        "            data[key].append(''.join(c for c in a.text if (c.isdigit() or c == \".\")))\n",
        "\n",
        "    # we remove extra rows by finding the smallest list     \n",
        "    Min=min([len(x)  for x in data.values()])\n",
        "    #we convert the elements in the key to floats \n",
        "    for key in data.keys():\n",
        "    \n",
        "        data[key]=list(map(lambda x: float(x), data[key][:Min]))\n",
        "       \n",
        "    return data"
      ],
      "execution_count": 2,
      "outputs": []
    },
    {
      "cell_type": "code",
      "metadata": {
        "id": "cernQUtSfGoo",
        "colab_type": "code",
        "colab": {}
      },
      "source": [
        "# Web Scraping the data and Converting to Pandas Dataframe \n",
        "# use the function get_basketball_stats to extract a Python Dictionary of the player statistics, \n",
        "# convert the dictionary to a Python Dataframe. \n",
        "# display the first five rows of the dataframe \n",
        "# the name of each player printed above. "
      ],
      "execution_count": 3,
      "outputs": []
    },
    {
      "cell_type": "code",
      "metadata": {
        "id": "DA8IFFQXfg-8",
        "colab_type": "code",
        "colab": {}
      },
      "source": [
        "import pandas as pd\n",
        "import matplotlib.pyplot as plt\n",
        "from IPython.display import display\n"
      ],
      "execution_count": 4,
      "outputs": []
    },
    {
      "cell_type": "code",
      "metadata": {
        "id": "9sdReSChfj13",
        "colab_type": "code",
        "colab": {}
      },
      "source": [
        "# The list links contain the link the Wikipedia article for each player. \n",
        "# The list names contains the names of each player."
      ],
      "execution_count": 5,
      "outputs": []
    },
    {
      "cell_type": "code",
      "metadata": {
        "id": "8Xj-2R2sfqVd",
        "colab_type": "code",
        "colab": {}
      },
      "source": [
        "links=['https://en.wikipedia.org/wiki/Michael_Jordan'\\\n",
        "       ,'https://en.wikipedia.org/wiki/Kobe_Bryant'\\\n",
        "      ,'https://en.wikipedia.org/wiki/LeBron_James'\\\n",
        "      \n",
        "      ,'https://en.wikipedia.org/wiki/Stephen_Curry']\n",
        "names=['Michael Jordan','Kobe Bryant','Lebron James','Stephen Curry']"
      ],
      "execution_count": 6,
      "outputs": []
    },
    {
      "cell_type": "code",
      "metadata": {
        "id": "dfFB6TP4ft2F",
        "colab_type": "code",
        "colab": {
          "base_uri": "https://localhost:8080/",
          "height": 238
        },
        "outputId": "688c94cc-cd4b-4810-a1ed-7c083b3cf9cd"
      },
      "source": [
        "# can use the function get_basketball_stats to extract the Regular season table and store it to a Python dictionary. \n",
        "# can extract the table for Michael Jordan and convert it to a Python dictionary as follows:\n",
        "\n",
        "# using the link\n",
        "michael_jordan_dict=get_basketball_stats('https://en.wikipedia.org/wiki/Michael_Jordan')\n",
        "\n",
        "michael_jordan=pd.DataFrame(michael_jordan_dict)\n",
        "print(names[0])\n",
        "michael_jordan.head()"
      ],
      "execution_count": 8,
      "outputs": [
        {
          "output_type": "stream",
          "text": [
            "Michael Jordan\n"
          ],
          "name": "stdout"
        },
        {
          "output_type": "execute_result",
          "data": {
            "text/html": [
              "<div>\n",
              "<style scoped>\n",
              "    .dataframe tbody tr th:only-of-type {\n",
              "        vertical-align: middle;\n",
              "    }\n",
              "\n",
              "    .dataframe tbody tr th {\n",
              "        vertical-align: top;\n",
              "    }\n",
              "\n",
              "    .dataframe thead th {\n",
              "        text-align: right;\n",
              "    }\n",
              "</style>\n",
              "<table border=\"1\" class=\"dataframe\">\n",
              "  <thead>\n",
              "    <tr style=\"text-align: right;\">\n",
              "      <th></th>\n",
              "      <th>Games played</th>\n",
              "      <th>Games started</th>\n",
              "      <th>Minutes per game</th>\n",
              "      <th>Field goal percentage</th>\n",
              "      <th>3-point field-goal percentage</th>\n",
              "      <th>Free-throw percentage</th>\n",
              "      <th>Rebounds per game</th>\n",
              "      <th>Assists per game</th>\n",
              "      <th>Steals per game</th>\n",
              "      <th>Blocks per game</th>\n",
              "      <th>Points per game</th>\n",
              "    </tr>\n",
              "  </thead>\n",
              "  <tbody>\n",
              "    <tr>\n",
              "      <th>0</th>\n",
              "      <td>82.0</td>\n",
              "      <td>82.0</td>\n",
              "      <td>38.3</td>\n",
              "      <td>0.515</td>\n",
              "      <td>0.173</td>\n",
              "      <td>0.845</td>\n",
              "      <td>6.5</td>\n",
              "      <td>5.9</td>\n",
              "      <td>2.4</td>\n",
              "      <td>0.8</td>\n",
              "      <td>28.2</td>\n",
              "    </tr>\n",
              "    <tr>\n",
              "      <th>1</th>\n",
              "      <td>18.0</td>\n",
              "      <td>7.0</td>\n",
              "      <td>25.1</td>\n",
              "      <td>0.457</td>\n",
              "      <td>0.167</td>\n",
              "      <td>0.840</td>\n",
              "      <td>3.6</td>\n",
              "      <td>2.9</td>\n",
              "      <td>2.1</td>\n",
              "      <td>1.2</td>\n",
              "      <td>22.7</td>\n",
              "    </tr>\n",
              "    <tr>\n",
              "      <th>2</th>\n",
              "      <td>82.0</td>\n",
              "      <td>82.0</td>\n",
              "      <td>40.0</td>\n",
              "      <td>0.482</td>\n",
              "      <td>0.182</td>\n",
              "      <td>0.857</td>\n",
              "      <td>5.2</td>\n",
              "      <td>4.6</td>\n",
              "      <td>2.9</td>\n",
              "      <td>1.5</td>\n",
              "      <td>37.1</td>\n",
              "    </tr>\n",
              "    <tr>\n",
              "      <th>3</th>\n",
              "      <td>82.0</td>\n",
              "      <td>82.0</td>\n",
              "      <td>40.4</td>\n",
              "      <td>0.535</td>\n",
              "      <td>0.132</td>\n",
              "      <td>0.841</td>\n",
              "      <td>5.5</td>\n",
              "      <td>5.9</td>\n",
              "      <td>3.2</td>\n",
              "      <td>1.6</td>\n",
              "      <td>35.0</td>\n",
              "    </tr>\n",
              "    <tr>\n",
              "      <th>4</th>\n",
              "      <td>81.0</td>\n",
              "      <td>81.0</td>\n",
              "      <td>40.2</td>\n",
              "      <td>0.538</td>\n",
              "      <td>0.276</td>\n",
              "      <td>0.850</td>\n",
              "      <td>8.0</td>\n",
              "      <td>8.0</td>\n",
              "      <td>2.9</td>\n",
              "      <td>0.8</td>\n",
              "      <td>32.5</td>\n",
              "    </tr>\n",
              "  </tbody>\n",
              "</table>\n",
              "</div>"
            ],
            "text/plain": [
              "   Games played  Games started  ...  Blocks per game  Points per game\n",
              "0          82.0           82.0  ...              0.8             28.2\n",
              "1          18.0            7.0  ...              1.2             22.7\n",
              "2          82.0           82.0  ...              1.5             37.1\n",
              "3          82.0           82.0  ...              1.6             35.0\n",
              "4          81.0           81.0  ...              0.8             32.5\n",
              "\n",
              "[5 rows x 11 columns]"
            ]
          },
          "metadata": {
            "tags": []
          },
          "execution_count": 8
        }
      ]
    },
    {
      "cell_type": "code",
      "metadata": {
        "id": "EVQrxfDXf89B",
        "colab_type": "code",
        "colab": {}
      },
      "source": [
        "# For each Player create a Python dictionary from the table Regular season table\n",
        "# For each Player convert the Python Dictionary to a Pandas Dataframe using the constructor pd.DataFrame()\n",
        "# For each player display the first five rows of the Dataframe, print the name of each Player above the Dataframe."
      ],
      "execution_count": 9,
      "outputs": []
    },
    {
      "cell_type": "code",
      "metadata": {
        "id": "dfU7HcXDv9Ry",
        "colab_type": "code",
        "colab": {
          "base_uri": "https://localhost:8080/",
          "height": 238
        },
        "outputId": "1e9faea4-2d2e-460d-8e12-eea5685387dd"
      },
      "source": [
        "lebron_james_dict=get_basketball_stats('https://en.wikipedia.org/wiki/LeBron_James')\n",
        "\n",
        "lebron_james=pd.DataFrame(lebron_james_dict)\n",
        "print(\"LEBRON JAMES\")\n",
        "lebron_james.head()"
      ],
      "execution_count": 10,
      "outputs": [
        {
          "output_type": "stream",
          "text": [
            "LEBRON JAMES\n"
          ],
          "name": "stdout"
        },
        {
          "output_type": "execute_result",
          "data": {
            "text/html": [
              "<div>\n",
              "<style scoped>\n",
              "    .dataframe tbody tr th:only-of-type {\n",
              "        vertical-align: middle;\n",
              "    }\n",
              "\n",
              "    .dataframe tbody tr th {\n",
              "        vertical-align: top;\n",
              "    }\n",
              "\n",
              "    .dataframe thead th {\n",
              "        text-align: right;\n",
              "    }\n",
              "</style>\n",
              "<table border=\"1\" class=\"dataframe\">\n",
              "  <thead>\n",
              "    <tr style=\"text-align: right;\">\n",
              "      <th></th>\n",
              "      <th>Games played</th>\n",
              "      <th>Games started</th>\n",
              "      <th>Minutes per game</th>\n",
              "      <th>Field goal percentage</th>\n",
              "      <th>3-point field-goal percentage</th>\n",
              "      <th>Free-throw percentage</th>\n",
              "      <th>Rebounds per game</th>\n",
              "      <th>Assists per game</th>\n",
              "      <th>Steals per game</th>\n",
              "      <th>Blocks per game</th>\n",
              "      <th>Points per game</th>\n",
              "    </tr>\n",
              "  </thead>\n",
              "  <tbody>\n",
              "    <tr>\n",
              "      <th>0</th>\n",
              "      <td>79.0</td>\n",
              "      <td>79.0</td>\n",
              "      <td>39.5</td>\n",
              "      <td>0.417</td>\n",
              "      <td>0.290</td>\n",
              "      <td>0.754</td>\n",
              "      <td>5.5</td>\n",
              "      <td>5.9</td>\n",
              "      <td>1.6</td>\n",
              "      <td>0.7</td>\n",
              "      <td>20.9</td>\n",
              "    </tr>\n",
              "    <tr>\n",
              "      <th>1</th>\n",
              "      <td>80.0</td>\n",
              "      <td>80.0</td>\n",
              "      <td>42.4</td>\n",
              "      <td>0.472</td>\n",
              "      <td>0.351</td>\n",
              "      <td>0.750</td>\n",
              "      <td>7.4</td>\n",
              "      <td>7.2</td>\n",
              "      <td>2.2</td>\n",
              "      <td>0.7</td>\n",
              "      <td>27.2</td>\n",
              "    </tr>\n",
              "    <tr>\n",
              "      <th>2</th>\n",
              "      <td>79.0</td>\n",
              "      <td>79.0</td>\n",
              "      <td>42.5</td>\n",
              "      <td>0.480</td>\n",
              "      <td>0.335</td>\n",
              "      <td>0.738</td>\n",
              "      <td>7.0</td>\n",
              "      <td>6.6</td>\n",
              "      <td>1.6</td>\n",
              "      <td>0.8</td>\n",
              "      <td>31.4</td>\n",
              "    </tr>\n",
              "    <tr>\n",
              "      <th>3</th>\n",
              "      <td>78.0</td>\n",
              "      <td>78.0</td>\n",
              "      <td>40.9</td>\n",
              "      <td>0.476</td>\n",
              "      <td>0.319</td>\n",
              "      <td>0.698</td>\n",
              "      <td>6.7</td>\n",
              "      <td>6.0</td>\n",
              "      <td>1.6</td>\n",
              "      <td>0.7</td>\n",
              "      <td>27.3</td>\n",
              "    </tr>\n",
              "    <tr>\n",
              "      <th>4</th>\n",
              "      <td>75.0</td>\n",
              "      <td>74.0</td>\n",
              "      <td>40.4</td>\n",
              "      <td>0.484</td>\n",
              "      <td>0.315</td>\n",
              "      <td>0.712</td>\n",
              "      <td>7.9</td>\n",
              "      <td>7.2</td>\n",
              "      <td>1.8</td>\n",
              "      <td>1.1</td>\n",
              "      <td>30.0</td>\n",
              "    </tr>\n",
              "  </tbody>\n",
              "</table>\n",
              "</div>"
            ],
            "text/plain": [
              "   Games played  Games started  ...  Blocks per game  Points per game\n",
              "0          79.0           79.0  ...              0.7             20.9\n",
              "1          80.0           80.0  ...              0.7             27.2\n",
              "2          79.0           79.0  ...              0.8             31.4\n",
              "3          78.0           78.0  ...              0.7             27.3\n",
              "4          75.0           74.0  ...              1.1             30.0\n",
              "\n",
              "[5 rows x 11 columns]"
            ]
          },
          "metadata": {
            "tags": []
          },
          "execution_count": 10
        }
      ]
    },
    {
      "cell_type": "code",
      "metadata": {
        "id": "JQdiBFZ-tuHH",
        "colab_type": "code",
        "colab": {
          "base_uri": "https://localhost:8080/",
          "height": 238
        },
        "outputId": "e6c47fa6-6501-4a49-d535-69f379712b13"
      },
      "source": [
        "kobe_bryant_dict=get_basketball_stats('https://en.wikipedia.org/wiki/Kobe_Bryant')\n",
        "\n",
        "kobe_bryant=pd.DataFrame(kobe_bryant_dict)\n",
        "print(\"KOBE BRYANT\")\n",
        "kobe_bryant.head()"
      ],
      "execution_count": 11,
      "outputs": [
        {
          "output_type": "stream",
          "text": [
            "KOBE BRYANT\n"
          ],
          "name": "stdout"
        },
        {
          "output_type": "execute_result",
          "data": {
            "text/html": [
              "<div>\n",
              "<style scoped>\n",
              "    .dataframe tbody tr th:only-of-type {\n",
              "        vertical-align: middle;\n",
              "    }\n",
              "\n",
              "    .dataframe tbody tr th {\n",
              "        vertical-align: top;\n",
              "    }\n",
              "\n",
              "    .dataframe thead th {\n",
              "        text-align: right;\n",
              "    }\n",
              "</style>\n",
              "<table border=\"1\" class=\"dataframe\">\n",
              "  <thead>\n",
              "    <tr style=\"text-align: right;\">\n",
              "      <th></th>\n",
              "      <th>Games played</th>\n",
              "      <th>Games started</th>\n",
              "      <th>Minutes per game</th>\n",
              "      <th>Field goal percentage</th>\n",
              "      <th>3-point field-goal percentage</th>\n",
              "      <th>Free-throw percentage</th>\n",
              "      <th>Rebounds per game</th>\n",
              "      <th>Assists per game</th>\n",
              "      <th>Steals per game</th>\n",
              "      <th>Blocks per game</th>\n",
              "      <th>Points per game</th>\n",
              "    </tr>\n",
              "  </thead>\n",
              "  <tbody>\n",
              "    <tr>\n",
              "      <th>0</th>\n",
              "      <td>71.0</td>\n",
              "      <td>6.0</td>\n",
              "      <td>15.5</td>\n",
              "      <td>0.417</td>\n",
              "      <td>0.375</td>\n",
              "      <td>0.819</td>\n",
              "      <td>1.9</td>\n",
              "      <td>1.3</td>\n",
              "      <td>0.7</td>\n",
              "      <td>0.3</td>\n",
              "      <td>7.6</td>\n",
              "    </tr>\n",
              "    <tr>\n",
              "      <th>1</th>\n",
              "      <td>79.0</td>\n",
              "      <td>1.0</td>\n",
              "      <td>26.0</td>\n",
              "      <td>0.428</td>\n",
              "      <td>0.341</td>\n",
              "      <td>0.794</td>\n",
              "      <td>3.1</td>\n",
              "      <td>2.5</td>\n",
              "      <td>0.9</td>\n",
              "      <td>0.5</td>\n",
              "      <td>15.4</td>\n",
              "    </tr>\n",
              "    <tr>\n",
              "      <th>2</th>\n",
              "      <td>50.0</td>\n",
              "      <td>50.0</td>\n",
              "      <td>37.9</td>\n",
              "      <td>0.465</td>\n",
              "      <td>0.267</td>\n",
              "      <td>0.839</td>\n",
              "      <td>5.3</td>\n",
              "      <td>3.8</td>\n",
              "      <td>1.4</td>\n",
              "      <td>1.0</td>\n",
              "      <td>19.9</td>\n",
              "    </tr>\n",
              "    <tr>\n",
              "      <th>3</th>\n",
              "      <td>66.0</td>\n",
              "      <td>62.0</td>\n",
              "      <td>38.2</td>\n",
              "      <td>0.468</td>\n",
              "      <td>0.319</td>\n",
              "      <td>0.821</td>\n",
              "      <td>6.3</td>\n",
              "      <td>4.9</td>\n",
              "      <td>1.6</td>\n",
              "      <td>0.9</td>\n",
              "      <td>22.5</td>\n",
              "    </tr>\n",
              "    <tr>\n",
              "      <th>4</th>\n",
              "      <td>68.0</td>\n",
              "      <td>68.0</td>\n",
              "      <td>40.9</td>\n",
              "      <td>0.464</td>\n",
              "      <td>0.305</td>\n",
              "      <td>0.853</td>\n",
              "      <td>5.9</td>\n",
              "      <td>5.0</td>\n",
              "      <td>1.7</td>\n",
              "      <td>0.6</td>\n",
              "      <td>28.5</td>\n",
              "    </tr>\n",
              "  </tbody>\n",
              "</table>\n",
              "</div>"
            ],
            "text/plain": [
              "   Games played  Games started  ...  Blocks per game  Points per game\n",
              "0          71.0            6.0  ...              0.3              7.6\n",
              "1          79.0            1.0  ...              0.5             15.4\n",
              "2          50.0           50.0  ...              1.0             19.9\n",
              "3          66.0           62.0  ...              0.9             22.5\n",
              "4          68.0           68.0  ...              0.6             28.5\n",
              "\n",
              "[5 rows x 11 columns]"
            ]
          },
          "metadata": {
            "tags": []
          },
          "execution_count": 11
        }
      ]
    },
    {
      "cell_type": "code",
      "metadata": {
        "id": "7CXInbOzwhQ2",
        "colab_type": "code",
        "colab": {
          "base_uri": "https://localhost:8080/",
          "height": 238
        },
        "outputId": "3a508fdc-87a0-4c98-af3d-7dfdab6f05ff"
      },
      "source": [
        "stephen_curry_dict=get_basketball_stats('https://en.wikipedia.org/wiki/Stephen_Curry')\n",
        "\n",
        "stephen_curry=pd.DataFrame(stephen_curry_dict)\n",
        "print(\"STEPHEN CURRY\")\n",
        "stephen_curry.head()"
      ],
      "execution_count": 12,
      "outputs": [
        {
          "output_type": "stream",
          "text": [
            "STEPHEN CURRY\n"
          ],
          "name": "stdout"
        },
        {
          "output_type": "execute_result",
          "data": {
            "text/html": [
              "<div>\n",
              "<style scoped>\n",
              "    .dataframe tbody tr th:only-of-type {\n",
              "        vertical-align: middle;\n",
              "    }\n",
              "\n",
              "    .dataframe tbody tr th {\n",
              "        vertical-align: top;\n",
              "    }\n",
              "\n",
              "    .dataframe thead th {\n",
              "        text-align: right;\n",
              "    }\n",
              "</style>\n",
              "<table border=\"1\" class=\"dataframe\">\n",
              "  <thead>\n",
              "    <tr style=\"text-align: right;\">\n",
              "      <th></th>\n",
              "      <th>Games played</th>\n",
              "      <th>Games started</th>\n",
              "      <th>Minutes per game</th>\n",
              "      <th>Field goal percentage</th>\n",
              "      <th>3-point field-goal percentage</th>\n",
              "      <th>Free-throw percentage</th>\n",
              "      <th>Rebounds per game</th>\n",
              "      <th>Assists per game</th>\n",
              "      <th>Steals per game</th>\n",
              "      <th>Blocks per game</th>\n",
              "      <th>Points per game</th>\n",
              "    </tr>\n",
              "  </thead>\n",
              "  <tbody>\n",
              "    <tr>\n",
              "      <th>0</th>\n",
              "      <td>80.0</td>\n",
              "      <td>77.0</td>\n",
              "      <td>36.2</td>\n",
              "      <td>0.462</td>\n",
              "      <td>0.437</td>\n",
              "      <td>0.885</td>\n",
              "      <td>4.5</td>\n",
              "      <td>5.9</td>\n",
              "      <td>1.9</td>\n",
              "      <td>0.2</td>\n",
              "      <td>17.5</td>\n",
              "    </tr>\n",
              "    <tr>\n",
              "      <th>1</th>\n",
              "      <td>74.0</td>\n",
              "      <td>74.0</td>\n",
              "      <td>33.6</td>\n",
              "      <td>0.480</td>\n",
              "      <td>0.442</td>\n",
              "      <td>0.934</td>\n",
              "      <td>3.9</td>\n",
              "      <td>5.8</td>\n",
              "      <td>1.5</td>\n",
              "      <td>0.3</td>\n",
              "      <td>18.6</td>\n",
              "    </tr>\n",
              "    <tr>\n",
              "      <th>2</th>\n",
              "      <td>26.0</td>\n",
              "      <td>23.0</td>\n",
              "      <td>28.2</td>\n",
              "      <td>0.490</td>\n",
              "      <td>0.455</td>\n",
              "      <td>0.809</td>\n",
              "      <td>3.4</td>\n",
              "      <td>5.3</td>\n",
              "      <td>1.5</td>\n",
              "      <td>0.3</td>\n",
              "      <td>14.7</td>\n",
              "    </tr>\n",
              "    <tr>\n",
              "      <th>3</th>\n",
              "      <td>78.0</td>\n",
              "      <td>78.0</td>\n",
              "      <td>38.2</td>\n",
              "      <td>0.451</td>\n",
              "      <td>0.453</td>\n",
              "      <td>0.900</td>\n",
              "      <td>4.0</td>\n",
              "      <td>6.9</td>\n",
              "      <td>1.6</td>\n",
              "      <td>0.2</td>\n",
              "      <td>22.9</td>\n",
              "    </tr>\n",
              "    <tr>\n",
              "      <th>4</th>\n",
              "      <td>78.0</td>\n",
              "      <td>78.0</td>\n",
              "      <td>36.5</td>\n",
              "      <td>0.471</td>\n",
              "      <td>0.424</td>\n",
              "      <td>0.885</td>\n",
              "      <td>4.3</td>\n",
              "      <td>8.5</td>\n",
              "      <td>1.6</td>\n",
              "      <td>0.2</td>\n",
              "      <td>24.0</td>\n",
              "    </tr>\n",
              "  </tbody>\n",
              "</table>\n",
              "</div>"
            ],
            "text/plain": [
              "   Games played  Games started  ...  Blocks per game  Points per game\n",
              "0          80.0           77.0  ...              0.2             17.5\n",
              "1          74.0           74.0  ...              0.3             18.6\n",
              "2          26.0           23.0  ...              0.3             14.7\n",
              "3          78.0           78.0  ...              0.2             22.9\n",
              "4          78.0           78.0  ...              0.2             24.0\n",
              "\n",
              "[5 rows x 11 columns]"
            ]
          },
          "metadata": {
            "tags": []
          },
          "execution_count": 12
        }
      ]
    },
    {
      "cell_type": "code",
      "metadata": {
        "id": "HyN37jTsglc1",
        "colab_type": "code",
        "colab": {}
      },
      "source": [
        "# plot the Points per game for a player using the function plt.plot()\n",
        "# Import the plotting library"
      ],
      "execution_count": null,
      "outputs": []
    },
    {
      "cell_type": "code",
      "metadata": {
        "id": "nxxPTPrfgxWc",
        "colab_type": "code",
        "colab": {
          "base_uri": "https://localhost:8080/",
          "height": 265
        },
        "outputId": "de4e3aaf-fcfd-47d7-dd3f-e74d04dcc404"
      },
      "source": [
        "import matplotlib as mpl \n",
        "import matplotlib.pyplot as plt\n",
        "import numpy as np\n",
        "\n",
        "plt.plot(stephen_curry[\"Points per game\"])\n",
        "plt.show()\n"
      ],
      "execution_count": 13,
      "outputs": [
        {
          "output_type": "display_data",
          "data": {
            "image/png": "[encoded data removed]",
            "text/plain": [
              "<Figure size 432x288 with 1 Axes>"
            ]
          },
          "metadata": {
            "tags": [],
            "needs_background": "light"
          }
        }
      ]
    },
    {
      "cell_type": "code",
      "metadata": {
        "id": "dTs8TwtxtgP2",
        "colab_type": "code",
        "colab": {
          "base_uri": "https://localhost:8080/",
          "height": 268
        },
        "outputId": "8b355b0a-04f4-4a06-f9cd-5584d243d710"
      },
      "source": [
        "stephen_curry.plot(kind=\"bar\")\n",
        "plt.show()"
      ],
      "execution_count": 14,
      "outputs": [
        {
          "output_type": "display_data",
          "data": {
            "image/png": "[encoded data removed]",
            "text/plain": [
              "<Figure size 432x288 with 1 Axes>"
            ]
          },
          "metadata": {
            "tags": [],
            "needs_background": "light"
          }
        }
      ]
    },
    {
      "cell_type": "code",
      "metadata": {
        "id": "yFas5quLbadJ",
        "colab_type": "code",
        "colab": {
          "base_uri": "https://localhost:8080/",
          "height": 286
        },
        "outputId": "a8b9eb28-21fc-4baa-cd3f-b84db54b4244"
      },
      "source": [
        "stephen_curry.plot(kind=\"area\")"
      ],
      "execution_count": 15,
      "outputs": [
        {
          "output_type": "execute_result",
          "data": {
            "text/plain": [
              "<matplotlib.axes._subplots.AxesSubplot at 0x7f2c3d5c9470>"
            ]
          },
          "metadata": {
            "tags": []
          },
          "execution_count": 15
        },
        {
          "output_type": "display_data",
          "data": {
            "image/png": "[encoded data removed]",
            "text/plain": [
              "<Figure size 432x288 with 1 Axes>"
            ]
          },
          "metadata": {
            "tags": [],
            "needs_background": "light"
          }
        }
      ]
    },
    {
      "cell_type": "code",
      "metadata": {
        "id": "JKPRKUJJ5PBm",
        "colab_type": "code",
        "colab": {
          "base_uri": "https://localhost:8080/",
          "height": 265
        },
        "outputId": "30054279-ec40-4fe9-a2b3-5ddb9dd41da1"
      },
      "source": [
        "fig,ax=plt.subplots()\n",
        "points_per_game = stephen_curry[\"Points per game\"]\n",
        "points_per_game.plot(x=\"years\", y=\"Points per game\", ax=ax)\n",
        "assists_per_game= stephen_curry[\"Assists per game\"]\n",
        "assists_per_game.plot(x=\"years\", y=\"Assists per game\", ax=ax)\n",
        "rebounds= stephen_curry[\"Rebounds per game\"]\n",
        "rebounds.plot(x=\"years\", y=\"Rebounds per game\", ax=ax)\n",
        "\n",
        "ax.legend([\"Points per game\", \"Assists per game\", \"Rebounds\"])\n",
        "plt.show()"
      ],
      "execution_count": 16,
      "outputs": [
        {
          "output_type": "display_data",
          "data": {
            "image/png": "[encoded data removed]",
            "text/plain": [
              "<Figure size 432x288 with 1 Axes>"
            ]
          },
          "metadata": {
            "tags": [],
            "needs_background": "light"
          }
        }
      ]
    },
    {
      "cell_type": "code",
      "metadata": {
        "id": "1Nqja_rmZJGT",
        "colab_type": "code",
        "colab": {}
      },
      "source": [
        ""
      ],
      "execution_count": null,
      "outputs": []
    }
  ]
}