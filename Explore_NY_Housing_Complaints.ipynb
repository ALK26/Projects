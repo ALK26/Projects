{
  "nbformat": 4,
  "nbformat_minor": 0,
  "metadata": {
    "colab": {
      "name": "Explore NY Housing Complaints ",
      "provenance": [],
      "collapsed_sections": [],
      "authorship_tag": "ABX9TyNSPk1gz4oHsurYy+t80YN1",
      "include_colab_link": true
    },
    "kernelspec": {
      "name": "python3",
      "display_name": "Python 3"
    }
  },
  "cells": [
    {
      "cell_type": "markdown",
      "metadata": {
        "id": "view-in-github",
        "colab_type": "text"
      },
      "source": [
        "<a href=\"https://colab.research.google.com/github/ALK26/Projects/blob/master/Explore_NY_Housing_Complaints.ipynb\" target=\"_parent\"><img src=\"https://colab.research.google.com/assets/colab-badge.svg\" alt=\"Open In Colab\"/></a>"
      ]
    },
    {
      "cell_type": "code",
      "metadata": {
        "id": "WDBGiIZ5B8Nz",
        "colab_type": "code",
        "colab": {
          "base_uri": "https://localhost:8080/",
          "height": 476
        },
        "outputId": "55fb0d44-8ca5-4b8c-8486-aefe99b842f3"
      },
      "source": [
        "import pandas as pd  \n",
        "df = pd.read_csv('https://cocl.us/311_NYC_Dataset') \n",
        "df.head() "
      ],
      "execution_count": null,
      "outputs": [
        {
          "output_type": "execute_result",
          "data": {
            "text/html": [
              "<div>\n",
              "<style scoped>\n",
              "    .dataframe tbody tr th:only-of-type {\n",
              "        vertical-align: middle;\n",
              "    }\n",
              "\n",
              "    .dataframe tbody tr th {\n",
              "        vertical-align: top;\n",
              "    }\n",
              "\n",
              "    .dataframe thead th {\n",
              "        text-align: right;\n",
              "    }\n",
              "</style>\n",
              "<table border=\"1\" class=\"dataframe\">\n",
              "  <thead>\n",
              "    <tr style=\"text-align: right;\">\n",
              "      <th></th>\n",
              "      <th>Unnamed: 0</th>\n",
              "      <th>Unique Key</th>\n",
              "      <th>Created Date</th>\n",
              "      <th>Closed Date</th>\n",
              "      <th>Complaint Type</th>\n",
              "      <th>Location Type</th>\n",
              "      <th>Incident Zip</th>\n",
              "      <th>Incident Address</th>\n",
              "      <th>Street Name</th>\n",
              "      <th>Address Type</th>\n",
              "      <th>City</th>\n",
              "      <th>Status</th>\n",
              "      <th>Resolution Description</th>\n",
              "      <th>Borough</th>\n",
              "      <th>Latitude</th>\n",
              "      <th>Longitude</th>\n",
              "    </tr>\n",
              "  </thead>\n",
              "  <tbody>\n",
              "    <tr>\n",
              "      <th>0</th>\n",
              "      <td>0</td>\n",
              "      <td>45531130</td>\n",
              "      <td>02/02/2020 06:09:17 AM</td>\n",
              "      <td>NaN</td>\n",
              "      <td>HEAT/HOT WATER</td>\n",
              "      <td>RESIDENTIAL BUILDING</td>\n",
              "      <td>10019.0</td>\n",
              "      <td>426 WEST   52 STREET</td>\n",
              "      <td>WEST   52 STREET</td>\n",
              "      <td>ADDRESS</td>\n",
              "      <td>NEW YORK</td>\n",
              "      <td>Open</td>\n",
              "      <td>The following complaint conditions are still o...</td>\n",
              "      <td>MANHATTAN</td>\n",
              "      <td>40.765132</td>\n",
              "      <td>-73.988993</td>\n",
              "    </tr>\n",
              "    <tr>\n",
              "      <th>1</th>\n",
              "      <td>1</td>\n",
              "      <td>45529784</td>\n",
              "      <td>02/02/2020 02:15:24 PM</td>\n",
              "      <td>NaN</td>\n",
              "      <td>UNSANITARY CONDITION</td>\n",
              "      <td>RESIDENTIAL BUILDING</td>\n",
              "      <td>11204.0</td>\n",
              "      <td>1751 67 STREET</td>\n",
              "      <td>67 STREET</td>\n",
              "      <td>ADDRESS</td>\n",
              "      <td>BROOKLYN</td>\n",
              "      <td>Open</td>\n",
              "      <td>The following complaint conditions are still o...</td>\n",
              "      <td>BROOKLYN</td>\n",
              "      <td>40.618484</td>\n",
              "      <td>-73.992673</td>\n",
              "    </tr>\n",
              "    <tr>\n",
              "      <th>2</th>\n",
              "      <td>2</td>\n",
              "      <td>45527528</td>\n",
              "      <td>02/02/2020 02:27:41 AM</td>\n",
              "      <td>NaN</td>\n",
              "      <td>HEAT/HOT WATER</td>\n",
              "      <td>RESIDENTIAL BUILDING</td>\n",
              "      <td>11372.0</td>\n",
              "      <td>87-15 37 AVENUE</td>\n",
              "      <td>37 AVENUE</td>\n",
              "      <td>ADDRESS</td>\n",
              "      <td>Jackson Heights</td>\n",
              "      <td>Open</td>\n",
              "      <td>The following complaint conditions are still o...</td>\n",
              "      <td>QUEENS</td>\n",
              "      <td>40.750269</td>\n",
              "      <td>-73.879432</td>\n",
              "    </tr>\n",
              "    <tr>\n",
              "      <th>3</th>\n",
              "      <td>3</td>\n",
              "      <td>45530329</td>\n",
              "      <td>02/02/2020 12:13:18 PM</td>\n",
              "      <td>NaN</td>\n",
              "      <td>HEAT/HOT WATER</td>\n",
              "      <td>RESIDENTIAL BUILDING</td>\n",
              "      <td>10458.0</td>\n",
              "      <td>2405 SOUTHERN BOULEVARD</td>\n",
              "      <td>SOUTHERN BOULEVARD</td>\n",
              "      <td>ADDRESS</td>\n",
              "      <td>BRONX</td>\n",
              "      <td>Open</td>\n",
              "      <td>The following complaint conditions are still o...</td>\n",
              "      <td>BRONX</td>\n",
              "      <td>40.853773</td>\n",
              "      <td>-73.881558</td>\n",
              "    </tr>\n",
              "    <tr>\n",
              "      <th>4</th>\n",
              "      <td>4</td>\n",
              "      <td>45528814</td>\n",
              "      <td>02/02/2020 01:59:44 PM</td>\n",
              "      <td>NaN</td>\n",
              "      <td>APPLIANCE</td>\n",
              "      <td>RESIDENTIAL BUILDING</td>\n",
              "      <td>11209.0</td>\n",
              "      <td>223 78 STREET</td>\n",
              "      <td>78 STREET</td>\n",
              "      <td>ADDRESS</td>\n",
              "      <td>BROOKLYN</td>\n",
              "      <td>Open</td>\n",
              "      <td>The following complaint conditions are still o...</td>\n",
              "      <td>BROOKLYN</td>\n",
              "      <td>40.629745</td>\n",
              "      <td>-74.030533</td>\n",
              "    </tr>\n",
              "  </tbody>\n",
              "</table>\n",
              "</div>"
            ],
            "text/plain": [
              "   Unnamed: 0  Unique Key  ...   Latitude  Longitude\n",
              "0           0    45531130  ...  40.765132 -73.988993\n",
              "1           1    45529784  ...  40.618484 -73.992673\n",
              "2           2    45527528  ...  40.750269 -73.879432\n",
              "3           3    45530329  ...  40.853773 -73.881558\n",
              "4           4    45528814  ...  40.629745 -74.030533\n",
              "\n",
              "[5 rows x 16 columns]"
            ]
          },
          "metadata": {
            "tags": []
          },
          "execution_count": 1
        }
      ]
    },
    {
      "cell_type": "code",
      "metadata": {
        "id": "pUSiyEtGDGXO",
        "colab_type": "code",
        "colab": {
          "base_uri": "https://localhost:8080/",
          "height": 153
        },
        "outputId": "932d6b2f-d986-4506-f59e-d24a075cb74a"
      },
      "source": [
        "df[\"Complaint Type\"].unique() "
      ],
      "execution_count": null,
      "outputs": [
        {
          "output_type": "execute_result",
          "data": {
            "text/plain": [
              "array(['HEAT/HOT WATER', 'UNSANITARY CONDITION', 'APPLIANCE', 'GENERAL',\n",
              "       'ELECTRIC', 'PLUMBING', 'PAINT/PLASTER', 'WATER LEAK', 'SAFETY',\n",
              "       'DOOR/WINDOW', 'OUTSIDE BUILDING', 'ELEVATOR', 'FLOORING/STAIRS',\n",
              "       'Unsanitary Condition', 'HPD Literature Request', 'HEATING',\n",
              "       'PAINT - PLASTER', 'Safety', 'Electric', 'General', 'Appliance',\n",
              "       'GENERAL CONSTRUCTION', 'NONCONST', 'CONSTRUCTION', 'AGENCY',\n",
              "       'STRUCTURAL', 'VACANT APARTMENT', 'Outside Building', 'Plumbing',\n",
              "       'Mold'], dtype=object)"
            ]
          },
          "metadata": {
            "tags": []
          },
          "execution_count": 2
        }
      ]
    },
    {
      "cell_type": "code",
      "metadata": {
        "id": "ks5OtxLwCAxb",
        "colab_type": "code",
        "colab": {
          "base_uri": "https://localhost:8080/",
          "height": 34
        },
        "outputId": "ff6d34ca-a53f-4de2-d524-54d9766d0a42"
      },
      "source": [
        "print(df.shape)"
      ],
      "execution_count": null,
      "outputs": [
        {
          "output_type": "stream",
          "text": [
            "(6019843, 16)\n"
          ],
          "name": "stdout"
        }
      ]
    },
    {
      "cell_type": "code",
      "metadata": {
        "id": "hLllIkDhK03I",
        "colab_type": "code",
        "colab": {
          "base_uri": "https://localhost:8080/",
          "height": 861
        },
        "outputId": "115f13c8-1f11-42a3-a657-29d781bb8610"
      },
      "source": [
        "df.sort_values(by=[\"Created Date\"])"
      ],
      "execution_count": null,
      "outputs": [
        {
          "output_type": "execute_result",
          "data": {
            "text/html": [
              "<div>\n",
              "<style scoped>\n",
              "    .dataframe tbody tr th:only-of-type {\n",
              "        vertical-align: middle;\n",
              "    }\n",
              "\n",
              "    .dataframe tbody tr th {\n",
              "        vertical-align: top;\n",
              "    }\n",
              "\n",
              "    .dataframe thead th {\n",
              "        text-align: right;\n",
              "    }\n",
              "</style>\n",
              "<table border=\"1\" class=\"dataframe\">\n",
              "  <thead>\n",
              "    <tr style=\"text-align: right;\">\n",
              "      <th></th>\n",
              "      <th>Unnamed: 0</th>\n",
              "      <th>Unique Key</th>\n",
              "      <th>Created Date</th>\n",
              "      <th>Closed Date</th>\n",
              "      <th>Complaint Type</th>\n",
              "      <th>Location Type</th>\n",
              "      <th>Incident Zip</th>\n",
              "      <th>Incident Address</th>\n",
              "      <th>Street Name</th>\n",
              "      <th>Address Type</th>\n",
              "      <th>City</th>\n",
              "      <th>Status</th>\n",
              "      <th>Resolution Description</th>\n",
              "      <th>Borough</th>\n",
              "      <th>Latitude</th>\n",
              "      <th>Longitude</th>\n",
              "    </tr>\n",
              "  </thead>\n",
              "  <tbody>\n",
              "    <tr>\n",
              "      <th>177182</th>\n",
              "      <td>177182</td>\n",
              "      <td>15634460</td>\n",
              "      <td>01/01/2010 02:31:13 PM</td>\n",
              "      <td>01/02/2010 02:35:01 PM</td>\n",
              "      <td>HPD Literature Request</td>\n",
              "      <td>NaN</td>\n",
              "      <td>NaN</td>\n",
              "      <td>NaN</td>\n",
              "      <td>NaN</td>\n",
              "      <td>NaN</td>\n",
              "      <td>NaN</td>\n",
              "      <td>Closed</td>\n",
              "      <td>The literature will be emailed within 24 hours...</td>\n",
              "      <td>Unspecified</td>\n",
              "      <td>NaN</td>\n",
              "      <td>NaN</td>\n",
              "    </tr>\n",
              "    <tr>\n",
              "      <th>177179</th>\n",
              "      <td>177179</td>\n",
              "      <td>15634698</td>\n",
              "      <td>01/01/2010 02:39:02 PM</td>\n",
              "      <td>01/04/2010 01:20:45 PM</td>\n",
              "      <td>HPD Literature Request</td>\n",
              "      <td>NaN</td>\n",
              "      <td>NaN</td>\n",
              "      <td>NaN</td>\n",
              "      <td>NaN</td>\n",
              "      <td>NaN</td>\n",
              "      <td>NaN</td>\n",
              "      <td>Closed</td>\n",
              "      <td>The literature has been mailed. If it has not ...</td>\n",
              "      <td>Unspecified</td>\n",
              "      <td>NaN</td>\n",
              "      <td>NaN</td>\n",
              "    </tr>\n",
              "    <tr>\n",
              "      <th>177186</th>\n",
              "      <td>177186</td>\n",
              "      <td>15633862</td>\n",
              "      <td>01/01/2010 04:18:46 PM</td>\n",
              "      <td>01/04/2010 01:20:46 PM</td>\n",
              "      <td>HPD Literature Request</td>\n",
              "      <td>NaN</td>\n",
              "      <td>NaN</td>\n",
              "      <td>NaN</td>\n",
              "      <td>NaN</td>\n",
              "      <td>NaN</td>\n",
              "      <td>NaN</td>\n",
              "      <td>Closed</td>\n",
              "      <td>The literature has been mailed. If it has not ...</td>\n",
              "      <td>Unspecified</td>\n",
              "      <td>NaN</td>\n",
              "      <td>NaN</td>\n",
              "    </tr>\n",
              "    <tr>\n",
              "      <th>177188</th>\n",
              "      <td>177188</td>\n",
              "      <td>15633410</td>\n",
              "      <td>01/01/2010 04:59:23 PM</td>\n",
              "      <td>01/02/2010 05:02:49 PM</td>\n",
              "      <td>HPD Literature Request</td>\n",
              "      <td>NaN</td>\n",
              "      <td>NaN</td>\n",
              "      <td>NaN</td>\n",
              "      <td>NaN</td>\n",
              "      <td>NaN</td>\n",
              "      <td>NaN</td>\n",
              "      <td>Closed</td>\n",
              "      <td>The literature will be emailed within 24 hours...</td>\n",
              "      <td>Unspecified</td>\n",
              "      <td>NaN</td>\n",
              "      <td>NaN</td>\n",
              "    </tr>\n",
              "    <tr>\n",
              "      <th>177180</th>\n",
              "      <td>177180</td>\n",
              "      <td>15634558</td>\n",
              "      <td>01/01/2010 05:00:01 AM</td>\n",
              "      <td>01/04/2010 01:20:48 PM</td>\n",
              "      <td>HPD Literature Request</td>\n",
              "      <td>NaN</td>\n",
              "      <td>NaN</td>\n",
              "      <td>NaN</td>\n",
              "      <td>NaN</td>\n",
              "      <td>NaN</td>\n",
              "      <td>NaN</td>\n",
              "      <td>Closed</td>\n",
              "      <td>The literature has been mailed. If it has not ...</td>\n",
              "      <td>Unspecified</td>\n",
              "      <td>NaN</td>\n",
              "      <td>NaN</td>\n",
              "    </tr>\n",
              "    <tr>\n",
              "      <th>...</th>\n",
              "      <td>...</td>\n",
              "      <td>...</td>\n",
              "      <td>...</td>\n",
              "      <td>...</td>\n",
              "      <td>...</td>\n",
              "      <td>...</td>\n",
              "      <td>...</td>\n",
              "      <td>...</td>\n",
              "      <td>...</td>\n",
              "      <td>...</td>\n",
              "      <td>...</td>\n",
              "      <td>...</td>\n",
              "      <td>...</td>\n",
              "      <td>...</td>\n",
              "      <td>...</td>\n",
              "      <td>...</td>\n",
              "    </tr>\n",
              "    <tr>\n",
              "      <th>62668</th>\n",
              "      <td>62668</td>\n",
              "      <td>45284115</td>\n",
              "      <td>12/31/2019 12:57:51 AM</td>\n",
              "      <td>12/31/2019 09:21:04 PM</td>\n",
              "      <td>HEAT/HOT WATER</td>\n",
              "      <td>RESIDENTIAL BUILDING</td>\n",
              "      <td>11230.0</td>\n",
              "      <td>788 EAST   10 STREET</td>\n",
              "      <td>EAST   10 STREET</td>\n",
              "      <td>ADDRESS</td>\n",
              "      <td>BROOKLYN</td>\n",
              "      <td>Closed</td>\n",
              "      <td>The Department of Housing Preservation and Dev...</td>\n",
              "      <td>BROOKLYN</td>\n",
              "      <td>40.630019</td>\n",
              "      <td>-73.967198</td>\n",
              "    </tr>\n",
              "    <tr>\n",
              "      <th>76629</th>\n",
              "      <td>76629</td>\n",
              "      <td>45281616</td>\n",
              "      <td>12/31/2019 12:58:50 PM</td>\n",
              "      <td>NaN</td>\n",
              "      <td>WATER LEAK</td>\n",
              "      <td>RESIDENTIAL BUILDING</td>\n",
              "      <td>11377.0</td>\n",
              "      <td>41-42 66 STREET</td>\n",
              "      <td>66 STREET</td>\n",
              "      <td>ADDRESS</td>\n",
              "      <td>Woodside</td>\n",
              "      <td>Open</td>\n",
              "      <td>The following complaint conditions are still o...</td>\n",
              "      <td>QUEENS</td>\n",
              "      <td>40.743974</td>\n",
              "      <td>-73.898007</td>\n",
              "    </tr>\n",
              "    <tr>\n",
              "      <th>6410</th>\n",
              "      <td>6410</td>\n",
              "      <td>45284092</td>\n",
              "      <td>12/31/2019 12:59:01 PM</td>\n",
              "      <td>01/21/2020 09:01:40 AM</td>\n",
              "      <td>GENERAL</td>\n",
              "      <td>RESIDENTIAL BUILDING</td>\n",
              "      <td>10030.0</td>\n",
              "      <td>123 WEST  135 STREET</td>\n",
              "      <td>WEST  135 STREET</td>\n",
              "      <td>ADDRESS</td>\n",
              "      <td>NEW YORK</td>\n",
              "      <td>Closed</td>\n",
              "      <td>The Department of Housing Preservation and Dev...</td>\n",
              "      <td>MANHATTAN</td>\n",
              "      <td>40.814545</td>\n",
              "      <td>-73.941869</td>\n",
              "    </tr>\n",
              "    <tr>\n",
              "      <th>6764</th>\n",
              "      <td>6764</td>\n",
              "      <td>45280065</td>\n",
              "      <td>12/31/2019 12:59:06 PM</td>\n",
              "      <td>01/10/2020 01:42:41 PM</td>\n",
              "      <td>WATER LEAK</td>\n",
              "      <td>RESIDENTIAL BUILDING</td>\n",
              "      <td>10032.0</td>\n",
              "      <td>547 WEST  160 STREET</td>\n",
              "      <td>WEST  160 STREET</td>\n",
              "      <td>ADDRESS</td>\n",
              "      <td>NEW YORK</td>\n",
              "      <td>Closed</td>\n",
              "      <td>The Department of Housing Preservation and Dev...</td>\n",
              "      <td>MANHATTAN</td>\n",
              "      <td>40.835295</td>\n",
              "      <td>-73.941977</td>\n",
              "    </tr>\n",
              "    <tr>\n",
              "      <th>76613</th>\n",
              "      <td>76613</td>\n",
              "      <td>45282880</td>\n",
              "      <td>12/31/2019 12:59:12 PM</td>\n",
              "      <td>12/31/2019 04:24:32 PM</td>\n",
              "      <td>HEAT/HOT WATER</td>\n",
              "      <td>RESIDENTIAL BUILDING</td>\n",
              "      <td>10467.0</td>\n",
              "      <td>323 EAST GUN HILL ROAD</td>\n",
              "      <td>EAST GUN HILL ROAD</td>\n",
              "      <td>ADDRESS</td>\n",
              "      <td>BRONX</td>\n",
              "      <td>Closed</td>\n",
              "      <td>The Department of Housing Preservation and Dev...</td>\n",
              "      <td>BRONX</td>\n",
              "      <td>40.878914</td>\n",
              "      <td>-73.873713</td>\n",
              "    </tr>\n",
              "  </tbody>\n",
              "</table>\n",
              "<p>6019843 rows × 16 columns</p>\n",
              "</div>"
            ],
            "text/plain": [
              "        Unnamed: 0  Unique Key  ...   Latitude  Longitude\n",
              "177182      177182    15634460  ...        NaN        NaN\n",
              "177179      177179    15634698  ...        NaN        NaN\n",
              "177186      177186    15633862  ...        NaN        NaN\n",
              "177188      177188    15633410  ...        NaN        NaN\n",
              "177180      177180    15634558  ...        NaN        NaN\n",
              "...            ...         ...  ...        ...        ...\n",
              "62668        62668    45284115  ...  40.630019 -73.967198\n",
              "76629        76629    45281616  ...  40.743974 -73.898007\n",
              "6410          6410    45284092  ...  40.814545 -73.941869\n",
              "6764          6764    45280065  ...  40.835295 -73.941977\n",
              "76613        76613    45282880  ...  40.878914 -73.873713\n",
              "\n",
              "[6019843 rows x 16 columns]"
            ]
          },
          "metadata": {
            "tags": []
          },
          "execution_count": 4
        }
      ]
    },
    {
      "cell_type": "code",
      "metadata": {
        "id": "6zgv0l8EeV9j",
        "colab_type": "code",
        "colab": {
          "base_uri": "https://localhost:8080/",
          "height": 408
        },
        "outputId": "a54b1b8a-d1c8-47ef-8048-ce6f78c66637"
      },
      "source": [
        "df.info()"
      ],
      "execution_count": null,
      "outputs": [
        {
          "output_type": "stream",
          "text": [
            "<class 'pandas.core.frame.DataFrame'>\n",
            "RangeIndex: 6019843 entries, 0 to 6019842\n",
            "Data columns (total 16 columns):\n",
            " #   Column                  Dtype  \n",
            "---  ------                  -----  \n",
            " 0   Unnamed: 0              int64  \n",
            " 1   Unique Key              int64  \n",
            " 2   Created Date            object \n",
            " 3   Closed Date             object \n",
            " 4   Complaint Type          object \n",
            " 5   Location Type           object \n",
            " 6   Incident Zip            float64\n",
            " 7   Incident Address        object \n",
            " 8   Street Name             object \n",
            " 9   Address Type            object \n",
            " 10  City                    object \n",
            " 11  Status                  object \n",
            " 12  Resolution Description  object \n",
            " 13  Borough                 object \n",
            " 14  Latitude                float64\n",
            " 15  Longitude               float64\n",
            "dtypes: float64(3), int64(2), object(11)\n",
            "memory usage: 734.8+ MB\n"
          ],
          "name": "stdout"
        }
      ]
    },
    {
      "cell_type": "code",
      "metadata": {
        "id": "0zuDIbhHNyUU",
        "colab_type": "code",
        "colab": {
          "base_uri": "https://localhost:8080/",
          "height": 221
        },
        "outputId": "ff38b8a6-cc2b-4e23-fa69-93f4e0dc2a02"
      },
      "source": [
        "missing_data = df.isnull()\n",
        "missing_data.head()"
      ],
      "execution_count": null,
      "outputs": [
        {
          "output_type": "execute_result",
          "data": {
            "text/html": [
              "<div>\n",
              "<style scoped>\n",
              "    .dataframe tbody tr th:only-of-type {\n",
              "        vertical-align: middle;\n",
              "    }\n",
              "\n",
              "    .dataframe tbody tr th {\n",
              "        vertical-align: top;\n",
              "    }\n",
              "\n",
              "    .dataframe thead th {\n",
              "        text-align: right;\n",
              "    }\n",
              "</style>\n",
              "<table border=\"1\" class=\"dataframe\">\n",
              "  <thead>\n",
              "    <tr style=\"text-align: right;\">\n",
              "      <th></th>\n",
              "      <th>Unnamed: 0</th>\n",
              "      <th>Unique Key</th>\n",
              "      <th>Created Date</th>\n",
              "      <th>Closed Date</th>\n",
              "      <th>Complaint Type</th>\n",
              "      <th>Location Type</th>\n",
              "      <th>Incident Zip</th>\n",
              "      <th>Incident Address</th>\n",
              "      <th>Street Name</th>\n",
              "      <th>Address Type</th>\n",
              "      <th>City</th>\n",
              "      <th>Status</th>\n",
              "      <th>Resolution Description</th>\n",
              "      <th>Borough</th>\n",
              "      <th>Latitude</th>\n",
              "      <th>Longitude</th>\n",
              "    </tr>\n",
              "  </thead>\n",
              "  <tbody>\n",
              "    <tr>\n",
              "      <th>0</th>\n",
              "      <td>False</td>\n",
              "      <td>False</td>\n",
              "      <td>False</td>\n",
              "      <td>True</td>\n",
              "      <td>False</td>\n",
              "      <td>False</td>\n",
              "      <td>False</td>\n",
              "      <td>False</td>\n",
              "      <td>False</td>\n",
              "      <td>False</td>\n",
              "      <td>False</td>\n",
              "      <td>False</td>\n",
              "      <td>False</td>\n",
              "      <td>False</td>\n",
              "      <td>False</td>\n",
              "      <td>False</td>\n",
              "    </tr>\n",
              "    <tr>\n",
              "      <th>1</th>\n",
              "      <td>False</td>\n",
              "      <td>False</td>\n",
              "      <td>False</td>\n",
              "      <td>True</td>\n",
              "      <td>False</td>\n",
              "      <td>False</td>\n",
              "      <td>False</td>\n",
              "      <td>False</td>\n",
              "      <td>False</td>\n",
              "      <td>False</td>\n",
              "      <td>False</td>\n",
              "      <td>False</td>\n",
              "      <td>False</td>\n",
              "      <td>False</td>\n",
              "      <td>False</td>\n",
              "      <td>False</td>\n",
              "    </tr>\n",
              "    <tr>\n",
              "      <th>2</th>\n",
              "      <td>False</td>\n",
              "      <td>False</td>\n",
              "      <td>False</td>\n",
              "      <td>True</td>\n",
              "      <td>False</td>\n",
              "      <td>False</td>\n",
              "      <td>False</td>\n",
              "      <td>False</td>\n",
              "      <td>False</td>\n",
              "      <td>False</td>\n",
              "      <td>False</td>\n",
              "      <td>False</td>\n",
              "      <td>False</td>\n",
              "      <td>False</td>\n",
              "      <td>False</td>\n",
              "      <td>False</td>\n",
              "    </tr>\n",
              "    <tr>\n",
              "      <th>3</th>\n",
              "      <td>False</td>\n",
              "      <td>False</td>\n",
              "      <td>False</td>\n",
              "      <td>True</td>\n",
              "      <td>False</td>\n",
              "      <td>False</td>\n",
              "      <td>False</td>\n",
              "      <td>False</td>\n",
              "      <td>False</td>\n",
              "      <td>False</td>\n",
              "      <td>False</td>\n",
              "      <td>False</td>\n",
              "      <td>False</td>\n",
              "      <td>False</td>\n",
              "      <td>False</td>\n",
              "      <td>False</td>\n",
              "    </tr>\n",
              "    <tr>\n",
              "      <th>4</th>\n",
              "      <td>False</td>\n",
              "      <td>False</td>\n",
              "      <td>False</td>\n",
              "      <td>True</td>\n",
              "      <td>False</td>\n",
              "      <td>False</td>\n",
              "      <td>False</td>\n",
              "      <td>False</td>\n",
              "      <td>False</td>\n",
              "      <td>False</td>\n",
              "      <td>False</td>\n",
              "      <td>False</td>\n",
              "      <td>False</td>\n",
              "      <td>False</td>\n",
              "      <td>False</td>\n",
              "      <td>False</td>\n",
              "    </tr>\n",
              "  </tbody>\n",
              "</table>\n",
              "</div>"
            ],
            "text/plain": [
              "   Unnamed: 0  Unique Key  Created Date  ...  Borough  Latitude  Longitude\n",
              "0       False       False         False  ...    False     False      False\n",
              "1       False       False         False  ...    False     False      False\n",
              "2       False       False         False  ...    False     False      False\n",
              "3       False       False         False  ...    False     False      False\n",
              "4       False       False         False  ...    False     False      False\n",
              "\n",
              "[5 rows x 16 columns]"
            ]
          },
          "metadata": {
            "tags": []
          },
          "execution_count": 6
        }
      ]
    },
    {
      "cell_type": "code",
      "metadata": {
        "id": "ojXZqgcjODIv",
        "colab_type": "code",
        "colab": {
          "base_uri": "https://localhost:8080/",
          "height": 1000
        },
        "outputId": "15c2500b-c492-47a3-c343-abe49b555308"
      },
      "source": [
        "for column in missing_data.columns.values.tolist(): \n",
        "    print(column) \n",
        "    print (missing_data[column].value_counts()) \n",
        "    print(\"\")     "
      ],
      "execution_count": null,
      "outputs": [
        {
          "output_type": "stream",
          "text": [
            "Unnamed: 0\n",
            "False    6019843\n",
            "Name: Unnamed: 0, dtype: int64\n",
            "\n",
            "Unique Key\n",
            "False    6019843\n",
            "Name: Unique Key, dtype: int64\n",
            "\n",
            "Created Date\n",
            "False    6019843\n",
            "Name: Created Date, dtype: int64\n",
            "\n",
            "Closed Date\n",
            "False    5893186\n",
            "True      126657\n",
            "Name: Closed Date, dtype: int64\n",
            "\n",
            "Complaint Type\n",
            "False    6019843\n",
            "Name: Complaint Type, dtype: int64\n",
            "\n",
            "Location Type\n",
            "False    5967019\n",
            "True       52824\n",
            "Name: Location Type, dtype: int64\n",
            "\n",
            "Incident Zip\n",
            "False    5939146\n",
            "True       80697\n",
            "Name: Incident Zip, dtype: int64\n",
            "\n",
            "Incident Address\n",
            "False    5967018\n",
            "True       52825\n",
            "Name: Incident Address, dtype: int64\n",
            "\n",
            "Street Name\n",
            "False    5967018\n",
            "True       52825\n",
            "Name: Street Name, dtype: int64\n",
            "\n",
            "Address Type\n",
            "False    5935078\n",
            "True       84765\n",
            "Name: Address Type, dtype: int64\n",
            "\n",
            "City\n",
            "False    5939569\n",
            "True       80274\n",
            "Name: City, dtype: int64\n",
            "\n",
            "Status\n",
            "False    6019843\n",
            "Name: Status, dtype: int64\n",
            "\n",
            "Resolution Description\n",
            "False    6012017\n",
            "True        7826\n",
            "Name: Resolution Description, dtype: int64\n",
            "\n",
            "Borough\n",
            "False    6019843\n",
            "Name: Borough, dtype: int64\n",
            "\n",
            "Latitude\n",
            "False    5939172\n",
            "True       80671\n",
            "Name: Latitude, dtype: int64\n",
            "\n",
            "Longitude\n",
            "False    5939172\n",
            "True       80671\n",
            "Name: Longitude, dtype: int64\n",
            "\n"
          ],
          "name": "stdout"
        }
      ]
    },
    {
      "cell_type": "code",
      "metadata": {
        "id": "EFeRVq2VbJT-",
        "colab_type": "code",
        "colab": {
          "base_uri": "https://localhost:8080/",
          "height": 34
        },
        "outputId": "a2bf7088-5b62-41eb-80d6-5c45391922de"
      },
      "source": [
        "# examine the types of the column labels\n",
        "all(isinstance(column, str) for column in df.columns)"
      ],
      "execution_count": null,
      "outputs": [
        {
          "output_type": "execute_result",
          "data": {
            "text/plain": [
              "True"
            ]
          },
          "metadata": {
            "tags": []
          },
          "execution_count": 8
        }
      ]
    },
    {
      "cell_type": "code",
      "metadata": {
        "id": "AkEyhWfnbnlD",
        "colab_type": "code",
        "colab": {
          "base_uri": "https://localhost:8080/",
          "height": 391
        },
        "outputId": "601eb385-1ee4-457b-e81b-592b499b5709"
      },
      "source": [
        "df.drop(['Unnamed: 0'], axis=1, inplace=True)\n",
        "\n",
        "# view the first five elements and see how the dataframe was changed\n",
        "df.head()"
      ],
      "execution_count": null,
      "outputs": [
        {
          "output_type": "execute_result",
          "data": {
            "text/html": [
              "<div>\n",
              "<style scoped>\n",
              "    .dataframe tbody tr th:only-of-type {\n",
              "        vertical-align: middle;\n",
              "    }\n",
              "\n",
              "    .dataframe tbody tr th {\n",
              "        vertical-align: top;\n",
              "    }\n",
              "\n",
              "    .dataframe thead th {\n",
              "        text-align: right;\n",
              "    }\n",
              "</style>\n",
              "<table border=\"1\" class=\"dataframe\">\n",
              "  <thead>\n",
              "    <tr style=\"text-align: right;\">\n",
              "      <th></th>\n",
              "      <th>Unique Key</th>\n",
              "      <th>Created Date</th>\n",
              "      <th>Closed Date</th>\n",
              "      <th>Complaint Type</th>\n",
              "      <th>Location Type</th>\n",
              "      <th>Incident Zip</th>\n",
              "      <th>Incident Address</th>\n",
              "      <th>Street Name</th>\n",
              "      <th>Address Type</th>\n",
              "      <th>City</th>\n",
              "      <th>Status</th>\n",
              "      <th>Resolution Description</th>\n",
              "      <th>Borough</th>\n",
              "      <th>Latitude</th>\n",
              "      <th>Longitude</th>\n",
              "    </tr>\n",
              "  </thead>\n",
              "  <tbody>\n",
              "    <tr>\n",
              "      <th>0</th>\n",
              "      <td>45531130</td>\n",
              "      <td>02/02/2020 06:09:17 AM</td>\n",
              "      <td>NaN</td>\n",
              "      <td>HEAT/HOT WATER</td>\n",
              "      <td>RESIDENTIAL BUILDING</td>\n",
              "      <td>10019.0</td>\n",
              "      <td>426 WEST   52 STREET</td>\n",
              "      <td>WEST   52 STREET</td>\n",
              "      <td>ADDRESS</td>\n",
              "      <td>NEW YORK</td>\n",
              "      <td>Open</td>\n",
              "      <td>The following complaint conditions are still o...</td>\n",
              "      <td>MANHATTAN</td>\n",
              "      <td>40.765132</td>\n",
              "      <td>-73.988993</td>\n",
              "    </tr>\n",
              "    <tr>\n",
              "      <th>1</th>\n",
              "      <td>45529784</td>\n",
              "      <td>02/02/2020 02:15:24 PM</td>\n",
              "      <td>NaN</td>\n",
              "      <td>UNSANITARY CONDITION</td>\n",
              "      <td>RESIDENTIAL BUILDING</td>\n",
              "      <td>11204.0</td>\n",
              "      <td>1751 67 STREET</td>\n",
              "      <td>67 STREET</td>\n",
              "      <td>ADDRESS</td>\n",
              "      <td>BROOKLYN</td>\n",
              "      <td>Open</td>\n",
              "      <td>The following complaint conditions are still o...</td>\n",
              "      <td>BROOKLYN</td>\n",
              "      <td>40.618484</td>\n",
              "      <td>-73.992673</td>\n",
              "    </tr>\n",
              "    <tr>\n",
              "      <th>2</th>\n",
              "      <td>45527528</td>\n",
              "      <td>02/02/2020 02:27:41 AM</td>\n",
              "      <td>NaN</td>\n",
              "      <td>HEAT/HOT WATER</td>\n",
              "      <td>RESIDENTIAL BUILDING</td>\n",
              "      <td>11372.0</td>\n",
              "      <td>87-15 37 AVENUE</td>\n",
              "      <td>37 AVENUE</td>\n",
              "      <td>ADDRESS</td>\n",
              "      <td>Jackson Heights</td>\n",
              "      <td>Open</td>\n",
              "      <td>The following complaint conditions are still o...</td>\n",
              "      <td>QUEENS</td>\n",
              "      <td>40.750269</td>\n",
              "      <td>-73.879432</td>\n",
              "    </tr>\n",
              "    <tr>\n",
              "      <th>3</th>\n",
              "      <td>45530329</td>\n",
              "      <td>02/02/2020 12:13:18 PM</td>\n",
              "      <td>NaN</td>\n",
              "      <td>HEAT/HOT WATER</td>\n",
              "      <td>RESIDENTIAL BUILDING</td>\n",
              "      <td>10458.0</td>\n",
              "      <td>2405 SOUTHERN BOULEVARD</td>\n",
              "      <td>SOUTHERN BOULEVARD</td>\n",
              "      <td>ADDRESS</td>\n",
              "      <td>BRONX</td>\n",
              "      <td>Open</td>\n",
              "      <td>The following complaint conditions are still o...</td>\n",
              "      <td>BRONX</td>\n",
              "      <td>40.853773</td>\n",
              "      <td>-73.881558</td>\n",
              "    </tr>\n",
              "    <tr>\n",
              "      <th>4</th>\n",
              "      <td>45528814</td>\n",
              "      <td>02/02/2020 01:59:44 PM</td>\n",
              "      <td>NaN</td>\n",
              "      <td>APPLIANCE</td>\n",
              "      <td>RESIDENTIAL BUILDING</td>\n",
              "      <td>11209.0</td>\n",
              "      <td>223 78 STREET</td>\n",
              "      <td>78 STREET</td>\n",
              "      <td>ADDRESS</td>\n",
              "      <td>BROOKLYN</td>\n",
              "      <td>Open</td>\n",
              "      <td>The following complaint conditions are still o...</td>\n",
              "      <td>BROOKLYN</td>\n",
              "      <td>40.629745</td>\n",
              "      <td>-74.030533</td>\n",
              "    </tr>\n",
              "  </tbody>\n",
              "</table>\n",
              "</div>"
            ],
            "text/plain": [
              "   Unique Key            Created Date  ...   Latitude  Longitude\n",
              "0    45531130  02/02/2020 06:09:17 AM  ...  40.765132 -73.988993\n",
              "1    45529784  02/02/2020 02:15:24 PM  ...  40.618484 -73.992673\n",
              "2    45527528  02/02/2020 02:27:41 AM  ...  40.750269 -73.879432\n",
              "3    45530329  02/02/2020 12:13:18 PM  ...  40.853773 -73.881558\n",
              "4    45528814  02/02/2020 01:59:44 PM  ...  40.629745 -74.030533\n",
              "\n",
              "[5 rows x 15 columns]"
            ]
          },
          "metadata": {
            "tags": []
          },
          "execution_count": 9
        }
      ]
    },
    {
      "cell_type": "code",
      "metadata": {
        "id": "V2tBE2Dpj-cy",
        "colab_type": "code",
        "colab": {}
      },
      "source": [
        "import matplotlib as mpl\n",
        "import matplotlib.pyplot as plt"
      ],
      "execution_count": null,
      "outputs": []
    },
    {
      "cell_type": "code",
      "metadata": {
        "id": "M5kKDPaOR4E1",
        "colab_type": "code",
        "colab": {
          "base_uri": "https://localhost:8080/",
          "height": 572
        },
        "outputId": "0769a194-18e1-4d2d-d8a1-8fba7d7f0d2f"
      },
      "source": [
        "res = df[\"Resolution Description\"].value_counts().to_frame()\n",
        "res"
      ],
      "execution_count": null,
      "outputs": [
        {
          "output_type": "execute_result",
          "data": {
            "text/html": [
              "<div>\n",
              "<style scoped>\n",
              "    .dataframe tbody tr th:only-of-type {\n",
              "        vertical-align: middle;\n",
              "    }\n",
              "\n",
              "    .dataframe tbody tr th {\n",
              "        vertical-align: top;\n",
              "    }\n",
              "\n",
              "    .dataframe thead th {\n",
              "        text-align: right;\n",
              "    }\n",
              "</style>\n",
              "<table border=\"1\" class=\"dataframe\">\n",
              "  <thead>\n",
              "    <tr style=\"text-align: right;\">\n",
              "      <th></th>\n",
              "      <th>Resolution Description</th>\n",
              "    </tr>\n",
              "  </thead>\n",
              "  <tbody>\n",
              "    <tr>\n",
              "      <th>The Department of Housing Preservation and Development inspected the following conditions. No violations were issued. The complaint has been closed.</th>\n",
              "      <td>1698990</td>\n",
              "    </tr>\n",
              "    <tr>\n",
              "      <th>The Department of Housing Preservation and Development inspected the following conditions. Violations were issued. Information about specific violations is available at www.nyc.gov/hpd.</th>\n",
              "      <td>1024579</td>\n",
              "    </tr>\n",
              "    <tr>\n",
              "      <th>The Department of Housing Preservation and Development was not able to gain access to inspect the following conditions. The complaint has been closed. If the condition still exists, please file a new complaint.</th>\n",
              "      <td>821533</td>\n",
              "    </tr>\n",
              "    <tr>\n",
              "      <th>The complaint you filed is a duplicate of a condition already reported by another tenant for a building-wide condition. The original complaint is still open. HPD may attempt to contact you to verify the correction of the condition or may conduct an inspection of your unit if the original complainant is not available for verification.</th>\n",
              "      <td>478553</td>\n",
              "    </tr>\n",
              "    <tr>\n",
              "      <th>The Department of Housing Preservation and Development responded to a complaint of no heat or hot water and was advised by a tenant in the building that heat and hot water had been restored. If the condition still exists, please file a new complaint.</th>\n",
              "      <td>417001</td>\n",
              "    </tr>\n",
              "    <tr>\n",
              "      <th>...</th>\n",
              "      <td>...</td>\n",
              "    </tr>\n",
              "    <tr>\n",
              "      <th>More than one complaint was received for this building-wide condition.This complaint status is for the initial complaint.The Department of Housing Preservation and Development inspected the following conditions. Violations were previously issued for these conditions. Information about specific violations is available at w</th>\n",
              "      <td>1</td>\n",
              "    </tr>\n",
              "    <tr>\n",
              "      <th>More than one complaint was received for this building-wide condition.This complaint status is for the initial complaint.The Department of Housing Preservation and Development responded to a complaint of no heat or hot water and was advised by a tenant in the building that heat and hot water had been restored. If the condit</th>\n",
              "      <td>1</td>\n",
              "    </tr>\n",
              "    <tr>\n",
              "      <th>More than one complaint was received for this building-wide condition.This complaint status is for the initial complaint.The Department of Housing Preservation and Development inspected the following conditions. Violations were previously issued for these conditions. Information about specific violations is available at www.nyc.g</th>\n",
              "      <td>1</td>\n",
              "    </tr>\n",
              "    <tr>\n",
              "      <th>More than one complaint was received for this building-wide condition.This complaint status is for the initial complaint.The Department of Housing Preservation and Development responded to a complaint of no heat or hot water. Heat was not required at the time of the inspection. No violations were issued. If the condition still exists, please file a</th>\n",
              "      <td>1</td>\n",
              "    </tr>\n",
              "    <tr>\n",
              "      <th>More than one complaint was received for this building-wide condition.This complaint status is for the initial complaint.The Department of Housing Preservation and Development responded to a complaint of no heat or hot water and was advised by a tenant in the building that heat and hot water had been restored. If the condition</th>\n",
              "      <td>1</td>\n",
              "    </tr>\n",
              "  </tbody>\n",
              "</table>\n",
              "<p>340 rows × 1 columns</p>\n",
              "</div>"
            ],
            "text/plain": [
              "                                                    Resolution Description\n",
              "The Department of Housing Preservation and Deve...                 1698990\n",
              "The Department of Housing Preservation and Deve...                 1024579\n",
              "The Department of Housing Preservation and Deve...                  821533\n",
              "The complaint you filed is a duplicate of a con...                  478553\n",
              "The Department of Housing Preservation and Deve...                  417001\n",
              "...                                                                    ...\n",
              "More than one complaint was received for this b...                       1\n",
              "More than one complaint was received for this b...                       1\n",
              "More than one complaint was received for this b...                       1\n",
              "More than one complaint was received for this b...                       1\n",
              "More than one complaint was received for this b...                       1\n",
              "\n",
              "[340 rows x 1 columns]"
            ]
          },
          "metadata": {
            "tags": []
          },
          "execution_count": 11
        }
      ]
    },
    {
      "cell_type": "code",
      "metadata": {
        "id": "yfIP1SIfmpaX",
        "colab_type": "code",
        "colab": {
          "base_uri": "https://localhost:8080/",
          "height": 979
        },
        "outputId": "16b2e987-e7fb-4841-b98b-63f7084076b6"
      },
      "source": [
        "complaint = df[\"Complaint Type\"].value_counts().to_frame()\n",
        "complaint"
      ],
      "execution_count": null,
      "outputs": [
        {
          "output_type": "execute_result",
          "data": {
            "text/html": [
              "<div>\n",
              "<style scoped>\n",
              "    .dataframe tbody tr th:only-of-type {\n",
              "        vertical-align: middle;\n",
              "    }\n",
              "\n",
              "    .dataframe tbody tr th {\n",
              "        vertical-align: top;\n",
              "    }\n",
              "\n",
              "    .dataframe thead th {\n",
              "        text-align: right;\n",
              "    }\n",
              "</style>\n",
              "<table border=\"1\" class=\"dataframe\">\n",
              "  <thead>\n",
              "    <tr style=\"text-align: right;\">\n",
              "      <th></th>\n",
              "      <th>Complaint Type</th>\n",
              "    </tr>\n",
              "  </thead>\n",
              "  <tbody>\n",
              "    <tr>\n",
              "      <th>HEAT/HOT WATER</th>\n",
              "      <td>1261574</td>\n",
              "    </tr>\n",
              "    <tr>\n",
              "      <th>HEATING</th>\n",
              "      <td>887850</td>\n",
              "    </tr>\n",
              "    <tr>\n",
              "      <th>PLUMBING</th>\n",
              "      <td>711130</td>\n",
              "    </tr>\n",
              "    <tr>\n",
              "      <th>GENERAL CONSTRUCTION</th>\n",
              "      <td>500863</td>\n",
              "    </tr>\n",
              "    <tr>\n",
              "      <th>UNSANITARY CONDITION</th>\n",
              "      <td>451643</td>\n",
              "    </tr>\n",
              "    <tr>\n",
              "      <th>PAINT - PLASTER</th>\n",
              "      <td>361257</td>\n",
              "    </tr>\n",
              "    <tr>\n",
              "      <th>PAINT/PLASTER</th>\n",
              "      <td>346438</td>\n",
              "    </tr>\n",
              "    <tr>\n",
              "      <th>ELECTRIC</th>\n",
              "      <td>307310</td>\n",
              "    </tr>\n",
              "    <tr>\n",
              "      <th>NONCONST</th>\n",
              "      <td>260890</td>\n",
              "    </tr>\n",
              "    <tr>\n",
              "      <th>DOOR/WINDOW</th>\n",
              "      <td>205278</td>\n",
              "    </tr>\n",
              "    <tr>\n",
              "      <th>WATER LEAK</th>\n",
              "      <td>193631</td>\n",
              "    </tr>\n",
              "    <tr>\n",
              "      <th>GENERAL</th>\n",
              "      <td>151308</td>\n",
              "    </tr>\n",
              "    <tr>\n",
              "      <th>FLOORING/STAIRS</th>\n",
              "      <td>137402</td>\n",
              "    </tr>\n",
              "    <tr>\n",
              "      <th>APPLIANCE</th>\n",
              "      <td>112831</td>\n",
              "    </tr>\n",
              "    <tr>\n",
              "      <th>HPD Literature Request</th>\n",
              "      <td>52824</td>\n",
              "    </tr>\n",
              "    <tr>\n",
              "      <th>SAFETY</th>\n",
              "      <td>51529</td>\n",
              "    </tr>\n",
              "    <tr>\n",
              "      <th>OUTSIDE BUILDING</th>\n",
              "      <td>7142</td>\n",
              "    </tr>\n",
              "    <tr>\n",
              "      <th>ELEVATOR</th>\n",
              "      <td>6725</td>\n",
              "    </tr>\n",
              "    <tr>\n",
              "      <th>Unsanitary Condition</th>\n",
              "      <td>5499</td>\n",
              "    </tr>\n",
              "    <tr>\n",
              "      <th>CONSTRUCTION</th>\n",
              "      <td>5078</td>\n",
              "    </tr>\n",
              "    <tr>\n",
              "      <th>General</th>\n",
              "      <td>1163</td>\n",
              "    </tr>\n",
              "    <tr>\n",
              "      <th>Safety</th>\n",
              "      <td>424</td>\n",
              "    </tr>\n",
              "    <tr>\n",
              "      <th>STRUCTURAL</th>\n",
              "      <td>16</td>\n",
              "    </tr>\n",
              "    <tr>\n",
              "      <th>Plumbing</th>\n",
              "      <td>11</td>\n",
              "    </tr>\n",
              "    <tr>\n",
              "      <th>AGENCY</th>\n",
              "      <td>9</td>\n",
              "    </tr>\n",
              "    <tr>\n",
              "      <th>Outside Building</th>\n",
              "      <td>6</td>\n",
              "    </tr>\n",
              "    <tr>\n",
              "      <th>VACANT APARTMENT</th>\n",
              "      <td>6</td>\n",
              "    </tr>\n",
              "    <tr>\n",
              "      <th>Appliance</th>\n",
              "      <td>4</td>\n",
              "    </tr>\n",
              "    <tr>\n",
              "      <th>Mold</th>\n",
              "      <td>1</td>\n",
              "    </tr>\n",
              "    <tr>\n",
              "      <th>Electric</th>\n",
              "      <td>1</td>\n",
              "    </tr>\n",
              "  </tbody>\n",
              "</table>\n",
              "</div>"
            ],
            "text/plain": [
              "                        Complaint Type\n",
              "HEAT/HOT WATER                 1261574\n",
              "HEATING                         887850\n",
              "PLUMBING                        711130\n",
              "GENERAL CONSTRUCTION            500863\n",
              "UNSANITARY CONDITION            451643\n",
              "PAINT - PLASTER                 361257\n",
              "PAINT/PLASTER                   346438\n",
              "ELECTRIC                        307310\n",
              "NONCONST                        260890\n",
              "DOOR/WINDOW                     205278\n",
              "WATER LEAK                      193631\n",
              "GENERAL                         151308\n",
              "FLOORING/STAIRS                 137402\n",
              "APPLIANCE                       112831\n",
              "HPD Literature Request           52824\n",
              "SAFETY                           51529\n",
              "OUTSIDE BUILDING                  7142\n",
              "ELEVATOR                          6725\n",
              "Unsanitary Condition              5499\n",
              "CONSTRUCTION                      5078\n",
              "General                           1163\n",
              "Safety                             424\n",
              "STRUCTURAL                          16\n",
              "Plumbing                            11\n",
              "AGENCY                               9\n",
              "Outside Building                     6\n",
              "VACANT APARTMENT                     6\n",
              "Appliance                            4\n",
              "Mold                                 1\n",
              "Electric                             1"
            ]
          },
          "metadata": {
            "tags": []
          },
          "execution_count": 12
        }
      ]
    },
    {
      "cell_type": "code",
      "metadata": {
        "id": "cY3zWV2IntsW",
        "colab_type": "code",
        "colab": {
          "base_uri": "https://localhost:8080/",
          "height": 136
        },
        "outputId": "44dbf6b7-3df0-4ed1-f559-19799884ccd9"
      },
      "source": [
        "most_area = df[\"Borough\"].value_counts()\n",
        "most_area\n",
        "\n"
      ],
      "execution_count": null,
      "outputs": [
        {
          "output_type": "execute_result",
          "data": {
            "text/plain": [
              "BROOKLYN         1739886\n",
              "BRONX            1617956\n",
              "MANHATTAN        1055225\n",
              "Unspecified       873221\n",
              "QUEENS            645971\n",
              "STATEN ISLAND      87584\n",
              "Name: Borough, dtype: int64"
            ]
          },
          "metadata": {
            "tags": []
          },
          "execution_count": 13
        }
      ]
    },
    {
      "cell_type": "code",
      "metadata": {
        "id": "wsEu1cd_JM2q",
        "colab_type": "code",
        "colab": {
          "base_uri": "https://localhost:8080/",
          "height": 221
        },
        "outputId": "9bee2fab-4238-4e90-ed6b-7d0e90a99a81"
      },
      "source": [
        "created = df[\"Created Date\"].value_counts()\n",
        "created\n"
      ],
      "execution_count": null,
      "outputs": [
        {
          "output_type": "execute_result",
          "data": {
            "text/plain": [
              "01/24/2013 12:00:00 AM    7581\n",
              "01/08/2015 12:00:00 AM    7175\n",
              "01/07/2014 12:00:00 AM    6984\n",
              "02/16/2015 12:00:00 AM    6382\n",
              "01/08/2014 12:00:00 AM    6153\n",
              "                          ... \n",
              "12/29/2016 02:46:32 PM       1\n",
              "08/07/2018 10:39:07 AM       1\n",
              "08/15/2015 12:47:06 PM       1\n",
              "05/25/2017 03:57:01 PM       1\n",
              "05/09/2018 11:47:30 PM       1\n",
              "Name: Created Date, Length: 1675132, dtype: int64"
            ]
          },
          "metadata": {
            "tags": []
          },
          "execution_count": 14
        }
      ]
    },
    {
      "cell_type": "code",
      "metadata": {
        "id": "T54MoBNAoZ3w",
        "colab_type": "code",
        "colab": {
          "base_uri": "https://localhost:8080/",
          "height": 51
        },
        "outputId": "6143c9f7-48a7-4f2d-a5df-ed8232b58ef3"
      },
      "source": [
        "import seaborn as sns\n",
        "import numpy as np"
      ],
      "execution_count": null,
      "outputs": [
        {
          "output_type": "stream",
          "text": [
            "/usr/local/lib/python3.6/dist-packages/statsmodels/tools/_testing.py:19: FutureWarning: pandas.util.testing is deprecated. Use the functions in the public API at pandas.testing instead.\n",
            "  import pandas.util.testing as tm\n"
          ],
          "name": "stderr"
        }
      ]
    },
    {
      "cell_type": "code",
      "metadata": {
        "id": "YxunZZQyJrxg",
        "colab_type": "code",
        "colab": {
          "base_uri": "https://localhost:8080/",
          "height": 119
        },
        "outputId": "50d2540b-38bf-48b8-b2c0-7346a0ed8908"
      },
      "source": [
        "df[\"Created Date\"].tail()"
      ],
      "execution_count": null,
      "outputs": [
        {
          "output_type": "execute_result",
          "data": {
            "text/plain": [
              "6019838    10/15/2019 10:35:45 AM\n",
              "6019839    10/15/2019 06:09:28 AM\n",
              "6019840    10/15/2019 10:54:45 AM\n",
              "6019841    10/15/2019 02:07:34 PM\n",
              "6019842    10/15/2019 11:29:01 AM\n",
              "Name: Created Date, dtype: object"
            ]
          },
          "metadata": {
            "tags": []
          },
          "execution_count": 16
        }
      ]
    },
    {
      "cell_type": "code",
      "metadata": {
        "id": "MkRmeBPypD_8",
        "colab_type": "code",
        "colab": {
          "base_uri": "https://localhost:8080/",
          "height": 119
        },
        "outputId": "8098f9c7-7844-486b-e517-2c3373ed8975"
      },
      "source": [
        "location_type = df[\"Location Type\"].value_counts()\n",
        "location_type"
      ],
      "execution_count": null,
      "outputs": [
        {
          "output_type": "execute_result",
          "data": {
            "text/plain": [
              "RESIDENTIAL BUILDING    5959910\n",
              "Residential Building       7098\n",
              "Apartment                     5\n",
              "Building-Wide                 4\n",
              "Public Area                   2\n",
              "Name: Location Type, dtype: int64"
            ]
          },
          "metadata": {
            "tags": []
          },
          "execution_count": 17
        }
      ]
    },
    {
      "cell_type": "code",
      "metadata": {
        "id": "ctC4OVFJpvn-",
        "colab_type": "code",
        "colab": {
          "base_uri": "https://localhost:8080/",
          "height": 221
        },
        "outputId": "c19e3620-39f8-42fb-ad6c-03b11e573492"
      },
      "source": [
        "city_types = df[\"City\"].value_counts()\n",
        "city_types"
      ],
      "execution_count": null,
      "outputs": [
        {
          "output_type": "execute_result",
          "data": {
            "text/plain": [
              "BROOKLYN         2026580\n",
              "BRONX            1860522\n",
              "NEW YORK         1204417\n",
              "STATEN ISLAND     101553\n",
              "Jamaica            65977\n",
              "                  ...   \n",
              "Floral Park          208\n",
              "New Hyde Park         90\n",
              "FLORAL PARK           79\n",
              "BREEZY POINT          53\n",
              "NEW HYDE PARK         22\n",
              "Name: City, Length: 89, dtype: int64"
            ]
          },
          "metadata": {
            "tags": []
          },
          "execution_count": 18
        }
      ]
    },
    {
      "cell_type": "code",
      "metadata": {
        "id": "CwOeRmGGqhkI",
        "colab_type": "code",
        "colab": {
          "base_uri": "https://localhost:8080/",
          "height": 730
        },
        "outputId": "a1daf446-8972-40ab-de00-fc22b455535d"
      },
      "source": [
        "most_area.plot(kind='barh', figsize=(12, 12), color='steelblue')\n",
        "plt.ylabel(\"Borough\")\n",
        "plt.xlabel(\"Complaints\")\n",
        "plt.title(\"which Borough Makes The Most Complaints\")\n",
        "plt.show()"
      ],
      "execution_count": null,
      "outputs": [
        {
          "output_type": "display_data",
          "data": {
            "image/png": "[encoded data removed]",
            "text/plain": [
              "<Figure size 864x864 with 1 Axes>"
            ]
          },
          "metadata": {
            "tags": [],
            "needs_background": "light"
          }
        }
      ]
    },
    {
      "cell_type": "code",
      "metadata": {
        "id": "Pj9JfWtivLqz",
        "colab_type": "code",
        "colab": {
          "base_uri": "https://localhost:8080/",
          "height": 730
        },
        "outputId": "c7e2bff6-a7f5-43a4-a0ba-0c4a97beab39"
      },
      "source": [
        "complaint.plot(kind='barh', figsize=(12, 12), color='steelblue')\n",
        "plt.ylabel(\"Complint type\")\n",
        "plt.xlabel(\"Number of complaints\")\n",
        "plt.title(\"Types of complaints\")\n",
        "plt.show()"
      ],
      "execution_count": null,
      "outputs": [
        {
          "output_type": "display_data",
          "data": {
            "image/png": "[encoded data removed]",
            "text/plain": [
              "<Figure size 864x864 with 1 Axes>"
            ]
          },
          "metadata": {
            "tags": [],
            "needs_background": "light"
          }
        }
      ]
    },
    {
      "cell_type": "code",
      "metadata": {
        "id": "V4BXHAmvv3bG",
        "colab_type": "code",
        "colab": {
          "base_uri": "https://localhost:8080/",
          "height": 730
        },
        "outputId": "f7aa6d2d-23cd-4140-e166-2b3033926fc4"
      },
      "source": [
        "location_type.plot(kind='barh', figsize=(12, 12), color='steelblue')\n",
        "plt.ylabel(\"Type of Building\")\n",
        "plt.xlabel(\"Number of accomodation\")\n",
        "plt.title(\"which Building Type Makes The Most Complaints\")\n",
        "plt.show()"
      ],
      "execution_count": null,
      "outputs": [
        {
          "output_type": "display_data",
          "data": {
            "image/png": "[encoded data removed]",
            "text/plain": [
              "<Figure size 864x864 with 1 Axes>"
            ]
          },
          "metadata": {
            "tags": [],
            "needs_background": "light"
          }
        }
      ]
    },
    {
      "cell_type": "code",
      "metadata": {
        "id": "m8IdwcUCwQyq",
        "colab_type": "code",
        "colab": {
          "base_uri": "https://localhost:8080/",
          "height": 289
        },
        "outputId": "bbbb2d6e-d5a7-43a1-f430-137f48632ad9"
      },
      "source": [
        "df.dtypes"
      ],
      "execution_count": null,
      "outputs": [
        {
          "output_type": "execute_result",
          "data": {
            "text/plain": [
              "Unique Key                  int64\n",
              "Created Date               object\n",
              "Closed Date                object\n",
              "Complaint Type             object\n",
              "Location Type              object\n",
              "Incident Zip              float64\n",
              "Incident Address           object\n",
              "Street Name                object\n",
              "Address Type               object\n",
              "City                       object\n",
              "Status                     object\n",
              "Resolution Description     object\n",
              "Borough                    object\n",
              "Latitude                  float64\n",
              "Longitude                 float64\n",
              "dtype: object"
            ]
          },
          "metadata": {
            "tags": []
          },
          "execution_count": 22
        }
      ]
    },
    {
      "cell_type": "code",
      "metadata": {
        "id": "Ea2qcYVpxC6K",
        "colab_type": "code",
        "colab": {
          "base_uri": "https://localhost:8080/",
          "height": 35
        },
        "outputId": "1c24c3c1-873f-4df0-d926-882f4cbadc97"
      },
      "source": [
        "df['Complaint Type'].value_counts().idxmax()"
      ],
      "execution_count": null,
      "outputs": [
        {
          "output_type": "execute_result",
          "data": {
            "application/vnd.google.colaboratory.intrinsic+json": {
              "type": "string"
            },
            "text/plain": [
              "'HEAT/HOT WATER'"
            ]
          },
          "metadata": {
            "tags": []
          },
          "execution_count": 23
        }
      ]
    },
    {
      "cell_type": "code",
      "metadata": {
        "id": "nrwiP-Ji3dv7",
        "colab_type": "code",
        "colab": {
          "base_uri": "https://localhost:8080/",
          "height": 204
        },
        "outputId": "c4542aa0-f1ea-47c2-8526-ba18dd23aa9b"
      },
      "source": [
        "# get indicator variables and assign it to data frame \"dummy_variable_1\"\n",
        "dummy_variable_1 = pd.get_dummies(df[\"Borough\"])\n",
        "dummy_variable_1.head()\n"
      ],
      "execution_count": null,
      "outputs": [
        {
          "output_type": "execute_result",
          "data": {
            "text/html": [
              "<div>\n",
              "<style scoped>\n",
              "    .dataframe tbody tr th:only-of-type {\n",
              "        vertical-align: middle;\n",
              "    }\n",
              "\n",
              "    .dataframe tbody tr th {\n",
              "        vertical-align: top;\n",
              "    }\n",
              "\n",
              "    .dataframe thead th {\n",
              "        text-align: right;\n",
              "    }\n",
              "</style>\n",
              "<table border=\"1\" class=\"dataframe\">\n",
              "  <thead>\n",
              "    <tr style=\"text-align: right;\">\n",
              "      <th></th>\n",
              "      <th>BRONX</th>\n",
              "      <th>BROOKLYN</th>\n",
              "      <th>MANHATTAN</th>\n",
              "      <th>QUEENS</th>\n",
              "      <th>STATEN ISLAND</th>\n",
              "      <th>Unspecified</th>\n",
              "    </tr>\n",
              "  </thead>\n",
              "  <tbody>\n",
              "    <tr>\n",
              "      <th>0</th>\n",
              "      <td>0</td>\n",
              "      <td>0</td>\n",
              "      <td>1</td>\n",
              "      <td>0</td>\n",
              "      <td>0</td>\n",
              "      <td>0</td>\n",
              "    </tr>\n",
              "    <tr>\n",
              "      <th>1</th>\n",
              "      <td>0</td>\n",
              "      <td>1</td>\n",
              "      <td>0</td>\n",
              "      <td>0</td>\n",
              "      <td>0</td>\n",
              "      <td>0</td>\n",
              "    </tr>\n",
              "    <tr>\n",
              "      <th>2</th>\n",
              "      <td>0</td>\n",
              "      <td>0</td>\n",
              "      <td>0</td>\n",
              "      <td>1</td>\n",
              "      <td>0</td>\n",
              "      <td>0</td>\n",
              "    </tr>\n",
              "    <tr>\n",
              "      <th>3</th>\n",
              "      <td>1</td>\n",
              "      <td>0</td>\n",
              "      <td>0</td>\n",
              "      <td>0</td>\n",
              "      <td>0</td>\n",
              "      <td>0</td>\n",
              "    </tr>\n",
              "    <tr>\n",
              "      <th>4</th>\n",
              "      <td>0</td>\n",
              "      <td>1</td>\n",
              "      <td>0</td>\n",
              "      <td>0</td>\n",
              "      <td>0</td>\n",
              "      <td>0</td>\n",
              "    </tr>\n",
              "  </tbody>\n",
              "</table>\n",
              "</div>"
            ],
            "text/plain": [
              "   BRONX  BROOKLYN  MANHATTAN  QUEENS  STATEN ISLAND  Unspecified\n",
              "0      0         0          1       0              0            0\n",
              "1      0         1          0       0              0            0\n",
              "2      0         0          0       1              0            0\n",
              "3      1         0          0       0              0            0\n",
              "4      0         1          0       0              0            0"
            ]
          },
          "metadata": {
            "tags": []
          },
          "execution_count": 24
        }
      ]
    },
    {
      "cell_type": "code",
      "metadata": {
        "id": "9JO5aTfm380y",
        "colab_type": "code",
        "colab": {
          "base_uri": "https://localhost:8080/",
          "height": 204
        },
        "outputId": "f3b8d849-1a8b-4387-9899-0ad064bfb320"
      },
      "source": [
        "\n",
        "! pip install seaborn\n",
        "#import visualization packages \"Matplotlib\" and \"Seaborn\", don't forget about \"%matplotlib inline\" to plot in a Jupyter notebook.\n",
        "import matplotlib.pyplot as plt\n",
        "import seaborn as sns\n",
        "%matplotlib inline\n"
      ],
      "execution_count": null,
      "outputs": [
        {
          "output_type": "stream",
          "text": [
            "Requirement already satisfied: seaborn in /usr/local/lib/python3.6/dist-packages (0.10.1)\n",
            "Requirement already satisfied: scipy>=1.0.1 in /usr/local/lib/python3.6/dist-packages (from seaborn) (1.4.1)\n",
            "Requirement already satisfied: pandas>=0.22.0 in /usr/local/lib/python3.6/dist-packages (from seaborn) (1.0.5)\n",
            "Requirement already satisfied: numpy>=1.13.3 in /usr/local/lib/python3.6/dist-packages (from seaborn) (1.18.5)\n",
            "Requirement already satisfied: matplotlib>=2.1.2 in /usr/local/lib/python3.6/dist-packages (from seaborn) (3.2.2)\n",
            "Requirement already satisfied: pytz>=2017.2 in /usr/local/lib/python3.6/dist-packages (from pandas>=0.22.0->seaborn) (2018.9)\n",
            "Requirement already satisfied: python-dateutil>=2.6.1 in /usr/local/lib/python3.6/dist-packages (from pandas>=0.22.0->seaborn) (2.8.1)\n",
            "Requirement already satisfied: kiwisolver>=1.0.1 in /usr/local/lib/python3.6/dist-packages (from matplotlib>=2.1.2->seaborn) (1.2.0)\n",
            "Requirement already satisfied: pyparsing!=2.0.4,!=2.1.2,!=2.1.6,>=2.0.1 in /usr/local/lib/python3.6/dist-packages (from matplotlib>=2.1.2->seaborn) (2.4.7)\n",
            "Requirement already satisfied: cycler>=0.10 in /usr/local/lib/python3.6/dist-packages (from matplotlib>=2.1.2->seaborn) (0.10.0)\n",
            "Requirement already satisfied: six>=1.5 in /usr/local/lib/python3.6/dist-packages (from python-dateutil>=2.6.1->pandas>=0.22.0->seaborn) (1.15.0)\n"
          ],
          "name": "stdout"
        }
      ]
    },
    {
      "cell_type": "code",
      "metadata": {
        "id": "q-iAiJDJ4wQT",
        "colab_type": "code",
        "colab": {
          "base_uri": "https://localhost:8080/",
          "height": 207
        },
        "outputId": "23accb89-e1cd-4477-f7be-5a7b11015749"
      },
      "source": [
        "df.describe(include=['object'])\n"
      ],
      "execution_count": null,
      "outputs": [
        {
          "output_type": "execute_result",
          "data": {
            "text/html": [
              "<div>\n",
              "<style scoped>\n",
              "    .dataframe tbody tr th:only-of-type {\n",
              "        vertical-align: middle;\n",
              "    }\n",
              "\n",
              "    .dataframe tbody tr th {\n",
              "        vertical-align: top;\n",
              "    }\n",
              "\n",
              "    .dataframe thead th {\n",
              "        text-align: right;\n",
              "    }\n",
              "</style>\n",
              "<table border=\"1\" class=\"dataframe\">\n",
              "  <thead>\n",
              "    <tr style=\"text-align: right;\">\n",
              "      <th></th>\n",
              "      <th>Created Date</th>\n",
              "      <th>Closed Date</th>\n",
              "      <th>Complaint Type</th>\n",
              "      <th>Location Type</th>\n",
              "      <th>Incident Address</th>\n",
              "      <th>Street Name</th>\n",
              "      <th>Address Type</th>\n",
              "      <th>City</th>\n",
              "      <th>Status</th>\n",
              "      <th>Resolution Description</th>\n",
              "      <th>Borough</th>\n",
              "    </tr>\n",
              "  </thead>\n",
              "  <tbody>\n",
              "    <tr>\n",
              "      <th>count</th>\n",
              "      <td>6019843</td>\n",
              "      <td>5893186</td>\n",
              "      <td>6019843</td>\n",
              "      <td>5967019</td>\n",
              "      <td>5967018</td>\n",
              "      <td>5967018</td>\n",
              "      <td>5935078</td>\n",
              "      <td>5939569</td>\n",
              "      <td>6019843</td>\n",
              "      <td>6012017</td>\n",
              "      <td>6019843</td>\n",
              "    </tr>\n",
              "    <tr>\n",
              "      <th>unique</th>\n",
              "      <td>1675132</td>\n",
              "      <td>757706</td>\n",
              "      <td>30</td>\n",
              "      <td>5</td>\n",
              "      <td>182600</td>\n",
              "      <td>6825</td>\n",
              "      <td>1</td>\n",
              "      <td>89</td>\n",
              "      <td>5</td>\n",
              "      <td>340</td>\n",
              "      <td>6</td>\n",
              "    </tr>\n",
              "    <tr>\n",
              "      <th>top</th>\n",
              "      <td>01/24/2013 12:00:00 AM</td>\n",
              "      <td>11/07/2012 12:00:00 AM</td>\n",
              "      <td>HEAT/HOT WATER</td>\n",
              "      <td>RESIDENTIAL BUILDING</td>\n",
              "      <td>34 ARDEN STREET</td>\n",
              "      <td>GRAND CONCOURSE</td>\n",
              "      <td>ADDRESS</td>\n",
              "      <td>BROOKLYN</td>\n",
              "      <td>Closed</td>\n",
              "      <td>The Department of Housing Preservation and Dev...</td>\n",
              "      <td>BROOKLYN</td>\n",
              "    </tr>\n",
              "    <tr>\n",
              "      <th>freq</th>\n",
              "      <td>7581</td>\n",
              "      <td>7296</td>\n",
              "      <td>1261574</td>\n",
              "      <td>5959910</td>\n",
              "      <td>14298</td>\n",
              "      <td>92450</td>\n",
              "      <td>5935078</td>\n",
              "      <td>2026580</td>\n",
              "      <td>5886253</td>\n",
              "      <td>1698990</td>\n",
              "      <td>1739886</td>\n",
              "    </tr>\n",
              "  </tbody>\n",
              "</table>\n",
              "</div>"
            ],
            "text/plain": [
              "                  Created Date  ...   Borough\n",
              "count                  6019843  ...   6019843\n",
              "unique                 1675132  ...         6\n",
              "top     01/24/2013 12:00:00 AM  ...  BROOKLYN\n",
              "freq                      7581  ...   1739886\n",
              "\n",
              "[4 rows x 11 columns]"
            ]
          },
          "metadata": {
            "tags": []
          },
          "execution_count": 26
        }
      ]
    },
    {
      "cell_type": "code",
      "metadata": {
        "id": "OaMtIhD15sW7",
        "colab_type": "code",
        "colab": {
          "base_uri": "https://localhost:8080/",
          "height": 979
        },
        "outputId": "9cec7348-78d0-4dfa-c5c0-feaffeac6f61"
      },
      "source": [
        "df2 = df['Complaint Type'].value_counts().to_frame()\n",
        "df2"
      ],
      "execution_count": null,
      "outputs": [
        {
          "output_type": "execute_result",
          "data": {
            "text/html": [
              "<div>\n",
              "<style scoped>\n",
              "    .dataframe tbody tr th:only-of-type {\n",
              "        vertical-align: middle;\n",
              "    }\n",
              "\n",
              "    .dataframe tbody tr th {\n",
              "        vertical-align: top;\n",
              "    }\n",
              "\n",
              "    .dataframe thead th {\n",
              "        text-align: right;\n",
              "    }\n",
              "</style>\n",
              "<table border=\"1\" class=\"dataframe\">\n",
              "  <thead>\n",
              "    <tr style=\"text-align: right;\">\n",
              "      <th></th>\n",
              "      <th>Complaint Type</th>\n",
              "    </tr>\n",
              "  </thead>\n",
              "  <tbody>\n",
              "    <tr>\n",
              "      <th>HEAT/HOT WATER</th>\n",
              "      <td>1261574</td>\n",
              "    </tr>\n",
              "    <tr>\n",
              "      <th>HEATING</th>\n",
              "      <td>887850</td>\n",
              "    </tr>\n",
              "    <tr>\n",
              "      <th>PLUMBING</th>\n",
              "      <td>711130</td>\n",
              "    </tr>\n",
              "    <tr>\n",
              "      <th>GENERAL CONSTRUCTION</th>\n",
              "      <td>500863</td>\n",
              "    </tr>\n",
              "    <tr>\n",
              "      <th>UNSANITARY CONDITION</th>\n",
              "      <td>451643</td>\n",
              "    </tr>\n",
              "    <tr>\n",
              "      <th>PAINT - PLASTER</th>\n",
              "      <td>361257</td>\n",
              "    </tr>\n",
              "    <tr>\n",
              "      <th>PAINT/PLASTER</th>\n",
              "      <td>346438</td>\n",
              "    </tr>\n",
              "    <tr>\n",
              "      <th>ELECTRIC</th>\n",
              "      <td>307310</td>\n",
              "    </tr>\n",
              "    <tr>\n",
              "      <th>NONCONST</th>\n",
              "      <td>260890</td>\n",
              "    </tr>\n",
              "    <tr>\n",
              "      <th>DOOR/WINDOW</th>\n",
              "      <td>205278</td>\n",
              "    </tr>\n",
              "    <tr>\n",
              "      <th>WATER LEAK</th>\n",
              "      <td>193631</td>\n",
              "    </tr>\n",
              "    <tr>\n",
              "      <th>GENERAL</th>\n",
              "      <td>151308</td>\n",
              "    </tr>\n",
              "    <tr>\n",
              "      <th>FLOORING/STAIRS</th>\n",
              "      <td>137402</td>\n",
              "    </tr>\n",
              "    <tr>\n",
              "      <th>APPLIANCE</th>\n",
              "      <td>112831</td>\n",
              "    </tr>\n",
              "    <tr>\n",
              "      <th>HPD Literature Request</th>\n",
              "      <td>52824</td>\n",
              "    </tr>\n",
              "    <tr>\n",
              "      <th>SAFETY</th>\n",
              "      <td>51529</td>\n",
              "    </tr>\n",
              "    <tr>\n",
              "      <th>OUTSIDE BUILDING</th>\n",
              "      <td>7142</td>\n",
              "    </tr>\n",
              "    <tr>\n",
              "      <th>ELEVATOR</th>\n",
              "      <td>6725</td>\n",
              "    </tr>\n",
              "    <tr>\n",
              "      <th>Unsanitary Condition</th>\n",
              "      <td>5499</td>\n",
              "    </tr>\n",
              "    <tr>\n",
              "      <th>CONSTRUCTION</th>\n",
              "      <td>5078</td>\n",
              "    </tr>\n",
              "    <tr>\n",
              "      <th>General</th>\n",
              "      <td>1163</td>\n",
              "    </tr>\n",
              "    <tr>\n",
              "      <th>Safety</th>\n",
              "      <td>424</td>\n",
              "    </tr>\n",
              "    <tr>\n",
              "      <th>STRUCTURAL</th>\n",
              "      <td>16</td>\n",
              "    </tr>\n",
              "    <tr>\n",
              "      <th>Plumbing</th>\n",
              "      <td>11</td>\n",
              "    </tr>\n",
              "    <tr>\n",
              "      <th>AGENCY</th>\n",
              "      <td>9</td>\n",
              "    </tr>\n",
              "    <tr>\n",
              "      <th>Outside Building</th>\n",
              "      <td>6</td>\n",
              "    </tr>\n",
              "    <tr>\n",
              "      <th>VACANT APARTMENT</th>\n",
              "      <td>6</td>\n",
              "    </tr>\n",
              "    <tr>\n",
              "      <th>Appliance</th>\n",
              "      <td>4</td>\n",
              "    </tr>\n",
              "    <tr>\n",
              "      <th>Mold</th>\n",
              "      <td>1</td>\n",
              "    </tr>\n",
              "    <tr>\n",
              "      <th>Electric</th>\n",
              "      <td>1</td>\n",
              "    </tr>\n",
              "  </tbody>\n",
              "</table>\n",
              "</div>"
            ],
            "text/plain": [
              "                        Complaint Type\n",
              "HEAT/HOT WATER                 1261574\n",
              "HEATING                         887850\n",
              "PLUMBING                        711130\n",
              "GENERAL CONSTRUCTION            500863\n",
              "UNSANITARY CONDITION            451643\n",
              "PAINT - PLASTER                 361257\n",
              "PAINT/PLASTER                   346438\n",
              "ELECTRIC                        307310\n",
              "NONCONST                        260890\n",
              "DOOR/WINDOW                     205278\n",
              "WATER LEAK                      193631\n",
              "GENERAL                         151308\n",
              "FLOORING/STAIRS                 137402\n",
              "APPLIANCE                       112831\n",
              "HPD Literature Request           52824\n",
              "SAFETY                           51529\n",
              "OUTSIDE BUILDING                  7142\n",
              "ELEVATOR                          6725\n",
              "Unsanitary Condition              5499\n",
              "CONSTRUCTION                      5078\n",
              "General                           1163\n",
              "Safety                             424\n",
              "STRUCTURAL                          16\n",
              "Plumbing                            11\n",
              "AGENCY                               9\n",
              "Outside Building                     6\n",
              "VACANT APARTMENT                     6\n",
              "Appliance                            4\n",
              "Mold                                 1\n",
              "Electric                             1"
            ]
          },
          "metadata": {
            "tags": []
          },
          "execution_count": 27
        }
      ]
    },
    {
      "cell_type": "code",
      "metadata": {
        "id": "cMaZ63Gr6jAH",
        "colab_type": "code",
        "colab": {}
      },
      "source": [
        "from scipy import stats"
      ],
      "execution_count": null,
      "outputs": []
    },
    {
      "cell_type": "code",
      "metadata": {
        "id": "KOE2KrYxVmEV",
        "colab_type": "code",
        "colab": {
          "base_uri": "https://localhost:8080/",
          "height": 153
        },
        "outputId": "abda8879-49e2-4102-9425-6f4772f35610"
      },
      "source": [
        "df2.info()"
      ],
      "execution_count": null,
      "outputs": [
        {
          "output_type": "stream",
          "text": [
            "<class 'pandas.core.frame.DataFrame'>\n",
            "Index: 30 entries, HEAT/HOT WATER to Electric\n",
            "Data columns (total 1 columns):\n",
            " #   Column          Non-Null Count  Dtype\n",
            "---  ------          --------------  -----\n",
            " 0   Complaint Type  30 non-null     int64\n",
            "dtypes: int64(1)\n",
            "memory usage: 480.0+ bytes\n"
          ],
          "name": "stdout"
        }
      ]
    },
    {
      "cell_type": "code",
      "metadata": {
        "id": "KBbKTMUvDWQm",
        "colab_type": "code",
        "colab": {
          "base_uri": "https://localhost:8080/",
          "height": 419
        },
        "outputId": "724bced0-8d47-42ad-b981-9543d80e83d6"
      },
      "source": [
        "df['Closed Date'].value_counts().to_frame()\n"
      ],
      "execution_count": null,
      "outputs": [
        {
          "output_type": "execute_result",
          "data": {
            "text/html": [
              "<div>\n",
              "<style scoped>\n",
              "    .dataframe tbody tr th:only-of-type {\n",
              "        vertical-align: middle;\n",
              "    }\n",
              "\n",
              "    .dataframe tbody tr th {\n",
              "        vertical-align: top;\n",
              "    }\n",
              "\n",
              "    .dataframe thead th {\n",
              "        text-align: right;\n",
              "    }\n",
              "</style>\n",
              "<table border=\"1\" class=\"dataframe\">\n",
              "  <thead>\n",
              "    <tr style=\"text-align: right;\">\n",
              "      <th></th>\n",
              "      <th>Closed Date</th>\n",
              "    </tr>\n",
              "  </thead>\n",
              "  <tbody>\n",
              "    <tr>\n",
              "      <th>11/07/2012 12:00:00 AM</th>\n",
              "      <td>7296</td>\n",
              "    </tr>\n",
              "    <tr>\n",
              "      <th>12/09/2010 12:00:00 AM</th>\n",
              "      <td>6264</td>\n",
              "    </tr>\n",
              "    <tr>\n",
              "      <th>11/28/2011 12:00:00 AM</th>\n",
              "      <td>6005</td>\n",
              "    </tr>\n",
              "    <tr>\n",
              "      <th>01/06/2014 12:00:00 AM</th>\n",
              "      <td>5600</td>\n",
              "    </tr>\n",
              "    <tr>\n",
              "      <th>01/28/2013 12:00:00 AM</th>\n",
              "      <td>5598</td>\n",
              "    </tr>\n",
              "    <tr>\n",
              "      <th>...</th>\n",
              "      <td>...</td>\n",
              "    </tr>\n",
              "    <tr>\n",
              "      <th>01/11/2018 09:31:11 AM</th>\n",
              "      <td>1</td>\n",
              "    </tr>\n",
              "    <tr>\n",
              "      <th>08/15/2019 10:56:20 AM</th>\n",
              "      <td>1</td>\n",
              "    </tr>\n",
              "    <tr>\n",
              "      <th>07/03/2017 02:24:50 AM</th>\n",
              "      <td>1</td>\n",
              "    </tr>\n",
              "    <tr>\n",
              "      <th>12/20/2019 11:00:57 AM</th>\n",
              "      <td>1</td>\n",
              "    </tr>\n",
              "    <tr>\n",
              "      <th>12/08/2017 08:57:00 PM</th>\n",
              "      <td>1</td>\n",
              "    </tr>\n",
              "  </tbody>\n",
              "</table>\n",
              "<p>757706 rows × 1 columns</p>\n",
              "</div>"
            ],
            "text/plain": [
              "                        Closed Date\n",
              "11/07/2012 12:00:00 AM         7296\n",
              "12/09/2010 12:00:00 AM         6264\n",
              "11/28/2011 12:00:00 AM         6005\n",
              "01/06/2014 12:00:00 AM         5600\n",
              "01/28/2013 12:00:00 AM         5598\n",
              "...                             ...\n",
              "01/11/2018 09:31:11 AM            1\n",
              "08/15/2019 10:56:20 AM            1\n",
              "07/03/2017 02:24:50 AM            1\n",
              "12/20/2019 11:00:57 AM            1\n",
              "12/08/2017 08:57:00 PM            1\n",
              "\n",
              "[757706 rows x 1 columns]"
            ]
          },
          "metadata": {
            "tags": []
          },
          "execution_count": 30
        }
      ]
    },
    {
      "cell_type": "code",
      "metadata": {
        "id": "W9rDY_tKXuld",
        "colab_type": "code",
        "colab": {
          "base_uri": "https://localhost:8080/",
          "height": 204
        },
        "outputId": "a309db11-c818-4a4d-e0d6-3cc2e515d7e7"
      },
      "source": [
        "df3= df[[\"Borough\", \"Complaint Type\"]]\n",
        "df3.head()"
      ],
      "execution_count": null,
      "outputs": [
        {
          "output_type": "execute_result",
          "data": {
            "text/html": [
              "<div>\n",
              "<style scoped>\n",
              "    .dataframe tbody tr th:only-of-type {\n",
              "        vertical-align: middle;\n",
              "    }\n",
              "\n",
              "    .dataframe tbody tr th {\n",
              "        vertical-align: top;\n",
              "    }\n",
              "\n",
              "    .dataframe thead th {\n",
              "        text-align: right;\n",
              "    }\n",
              "</style>\n",
              "<table border=\"1\" class=\"dataframe\">\n",
              "  <thead>\n",
              "    <tr style=\"text-align: right;\">\n",
              "      <th></th>\n",
              "      <th>Borough</th>\n",
              "      <th>Complaint Type</th>\n",
              "    </tr>\n",
              "  </thead>\n",
              "  <tbody>\n",
              "    <tr>\n",
              "      <th>0</th>\n",
              "      <td>MANHATTAN</td>\n",
              "      <td>HEAT/HOT WATER</td>\n",
              "    </tr>\n",
              "    <tr>\n",
              "      <th>1</th>\n",
              "      <td>BROOKLYN</td>\n",
              "      <td>UNSANITARY CONDITION</td>\n",
              "    </tr>\n",
              "    <tr>\n",
              "      <th>2</th>\n",
              "      <td>QUEENS</td>\n",
              "      <td>HEAT/HOT WATER</td>\n",
              "    </tr>\n",
              "    <tr>\n",
              "      <th>3</th>\n",
              "      <td>BRONX</td>\n",
              "      <td>HEAT/HOT WATER</td>\n",
              "    </tr>\n",
              "    <tr>\n",
              "      <th>4</th>\n",
              "      <td>BROOKLYN</td>\n",
              "      <td>APPLIANCE</td>\n",
              "    </tr>\n",
              "  </tbody>\n",
              "</table>\n",
              "</div>"
            ],
            "text/plain": [
              "     Borough        Complaint Type\n",
              "0  MANHATTAN        HEAT/HOT WATER\n",
              "1   BROOKLYN  UNSANITARY CONDITION\n",
              "2     QUEENS        HEAT/HOT WATER\n",
              "3      BRONX        HEAT/HOT WATER\n",
              "4   BROOKLYN             APPLIANCE"
            ]
          },
          "metadata": {
            "tags": []
          },
          "execution_count": 31
        }
      ]
    }
  ]
}