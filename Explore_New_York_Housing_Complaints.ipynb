{
  "nbformat": 4,
  "nbformat_minor": 0,
  "metadata": {
    "colab": {
      "name": "Explore New York Housing Complaints",
      "provenance": [],
      "collapsed_sections": [],
      "authorship_tag": "ABX9TyNP1ndIR0KReuc3fJ+YYD5B",
      "include_colab_link": true
    },
    "kernelspec": {
      "name": "python3",
      "display_name": "Python 3"
    }
  },
  "cells": [
    {
      "cell_type": "markdown",
      "metadata": {
        "id": "view-in-github",
        "colab_type": "text"
      },
      "source": [
        "<a href=\"https://colab.research.google.com/github/ALK26/Projects/blob/master/Explore_New_York_Housing_Complaints.ipynb\" target=\"_parent\"><img src=\"https://colab.research.google.com/assets/colab-badge.svg\" alt=\"Open In Colab\"/></a>"
      ]
    },
    {
      "cell_type": "code",
      "metadata": {
        "id": "wxhOPzvhtjLm",
        "colab_type": "code",
        "colab": {
          "base_uri": "https://localhost:8080/",
          "height": 297
        },
        "outputId": "7fae2ab3-6361-4532-ec6f-f5fd1584b66b"
      },
      "source": [
        "import pandas as pd  \n",
        "df = pd.read_csv('https://cocl.us/311_NYC_Dataset') \n",
        "df.head() "
      ],
      "execution_count": null,
      "outputs": [
        {
          "output_type": "execute_result",
          "data": {
            "text/html": [
              "<div>\n",
              "<style scoped>\n",
              "    .dataframe tbody tr th:only-of-type {\n",
              "        vertical-align: middle;\n",
              "    }\n",
              "\n",
              "    .dataframe tbody tr th {\n",
              "        vertical-align: top;\n",
              "    }\n",
              "\n",
              "    .dataframe thead th {\n",
              "        text-align: right;\n",
              "    }\n",
              "</style>\n",
              "<table border=\"1\" class=\"dataframe\">\n",
              "  <thead>\n",
              "    <tr style=\"text-align: right;\">\n",
              "      <th></th>\n",
              "      <th>Unnamed: 0</th>\n",
              "      <th>Unique Key</th>\n",
              "      <th>Created Date</th>\n",
              "      <th>Closed Date</th>\n",
              "      <th>Complaint Type</th>\n",
              "      <th>Location Type</th>\n",
              "      <th>Incident Zip</th>\n",
              "      <th>Incident Address</th>\n",
              "      <th>Street Name</th>\n",
              "      <th>Address Type</th>\n",
              "      <th>City</th>\n",
              "      <th>Status</th>\n",
              "      <th>Resolution Description</th>\n",
              "      <th>Borough</th>\n",
              "      <th>Latitude</th>\n",
              "      <th>Longitude</th>\n",
              "    </tr>\n",
              "  </thead>\n",
              "  <tbody>\n",
              "    <tr>\n",
              "      <th>0</th>\n",
              "      <td>0</td>\n",
              "      <td>45531130</td>\n",
              "      <td>02/02/2020 06:09:17 AM</td>\n",
              "      <td>NaN</td>\n",
              "      <td>HEAT/HOT WATER</td>\n",
              "      <td>RESIDENTIAL BUILDING</td>\n",
              "      <td>10019.0</td>\n",
              "      <td>426 WEST   52 STREET</td>\n",
              "      <td>WEST   52 STREET</td>\n",
              "      <td>ADDRESS</td>\n",
              "      <td>NEW YORK</td>\n",
              "      <td>Open</td>\n",
              "      <td>The following complaint conditions are still o...</td>\n",
              "      <td>MANHATTAN</td>\n",
              "      <td>40.765132</td>\n",
              "      <td>-73.988993</td>\n",
              "    </tr>\n",
              "    <tr>\n",
              "      <th>1</th>\n",
              "      <td>1</td>\n",
              "      <td>45529784</td>\n",
              "      <td>02/02/2020 02:15:24 PM</td>\n",
              "      <td>NaN</td>\n",
              "      <td>UNSANITARY CONDITION</td>\n",
              "      <td>RESIDENTIAL BUILDING</td>\n",
              "      <td>11204.0</td>\n",
              "      <td>1751 67 STREET</td>\n",
              "      <td>67 STREET</td>\n",
              "      <td>ADDRESS</td>\n",
              "      <td>BROOKLYN</td>\n",
              "      <td>Open</td>\n",
              "      <td>The following complaint conditions are still o...</td>\n",
              "      <td>BROOKLYN</td>\n",
              "      <td>40.618484</td>\n",
              "      <td>-73.992673</td>\n",
              "    </tr>\n",
              "    <tr>\n",
              "      <th>2</th>\n",
              "      <td>2</td>\n",
              "      <td>45527528</td>\n",
              "      <td>02/02/2020 02:27:41 AM</td>\n",
              "      <td>NaN</td>\n",
              "      <td>HEAT/HOT WATER</td>\n",
              "      <td>RESIDENTIAL BUILDING</td>\n",
              "      <td>11372.0</td>\n",
              "      <td>87-15 37 AVENUE</td>\n",
              "      <td>37 AVENUE</td>\n",
              "      <td>ADDRESS</td>\n",
              "      <td>Jackson Heights</td>\n",
              "      <td>Open</td>\n",
              "      <td>The following complaint conditions are still o...</td>\n",
              "      <td>QUEENS</td>\n",
              "      <td>40.750269</td>\n",
              "      <td>-73.879432</td>\n",
              "    </tr>\n",
              "    <tr>\n",
              "      <th>3</th>\n",
              "      <td>3</td>\n",
              "      <td>45530329</td>\n",
              "      <td>02/02/2020 12:13:18 PM</td>\n",
              "      <td>NaN</td>\n",
              "      <td>HEAT/HOT WATER</td>\n",
              "      <td>RESIDENTIAL BUILDING</td>\n",
              "      <td>10458.0</td>\n",
              "      <td>2405 SOUTHERN BOULEVARD</td>\n",
              "      <td>SOUTHERN BOULEVARD</td>\n",
              "      <td>ADDRESS</td>\n",
              "      <td>BRONX</td>\n",
              "      <td>Open</td>\n",
              "      <td>The following complaint conditions are still o...</td>\n",
              "      <td>BRONX</td>\n",
              "      <td>40.853773</td>\n",
              "      <td>-73.881558</td>\n",
              "    </tr>\n",
              "    <tr>\n",
              "      <th>4</th>\n",
              "      <td>4</td>\n",
              "      <td>45528814</td>\n",
              "      <td>02/02/2020 01:59:44 PM</td>\n",
              "      <td>NaN</td>\n",
              "      <td>APPLIANCE</td>\n",
              "      <td>RESIDENTIAL BUILDING</td>\n",
              "      <td>11209.0</td>\n",
              "      <td>223 78 STREET</td>\n",
              "      <td>78 STREET</td>\n",
              "      <td>ADDRESS</td>\n",
              "      <td>BROOKLYN</td>\n",
              "      <td>Open</td>\n",
              "      <td>The following complaint conditions are still o...</td>\n",
              "      <td>BROOKLYN</td>\n",
              "      <td>40.629745</td>\n",
              "      <td>-74.030533</td>\n",
              "    </tr>\n",
              "  </tbody>\n",
              "</table>\n",
              "</div>"
            ],
            "text/plain": [
              "   Unnamed: 0  Unique Key  ...   Latitude  Longitude\n",
              "0           0    45531130  ...  40.765132 -73.988993\n",
              "1           1    45529784  ...  40.618484 -73.992673\n",
              "2           2    45527528  ...  40.750269 -73.879432\n",
              "3           3    45530329  ...  40.853773 -73.881558\n",
              "4           4    45528814  ...  40.629745 -74.030533\n",
              "\n",
              "[5 rows x 16 columns]"
            ]
          },
          "metadata": {
            "tags": []
          },
          "execution_count": 1
        }
      ]
    },
    {
      "cell_type": "code",
      "metadata": {
        "id": "WopYQPADUj73",
        "colab_type": "code",
        "colab": {
          "base_uri": "https://localhost:8080/",
          "height": 425
        },
        "outputId": "bd30b796-ba84-4778-d67d-70aa9ff57b10"
      },
      "source": [
        "df.info()"
      ],
      "execution_count": null,
      "outputs": [
        {
          "output_type": "stream",
          "text": [
            "<class 'pandas.core.frame.DataFrame'>\n",
            "RangeIndex: 6019843 entries, 0 to 6019842\n",
            "Data columns (total 16 columns):\n",
            " #   Column                  Dtype  \n",
            "---  ------                  -----  \n",
            " 0   Unnamed: 0              int64  \n",
            " 1   Unique Key              int64  \n",
            " 2   Created Date            object \n",
            " 3   Closed Date             object \n",
            " 4   Complaint Type          object \n",
            " 5   Location Type           object \n",
            " 6   Incident Zip            float64\n",
            " 7   Incident Address        object \n",
            " 8   Street Name             object \n",
            " 9   Address Type            object \n",
            " 10  City                    object \n",
            " 11  Status                  object \n",
            " 12  Resolution Description  object \n",
            " 13  Borough                 object \n",
            " 14  Latitude                float64\n",
            " 15  Longitude               float64\n",
            "dtypes: float64(3), int64(2), object(11)\n",
            "memory usage: 734.8+ MB\n"
          ],
          "name": "stdout"
        }
      ]
    },
    {
      "cell_type": "code",
      "metadata": {
        "id": "65q3EkNyUw7b",
        "colab_type": "code",
        "colab": {
          "base_uri": "https://localhost:8080/",
          "height": 947
        },
        "outputId": "36e76d69-19a7-418a-e6b9-592cee6f0942"
      },
      "source": [
        "complaint = df[\"Complaint Type\"].value_counts().to_frame()\n",
        "complaint"
      ],
      "execution_count": null,
      "outputs": [
        {
          "output_type": "execute_result",
          "data": {
            "text/html": [
              "<div>\n",
              "<style scoped>\n",
              "    .dataframe tbody tr th:only-of-type {\n",
              "        vertical-align: middle;\n",
              "    }\n",
              "\n",
              "    .dataframe tbody tr th {\n",
              "        vertical-align: top;\n",
              "    }\n",
              "\n",
              "    .dataframe thead th {\n",
              "        text-align: right;\n",
              "    }\n",
              "</style>\n",
              "<table border=\"1\" class=\"dataframe\">\n",
              "  <thead>\n",
              "    <tr style=\"text-align: right;\">\n",
              "      <th></th>\n",
              "      <th>Complaint Type</th>\n",
              "    </tr>\n",
              "  </thead>\n",
              "  <tbody>\n",
              "    <tr>\n",
              "      <th>HEAT/HOT WATER</th>\n",
              "      <td>1261574</td>\n",
              "    </tr>\n",
              "    <tr>\n",
              "      <th>HEATING</th>\n",
              "      <td>887850</td>\n",
              "    </tr>\n",
              "    <tr>\n",
              "      <th>PLUMBING</th>\n",
              "      <td>711130</td>\n",
              "    </tr>\n",
              "    <tr>\n",
              "      <th>GENERAL CONSTRUCTION</th>\n",
              "      <td>500863</td>\n",
              "    </tr>\n",
              "    <tr>\n",
              "      <th>UNSANITARY CONDITION</th>\n",
              "      <td>451643</td>\n",
              "    </tr>\n",
              "    <tr>\n",
              "      <th>PAINT - PLASTER</th>\n",
              "      <td>361257</td>\n",
              "    </tr>\n",
              "    <tr>\n",
              "      <th>PAINT/PLASTER</th>\n",
              "      <td>346438</td>\n",
              "    </tr>\n",
              "    <tr>\n",
              "      <th>ELECTRIC</th>\n",
              "      <td>307310</td>\n",
              "    </tr>\n",
              "    <tr>\n",
              "      <th>NONCONST</th>\n",
              "      <td>260890</td>\n",
              "    </tr>\n",
              "    <tr>\n",
              "      <th>DOOR/WINDOW</th>\n",
              "      <td>205278</td>\n",
              "    </tr>\n",
              "    <tr>\n",
              "      <th>WATER LEAK</th>\n",
              "      <td>193631</td>\n",
              "    </tr>\n",
              "    <tr>\n",
              "      <th>GENERAL</th>\n",
              "      <td>151308</td>\n",
              "    </tr>\n",
              "    <tr>\n",
              "      <th>FLOORING/STAIRS</th>\n",
              "      <td>137402</td>\n",
              "    </tr>\n",
              "    <tr>\n",
              "      <th>APPLIANCE</th>\n",
              "      <td>112831</td>\n",
              "    </tr>\n",
              "    <tr>\n",
              "      <th>HPD Literature Request</th>\n",
              "      <td>52824</td>\n",
              "    </tr>\n",
              "    <tr>\n",
              "      <th>SAFETY</th>\n",
              "      <td>51529</td>\n",
              "    </tr>\n",
              "    <tr>\n",
              "      <th>OUTSIDE BUILDING</th>\n",
              "      <td>7142</td>\n",
              "    </tr>\n",
              "    <tr>\n",
              "      <th>ELEVATOR</th>\n",
              "      <td>6725</td>\n",
              "    </tr>\n",
              "    <tr>\n",
              "      <th>Unsanitary Condition</th>\n",
              "      <td>5499</td>\n",
              "    </tr>\n",
              "    <tr>\n",
              "      <th>CONSTRUCTION</th>\n",
              "      <td>5078</td>\n",
              "    </tr>\n",
              "    <tr>\n",
              "      <th>General</th>\n",
              "      <td>1163</td>\n",
              "    </tr>\n",
              "    <tr>\n",
              "      <th>Safety</th>\n",
              "      <td>424</td>\n",
              "    </tr>\n",
              "    <tr>\n",
              "      <th>STRUCTURAL</th>\n",
              "      <td>16</td>\n",
              "    </tr>\n",
              "    <tr>\n",
              "      <th>Plumbing</th>\n",
              "      <td>11</td>\n",
              "    </tr>\n",
              "    <tr>\n",
              "      <th>AGENCY</th>\n",
              "      <td>9</td>\n",
              "    </tr>\n",
              "    <tr>\n",
              "      <th>VACANT APARTMENT</th>\n",
              "      <td>6</td>\n",
              "    </tr>\n",
              "    <tr>\n",
              "      <th>Outside Building</th>\n",
              "      <td>6</td>\n",
              "    </tr>\n",
              "    <tr>\n",
              "      <th>Appliance</th>\n",
              "      <td>4</td>\n",
              "    </tr>\n",
              "    <tr>\n",
              "      <th>Electric</th>\n",
              "      <td>1</td>\n",
              "    </tr>\n",
              "    <tr>\n",
              "      <th>Mold</th>\n",
              "      <td>1</td>\n",
              "    </tr>\n",
              "  </tbody>\n",
              "</table>\n",
              "</div>"
            ],
            "text/plain": [
              "                        Complaint Type\n",
              "HEAT/HOT WATER                 1261574\n",
              "HEATING                         887850\n",
              "PLUMBING                        711130\n",
              "GENERAL CONSTRUCTION            500863\n",
              "UNSANITARY CONDITION            451643\n",
              "PAINT - PLASTER                 361257\n",
              "PAINT/PLASTER                   346438\n",
              "ELECTRIC                        307310\n",
              "NONCONST                        260890\n",
              "DOOR/WINDOW                     205278\n",
              "WATER LEAK                      193631\n",
              "GENERAL                         151308\n",
              "FLOORING/STAIRS                 137402\n",
              "APPLIANCE                       112831\n",
              "HPD Literature Request           52824\n",
              "SAFETY                           51529\n",
              "OUTSIDE BUILDING                  7142\n",
              "ELEVATOR                          6725\n",
              "Unsanitary Condition              5499\n",
              "CONSTRUCTION                      5078\n",
              "General                           1163\n",
              "Safety                             424\n",
              "STRUCTURAL                          16\n",
              "Plumbing                            11\n",
              "AGENCY                               9\n",
              "VACANT APARTMENT                     6\n",
              "Outside Building                     6\n",
              "Appliance                            4\n",
              "Electric                             1\n",
              "Mold                                 1"
            ]
          },
          "metadata": {
            "tags": []
          },
          "execution_count": 3
        }
      ]
    },
    {
      "cell_type": "code",
      "metadata": {
        "id": "kFfxFl2Xt_3Q",
        "colab_type": "code",
        "colab": {
          "base_uri": "https://localhost:8080/",
          "height": 406
        },
        "outputId": "2cd00796-3efc-4cf2-a1b7-95b3ad71fd89"
      },
      "source": [
        "incident_zip = df[\"Incident Zip\"].value_counts().to_frame()\n",
        "incident_zip"
      ],
      "execution_count": null,
      "outputs": [
        {
          "output_type": "execute_result",
          "data": {
            "text/html": [
              "<div>\n",
              "<style scoped>\n",
              "    .dataframe tbody tr th:only-of-type {\n",
              "        vertical-align: middle;\n",
              "    }\n",
              "\n",
              "    .dataframe tbody tr th {\n",
              "        vertical-align: top;\n",
              "    }\n",
              "\n",
              "    .dataframe thead th {\n",
              "        text-align: right;\n",
              "    }\n",
              "</style>\n",
              "<table border=\"1\" class=\"dataframe\">\n",
              "  <thead>\n",
              "    <tr style=\"text-align: right;\">\n",
              "      <th></th>\n",
              "      <th>Incident Zip</th>\n",
              "    </tr>\n",
              "  </thead>\n",
              "  <tbody>\n",
              "    <tr>\n",
              "      <th>11226.0</th>\n",
              "      <td>215709</td>\n",
              "    </tr>\n",
              "    <tr>\n",
              "      <th>10467.0</th>\n",
              "      <td>173911</td>\n",
              "    </tr>\n",
              "    <tr>\n",
              "      <th>10458.0</th>\n",
              "      <td>169485</td>\n",
              "    </tr>\n",
              "    <tr>\n",
              "      <th>10453.0</th>\n",
              "      <td>162532</td>\n",
              "    </tr>\n",
              "    <tr>\n",
              "      <th>10468.0</th>\n",
              "      <td>148213</td>\n",
              "    </tr>\n",
              "    <tr>\n",
              "      <th>...</th>\n",
              "      <td>...</td>\n",
              "    </tr>\n",
              "    <tr>\n",
              "      <th>10271.0</th>\n",
              "      <td>1</td>\n",
              "    </tr>\n",
              "    <tr>\n",
              "      <th>10279.0</th>\n",
              "      <td>1</td>\n",
              "    </tr>\n",
              "    <tr>\n",
              "      <th>11243.0</th>\n",
              "      <td>1</td>\n",
              "    </tr>\n",
              "    <tr>\n",
              "      <th>10045.0</th>\n",
              "      <td>1</td>\n",
              "    </tr>\n",
              "    <tr>\n",
              "      <th>12345.0</th>\n",
              "      <td>1</td>\n",
              "    </tr>\n",
              "  </tbody>\n",
              "</table>\n",
              "<p>202 rows × 1 columns</p>\n",
              "</div>"
            ],
            "text/plain": [
              "         Incident Zip\n",
              "11226.0        215709\n",
              "10467.0        173911\n",
              "10458.0        169485\n",
              "10453.0        162532\n",
              "10468.0        148213\n",
              "...               ...\n",
              "10271.0             1\n",
              "10279.0             1\n",
              "11243.0             1\n",
              "10045.0             1\n",
              "12345.0             1\n",
              "\n",
              "[202 rows x 1 columns]"
            ]
          },
          "metadata": {
            "tags": []
          },
          "execution_count": 4
        }
      ]
    },
    {
      "cell_type": "code",
      "metadata": {
        "id": "OdcPjph4UVfm",
        "colab_type": "code",
        "colab": {
          "base_uri": "https://localhost:8080/",
          "height": 227
        },
        "outputId": "7c106762-420a-406e-dfea-a1d5b7026668"
      },
      "source": [
        "df[\"Borough\"].value_counts().to_frame()\n"
      ],
      "execution_count": null,
      "outputs": [
        {
          "output_type": "execute_result",
          "data": {
            "text/html": [
              "<div>\n",
              "<style scoped>\n",
              "    .dataframe tbody tr th:only-of-type {\n",
              "        vertical-align: middle;\n",
              "    }\n",
              "\n",
              "    .dataframe tbody tr th {\n",
              "        vertical-align: top;\n",
              "    }\n",
              "\n",
              "    .dataframe thead th {\n",
              "        text-align: right;\n",
              "    }\n",
              "</style>\n",
              "<table border=\"1\" class=\"dataframe\">\n",
              "  <thead>\n",
              "    <tr style=\"text-align: right;\">\n",
              "      <th></th>\n",
              "      <th>Borough</th>\n",
              "    </tr>\n",
              "  </thead>\n",
              "  <tbody>\n",
              "    <tr>\n",
              "      <th>BROOKLYN</th>\n",
              "      <td>1739886</td>\n",
              "    </tr>\n",
              "    <tr>\n",
              "      <th>BRONX</th>\n",
              "      <td>1617956</td>\n",
              "    </tr>\n",
              "    <tr>\n",
              "      <th>MANHATTAN</th>\n",
              "      <td>1055225</td>\n",
              "    </tr>\n",
              "    <tr>\n",
              "      <th>Unspecified</th>\n",
              "      <td>873221</td>\n",
              "    </tr>\n",
              "    <tr>\n",
              "      <th>QUEENS</th>\n",
              "      <td>645971</td>\n",
              "    </tr>\n",
              "    <tr>\n",
              "      <th>STATEN ISLAND</th>\n",
              "      <td>87584</td>\n",
              "    </tr>\n",
              "  </tbody>\n",
              "</table>\n",
              "</div>"
            ],
            "text/plain": [
              "               Borough\n",
              "BROOKLYN       1739886\n",
              "BRONX          1617956\n",
              "MANHATTAN      1055225\n",
              "Unspecified     873221\n",
              "QUEENS          645971\n",
              "STATEN ISLAND    87584"
            ]
          },
          "metadata": {
            "tags": []
          },
          "execution_count": 5
        }
      ]
    },
    {
      "cell_type": "code",
      "metadata": {
        "id": "joQ9HBBqYvSq",
        "colab_type": "code",
        "colab": {}
      },
      "source": [
        "import matplotlib as mpl\n",
        "import matplotlib.pyplot as plt\n",
        "import numpy as np\n"
      ],
      "execution_count": null,
      "outputs": []
    },
    {
      "cell_type": "code",
      "metadata": {
        "id": "xVOVOom7ZGX8",
        "colab_type": "code",
        "colab": {
          "base_uri": "https://localhost:8080/",
          "height": 227
        },
        "outputId": "8ddd20c8-5e29-494c-bb48-1abdee03b6b0"
      },
      "source": [
        "most_area = df[\"Borough\"].value_counts().to_frame()\n",
        "most_area\n"
      ],
      "execution_count": null,
      "outputs": [
        {
          "output_type": "execute_result",
          "data": {
            "text/html": [
              "<div>\n",
              "<style scoped>\n",
              "    .dataframe tbody tr th:only-of-type {\n",
              "        vertical-align: middle;\n",
              "    }\n",
              "\n",
              "    .dataframe tbody tr th {\n",
              "        vertical-align: top;\n",
              "    }\n",
              "\n",
              "    .dataframe thead th {\n",
              "        text-align: right;\n",
              "    }\n",
              "</style>\n",
              "<table border=\"1\" class=\"dataframe\">\n",
              "  <thead>\n",
              "    <tr style=\"text-align: right;\">\n",
              "      <th></th>\n",
              "      <th>Borough</th>\n",
              "    </tr>\n",
              "  </thead>\n",
              "  <tbody>\n",
              "    <tr>\n",
              "      <th>BROOKLYN</th>\n",
              "      <td>1739886</td>\n",
              "    </tr>\n",
              "    <tr>\n",
              "      <th>BRONX</th>\n",
              "      <td>1617956</td>\n",
              "    </tr>\n",
              "    <tr>\n",
              "      <th>MANHATTAN</th>\n",
              "      <td>1055225</td>\n",
              "    </tr>\n",
              "    <tr>\n",
              "      <th>Unspecified</th>\n",
              "      <td>873221</td>\n",
              "    </tr>\n",
              "    <tr>\n",
              "      <th>QUEENS</th>\n",
              "      <td>645971</td>\n",
              "    </tr>\n",
              "    <tr>\n",
              "      <th>STATEN ISLAND</th>\n",
              "      <td>87584</td>\n",
              "    </tr>\n",
              "  </tbody>\n",
              "</table>\n",
              "</div>"
            ],
            "text/plain": [
              "               Borough\n",
              "BROOKLYN       1739886\n",
              "BRONX          1617956\n",
              "MANHATTAN      1055225\n",
              "Unspecified     873221\n",
              "QUEENS          645971\n",
              "STATEN ISLAND    87584"
            ]
          },
          "metadata": {
            "tags": []
          },
          "execution_count": 7
        }
      ]
    },
    {
      "cell_type": "code",
      "metadata": {
        "id": "AsgQlf3fZVr0",
        "colab_type": "code",
        "colab": {
          "base_uri": "https://localhost:8080/",
          "height": 362
        },
        "outputId": "e091e093-96a2-42bb-961f-dfd40ed4ca2c"
      },
      "source": [
        "most_area.plot(kind=\"bar\")\n",
        "#incident_zip\n",
        "#complaint"
      ],
      "execution_count": null,
      "outputs": [
        {
          "output_type": "execute_result",
          "data": {
            "text/plain": [
              "<matplotlib.axes._subplots.AxesSubplot at 0x7f64c4c22128>"
            ]
          },
          "metadata": {
            "tags": []
          },
          "execution_count": 8
        },
        {
          "output_type": "display_data",
          "data": {
            "image/png": "[encoded data removed]",
            "text/plain": [
              "<Figure size 432x288 with 1 Axes>"
            ]
          },
          "metadata": {
            "tags": [],
            "needs_background": "light"
          }
        }
      ]
    },
    {
      "cell_type": "code",
      "metadata": {
        "id": "T-6LyZW0baYR",
        "colab_type": "code",
        "colab": {
          "base_uri": "https://localhost:8080/",
          "height": 247
        },
        "outputId": "117e85e0-72c6-4fdc-8ca6-21330fc1fdb9"
      },
      "source": [
        "import pandas as pd \n",
        "import numpy as np \n",
        "\n",
        "! pip install seaborn\n",
        "import matplotlib as mlp\n",
        "import matplotlib.pyplot as plt \n",
        "import seaborn as sns \n",
        "\n",
        "%matplotlib inline\n",
        "\n"
      ],
      "execution_count": null,
      "outputs": [
        {
          "output_type": "stream",
          "text": [
            "Requirement already satisfied: seaborn in /usr/local/lib/python3.6/dist-packages (0.10.1)\n",
            "Requirement already satisfied: numpy>=1.13.3 in /usr/local/lib/python3.6/dist-packages (from seaborn) (1.18.5)\n",
            "Requirement already satisfied: pandas>=0.22.0 in /usr/local/lib/python3.6/dist-packages (from seaborn) (1.0.5)\n",
            "Requirement already satisfied: matplotlib>=2.1.2 in /usr/local/lib/python3.6/dist-packages (from seaborn) (3.2.2)\n",
            "Requirement already satisfied: scipy>=1.0.1 in /usr/local/lib/python3.6/dist-packages (from seaborn) (1.4.1)\n",
            "Requirement already satisfied: python-dateutil>=2.6.1 in /usr/local/lib/python3.6/dist-packages (from pandas>=0.22.0->seaborn) (2.8.1)\n",
            "Requirement already satisfied: pytz>=2017.2 in /usr/local/lib/python3.6/dist-packages (from pandas>=0.22.0->seaborn) (2018.9)\n",
            "Requirement already satisfied: kiwisolver>=1.0.1 in /usr/local/lib/python3.6/dist-packages (from matplotlib>=2.1.2->seaborn) (1.2.0)\n",
            "Requirement already satisfied: pyparsing!=2.0.4,!=2.1.2,!=2.1.6,>=2.0.1 in /usr/local/lib/python3.6/dist-packages (from matplotlib>=2.1.2->seaborn) (2.4.7)\n",
            "Requirement already satisfied: cycler>=0.10 in /usr/local/lib/python3.6/dist-packages (from matplotlib>=2.1.2->seaborn) (0.10.0)\n",
            "Requirement already satisfied: six>=1.5 in /usr/local/lib/python3.6/dist-packages (from python-dateutil>=2.6.1->pandas>=0.22.0->seaborn) (1.15.0)\n"
          ],
          "name": "stdout"
        },
        {
          "output_type": "stream",
          "text": [
            "/usr/local/lib/python3.6/dist-packages/statsmodels/tools/_testing.py:19: FutureWarning: pandas.util.testing is deprecated. Use the functions in the public API at pandas.testing instead.\n",
            "  import pandas.util.testing as tm\n"
          ],
          "name": "stderr"
        }
      ]
    },
    {
      "cell_type": "code",
      "metadata": {
        "id": "gM_f5cJ9dP1R",
        "colab_type": "code",
        "colab": {
          "base_uri": "https://localhost:8080/",
          "height": 197
        },
        "outputId": "00447157-5ace-4caf-e1f4-8ef9b3f7cbef"
      },
      "source": [
        "df.corr()"
      ],
      "execution_count": null,
      "outputs": [
        {
          "output_type": "execute_result",
          "data": {
            "text/html": [
              "<div>\n",
              "<style scoped>\n",
              "    .dataframe tbody tr th:only-of-type {\n",
              "        vertical-align: middle;\n",
              "    }\n",
              "\n",
              "    .dataframe tbody tr th {\n",
              "        vertical-align: top;\n",
              "    }\n",
              "\n",
              "    .dataframe thead th {\n",
              "        text-align: right;\n",
              "    }\n",
              "</style>\n",
              "<table border=\"1\" class=\"dataframe\">\n",
              "  <thead>\n",
              "    <tr style=\"text-align: right;\">\n",
              "      <th></th>\n",
              "      <th>Unnamed: 0</th>\n",
              "      <th>Unique Key</th>\n",
              "      <th>Incident Zip</th>\n",
              "      <th>Latitude</th>\n",
              "      <th>Longitude</th>\n",
              "    </tr>\n",
              "  </thead>\n",
              "  <tbody>\n",
              "    <tr>\n",
              "      <th>Unnamed: 0</th>\n",
              "      <td>1.000000</td>\n",
              "      <td>0.788368</td>\n",
              "      <td>-0.025215</td>\n",
              "      <td>0.017559</td>\n",
              "      <td>-0.005945</td>\n",
              "    </tr>\n",
              "    <tr>\n",
              "      <th>Unique Key</th>\n",
              "      <td>0.788368</td>\n",
              "      <td>1.000000</td>\n",
              "      <td>-0.030457</td>\n",
              "      <td>0.024026</td>\n",
              "      <td>-0.004248</td>\n",
              "    </tr>\n",
              "    <tr>\n",
              "      <th>Incident Zip</th>\n",
              "      <td>-0.025215</td>\n",
              "      <td>-0.030457</td>\n",
              "      <td>1.000000</td>\n",
              "      <td>-0.737864</td>\n",
              "      <td>0.234013</td>\n",
              "    </tr>\n",
              "    <tr>\n",
              "      <th>Latitude</th>\n",
              "      <td>0.017559</td>\n",
              "      <td>0.024026</td>\n",
              "      <td>-0.737864</td>\n",
              "      <td>1.000000</td>\n",
              "      <td>0.305379</td>\n",
              "    </tr>\n",
              "    <tr>\n",
              "      <th>Longitude</th>\n",
              "      <td>-0.005945</td>\n",
              "      <td>-0.004248</td>\n",
              "      <td>0.234013</td>\n",
              "      <td>0.305379</td>\n",
              "      <td>1.000000</td>\n",
              "    </tr>\n",
              "  </tbody>\n",
              "</table>\n",
              "</div>"
            ],
            "text/plain": [
              "              Unnamed: 0  Unique Key  Incident Zip  Latitude  Longitude\n",
              "Unnamed: 0      1.000000    0.788368     -0.025215  0.017559  -0.005945\n",
              "Unique Key      0.788368    1.000000     -0.030457  0.024026  -0.004248\n",
              "Incident Zip   -0.025215   -0.030457      1.000000 -0.737864   0.234013\n",
              "Latitude        0.017559    0.024026     -0.737864  1.000000   0.305379\n",
              "Longitude      -0.005945   -0.004248      0.234013  0.305379   1.000000"
            ]
          },
          "metadata": {
            "tags": []
          },
          "execution_count": 10
        }
      ]
    },
    {
      "cell_type": "code",
      "metadata": {
        "id": "iCZ_GHh4hjae",
        "colab_type": "code",
        "colab": {
          "base_uri": "https://localhost:8080/",
          "height": 197
        },
        "outputId": "bb2cbcab-2a21-4c77-d71d-caf319db2be7"
      },
      "source": [
        "new = df[[\"Complaint Type\",\"Borough\", \"Incident Zip\", \"Unique Key\"]] \n",
        "new.head()"
      ],
      "execution_count": null,
      "outputs": [
        {
          "output_type": "execute_result",
          "data": {
            "text/html": [
              "<div>\n",
              "<style scoped>\n",
              "    .dataframe tbody tr th:only-of-type {\n",
              "        vertical-align: middle;\n",
              "    }\n",
              "\n",
              "    .dataframe tbody tr th {\n",
              "        vertical-align: top;\n",
              "    }\n",
              "\n",
              "    .dataframe thead th {\n",
              "        text-align: right;\n",
              "    }\n",
              "</style>\n",
              "<table border=\"1\" class=\"dataframe\">\n",
              "  <thead>\n",
              "    <tr style=\"text-align: right;\">\n",
              "      <th></th>\n",
              "      <th>Complaint Type</th>\n",
              "      <th>Borough</th>\n",
              "      <th>Incident Zip</th>\n",
              "      <th>Unique Key</th>\n",
              "    </tr>\n",
              "  </thead>\n",
              "  <tbody>\n",
              "    <tr>\n",
              "      <th>0</th>\n",
              "      <td>HEAT/HOT WATER</td>\n",
              "      <td>MANHATTAN</td>\n",
              "      <td>10019.0</td>\n",
              "      <td>45531130</td>\n",
              "    </tr>\n",
              "    <tr>\n",
              "      <th>1</th>\n",
              "      <td>UNSANITARY CONDITION</td>\n",
              "      <td>BROOKLYN</td>\n",
              "      <td>11204.0</td>\n",
              "      <td>45529784</td>\n",
              "    </tr>\n",
              "    <tr>\n",
              "      <th>2</th>\n",
              "      <td>HEAT/HOT WATER</td>\n",
              "      <td>QUEENS</td>\n",
              "      <td>11372.0</td>\n",
              "      <td>45527528</td>\n",
              "    </tr>\n",
              "    <tr>\n",
              "      <th>3</th>\n",
              "      <td>HEAT/HOT WATER</td>\n",
              "      <td>BRONX</td>\n",
              "      <td>10458.0</td>\n",
              "      <td>45530329</td>\n",
              "    </tr>\n",
              "    <tr>\n",
              "      <th>4</th>\n",
              "      <td>APPLIANCE</td>\n",
              "      <td>BROOKLYN</td>\n",
              "      <td>11209.0</td>\n",
              "      <td>45528814</td>\n",
              "    </tr>\n",
              "  </tbody>\n",
              "</table>\n",
              "</div>"
            ],
            "text/plain": [
              "         Complaint Type    Borough  Incident Zip  Unique Key\n",
              "0        HEAT/HOT WATER  MANHATTAN       10019.0    45531130\n",
              "1  UNSANITARY CONDITION   BROOKLYN       11204.0    45529784\n",
              "2        HEAT/HOT WATER     QUEENS       11372.0    45527528\n",
              "3        HEAT/HOT WATER      BRONX       10458.0    45530329\n",
              "4             APPLIANCE   BROOKLYN       11209.0    45528814"
            ]
          },
          "metadata": {
            "tags": []
          },
          "execution_count": 11
        }
      ]
    },
    {
      "cell_type": "code",
      "metadata": {
        "id": "DkuaGx-esvSN",
        "colab_type": "code",
        "colab": {
          "base_uri": "https://localhost:8080/",
          "height": 287
        },
        "outputId": "f733499d-6158-4e09-bec6-aac9e274643c"
      },
      "source": [
        "new.describe()"
      ],
      "execution_count": null,
      "outputs": [
        {
          "output_type": "execute_result",
          "data": {
            "text/html": [
              "<div>\n",
              "<style scoped>\n",
              "    .dataframe tbody tr th:only-of-type {\n",
              "        vertical-align: middle;\n",
              "    }\n",
              "\n",
              "    .dataframe tbody tr th {\n",
              "        vertical-align: top;\n",
              "    }\n",
              "\n",
              "    .dataframe thead th {\n",
              "        text-align: right;\n",
              "    }\n",
              "</style>\n",
              "<table border=\"1\" class=\"dataframe\">\n",
              "  <thead>\n",
              "    <tr style=\"text-align: right;\">\n",
              "      <th></th>\n",
              "      <th>Incident Zip</th>\n",
              "      <th>Unique Key</th>\n",
              "    </tr>\n",
              "  </thead>\n",
              "  <tbody>\n",
              "    <tr>\n",
              "      <th>count</th>\n",
              "      <td>5.939146e+06</td>\n",
              "      <td>6.019843e+06</td>\n",
              "    </tr>\n",
              "    <tr>\n",
              "      <th>mean</th>\n",
              "      <td>1.074698e+04</td>\n",
              "      <td>2.956254e+07</td>\n",
              "    </tr>\n",
              "    <tr>\n",
              "      <th>std</th>\n",
              "      <td>5.130236e+02</td>\n",
              "      <td>7.909439e+06</td>\n",
              "    </tr>\n",
              "    <tr>\n",
              "      <th>min</th>\n",
              "      <td>1.000100e+04</td>\n",
              "      <td>1.562973e+07</td>\n",
              "    </tr>\n",
              "    <tr>\n",
              "      <th>25%</th>\n",
              "      <td>1.045200e+04</td>\n",
              "      <td>2.291225e+07</td>\n",
              "    </tr>\n",
              "    <tr>\n",
              "      <th>50%</th>\n",
              "      <td>1.046900e+04</td>\n",
              "      <td>2.931010e+07</td>\n",
              "    </tr>\n",
              "    <tr>\n",
              "      <th>75%</th>\n",
              "      <td>1.122300e+04</td>\n",
              "      <td>3.583163e+07</td>\n",
              "    </tr>\n",
              "    <tr>\n",
              "      <th>max</th>\n",
              "      <td>1.234500e+04</td>\n",
              "      <td>4.553204e+07</td>\n",
              "    </tr>\n",
              "  </tbody>\n",
              "</table>\n",
              "</div>"
            ],
            "text/plain": [
              "       Incident Zip    Unique Key\n",
              "count  5.939146e+06  6.019843e+06\n",
              "mean   1.074698e+04  2.956254e+07\n",
              "std    5.130236e+02  7.909439e+06\n",
              "min    1.000100e+04  1.562973e+07\n",
              "25%    1.045200e+04  2.291225e+07\n",
              "50%    1.046900e+04  2.931010e+07\n",
              "75%    1.122300e+04  3.583163e+07\n",
              "max    1.234500e+04  4.553204e+07"
            ]
          },
          "metadata": {
            "tags": []
          },
          "execution_count": 12
        }
      ]
    },
    {
      "cell_type": "code",
      "metadata": {
        "id": "_lBwHsepvr4H",
        "colab_type": "code",
        "colab": {
          "base_uri": "https://localhost:8080/",
          "height": 197
        },
        "outputId": "bd45a1b8-d16e-4c7c-d13c-37c233b50589"
      },
      "source": [
        "new.head()"
      ],
      "execution_count": null,
      "outputs": [
        {
          "output_type": "execute_result",
          "data": {
            "text/html": [
              "<div>\n",
              "<style scoped>\n",
              "    .dataframe tbody tr th:only-of-type {\n",
              "        vertical-align: middle;\n",
              "    }\n",
              "\n",
              "    .dataframe tbody tr th {\n",
              "        vertical-align: top;\n",
              "    }\n",
              "\n",
              "    .dataframe thead th {\n",
              "        text-align: right;\n",
              "    }\n",
              "</style>\n",
              "<table border=\"1\" class=\"dataframe\">\n",
              "  <thead>\n",
              "    <tr style=\"text-align: right;\">\n",
              "      <th></th>\n",
              "      <th>Complaint Type</th>\n",
              "      <th>Borough</th>\n",
              "      <th>Incident Zip</th>\n",
              "      <th>Unique Key</th>\n",
              "    </tr>\n",
              "  </thead>\n",
              "  <tbody>\n",
              "    <tr>\n",
              "      <th>0</th>\n",
              "      <td>HEAT/HOT WATER</td>\n",
              "      <td>MANHATTAN</td>\n",
              "      <td>10019.0</td>\n",
              "      <td>45531130</td>\n",
              "    </tr>\n",
              "    <tr>\n",
              "      <th>1</th>\n",
              "      <td>UNSANITARY CONDITION</td>\n",
              "      <td>BROOKLYN</td>\n",
              "      <td>11204.0</td>\n",
              "      <td>45529784</td>\n",
              "    </tr>\n",
              "    <tr>\n",
              "      <th>2</th>\n",
              "      <td>HEAT/HOT WATER</td>\n",
              "      <td>QUEENS</td>\n",
              "      <td>11372.0</td>\n",
              "      <td>45527528</td>\n",
              "    </tr>\n",
              "    <tr>\n",
              "      <th>3</th>\n",
              "      <td>HEAT/HOT WATER</td>\n",
              "      <td>BRONX</td>\n",
              "      <td>10458.0</td>\n",
              "      <td>45530329</td>\n",
              "    </tr>\n",
              "    <tr>\n",
              "      <th>4</th>\n",
              "      <td>APPLIANCE</td>\n",
              "      <td>BROOKLYN</td>\n",
              "      <td>11209.0</td>\n",
              "      <td>45528814</td>\n",
              "    </tr>\n",
              "  </tbody>\n",
              "</table>\n",
              "</div>"
            ],
            "text/plain": [
              "         Complaint Type    Borough  Incident Zip  Unique Key\n",
              "0        HEAT/HOT WATER  MANHATTAN       10019.0    45531130\n",
              "1  UNSANITARY CONDITION   BROOKLYN       11204.0    45529784\n",
              "2        HEAT/HOT WATER     QUEENS       11372.0    45527528\n",
              "3        HEAT/HOT WATER      BRONX       10458.0    45530329\n",
              "4             APPLIANCE   BROOKLYN       11209.0    45528814"
            ]
          },
          "metadata": {
            "tags": []
          },
          "execution_count": 13
        }
      ]
    },
    {
      "cell_type": "code",
      "metadata": {
        "id": "mikckVDBwLxb",
        "colab_type": "code",
        "colab": {
          "base_uri": "https://localhost:8080/",
          "height": 406
        },
        "outputId": "78290ba5-956a-4875-f29b-3a9e9809b558"
      },
      "source": [
        " \n",
        "missing_data = new.isnull() \n",
        "missing_data"
      ],
      "execution_count": null,
      "outputs": [
        {
          "output_type": "execute_result",
          "data": {
            "text/html": [
              "<div>\n",
              "<style scoped>\n",
              "    .dataframe tbody tr th:only-of-type {\n",
              "        vertical-align: middle;\n",
              "    }\n",
              "\n",
              "    .dataframe tbody tr th {\n",
              "        vertical-align: top;\n",
              "    }\n",
              "\n",
              "    .dataframe thead th {\n",
              "        text-align: right;\n",
              "    }\n",
              "</style>\n",
              "<table border=\"1\" class=\"dataframe\">\n",
              "  <thead>\n",
              "    <tr style=\"text-align: right;\">\n",
              "      <th></th>\n",
              "      <th>Complaint Type</th>\n",
              "      <th>Borough</th>\n",
              "      <th>Incident Zip</th>\n",
              "      <th>Unique Key</th>\n",
              "    </tr>\n",
              "  </thead>\n",
              "  <tbody>\n",
              "    <tr>\n",
              "      <th>0</th>\n",
              "      <td>False</td>\n",
              "      <td>False</td>\n",
              "      <td>False</td>\n",
              "      <td>False</td>\n",
              "    </tr>\n",
              "    <tr>\n",
              "      <th>1</th>\n",
              "      <td>False</td>\n",
              "      <td>False</td>\n",
              "      <td>False</td>\n",
              "      <td>False</td>\n",
              "    </tr>\n",
              "    <tr>\n",
              "      <th>2</th>\n",
              "      <td>False</td>\n",
              "      <td>False</td>\n",
              "      <td>False</td>\n",
              "      <td>False</td>\n",
              "    </tr>\n",
              "    <tr>\n",
              "      <th>3</th>\n",
              "      <td>False</td>\n",
              "      <td>False</td>\n",
              "      <td>False</td>\n",
              "      <td>False</td>\n",
              "    </tr>\n",
              "    <tr>\n",
              "      <th>4</th>\n",
              "      <td>False</td>\n",
              "      <td>False</td>\n",
              "      <td>False</td>\n",
              "      <td>False</td>\n",
              "    </tr>\n",
              "    <tr>\n",
              "      <th>...</th>\n",
              "      <td>...</td>\n",
              "      <td>...</td>\n",
              "      <td>...</td>\n",
              "      <td>...</td>\n",
              "    </tr>\n",
              "    <tr>\n",
              "      <th>6019838</th>\n",
              "      <td>False</td>\n",
              "      <td>False</td>\n",
              "      <td>False</td>\n",
              "      <td>False</td>\n",
              "    </tr>\n",
              "    <tr>\n",
              "      <th>6019839</th>\n",
              "      <td>False</td>\n",
              "      <td>False</td>\n",
              "      <td>False</td>\n",
              "      <td>False</td>\n",
              "    </tr>\n",
              "    <tr>\n",
              "      <th>6019840</th>\n",
              "      <td>False</td>\n",
              "      <td>False</td>\n",
              "      <td>False</td>\n",
              "      <td>False</td>\n",
              "    </tr>\n",
              "    <tr>\n",
              "      <th>6019841</th>\n",
              "      <td>False</td>\n",
              "      <td>False</td>\n",
              "      <td>False</td>\n",
              "      <td>False</td>\n",
              "    </tr>\n",
              "    <tr>\n",
              "      <th>6019842</th>\n",
              "      <td>False</td>\n",
              "      <td>False</td>\n",
              "      <td>False</td>\n",
              "      <td>False</td>\n",
              "    </tr>\n",
              "  </tbody>\n",
              "</table>\n",
              "<p>6019843 rows × 4 columns</p>\n",
              "</div>"
            ],
            "text/plain": [
              "         Complaint Type  Borough  Incident Zip  Unique Key\n",
              "0                 False    False         False       False\n",
              "1                 False    False         False       False\n",
              "2                 False    False         False       False\n",
              "3                 False    False         False       False\n",
              "4                 False    False         False       False\n",
              "...                 ...      ...           ...         ...\n",
              "6019838           False    False         False       False\n",
              "6019839           False    False         False       False\n",
              "6019840           False    False         False       False\n",
              "6019841           False    False         False       False\n",
              "6019842           False    False         False       False\n",
              "\n",
              "[6019843 rows x 4 columns]"
            ]
          },
          "metadata": {
            "tags": []
          },
          "execution_count": 14
        }
      ]
    },
    {
      "cell_type": "code",
      "metadata": {
        "id": "6XKKvvj9wrou",
        "colab_type": "code",
        "colab": {
          "base_uri": "https://localhost:8080/",
          "height": 318
        },
        "outputId": "7bb93401-422c-4431-b03f-602e6ef6261e"
      },
      "source": [
        "\n",
        "for column in missing_data.columns.values.tolist(): \n",
        "    print(column) \n",
        "    print (missing_data[column].value_counts()) \n",
        "    print(\"\")     \n",
        " "
      ],
      "execution_count": null,
      "outputs": [
        {
          "output_type": "stream",
          "text": [
            "Complaint Type\n",
            "False    6019843\n",
            "Name: Complaint Type, dtype: int64\n",
            "\n",
            "Borough\n",
            "False    6019843\n",
            "Name: Borough, dtype: int64\n",
            "\n",
            "Incident Zip\n",
            "False    5939146\n",
            "True       80697\n",
            "Name: Incident Zip, dtype: int64\n",
            "\n",
            "Unique Key\n",
            "False    6019843\n",
            "Name: Unique Key, dtype: int64\n",
            "\n"
          ],
          "name": "stdout"
        }
      ]
    },
    {
      "cell_type": "code",
      "metadata": {
        "id": "7hIp_UFFw_E3",
        "colab_type": "code",
        "colab": {
          "base_uri": "https://localhost:8080/",
          "height": 947
        },
        "outputId": "f40d964a-390d-4a11-be3d-227c60df8cc1"
      },
      "source": [
        "new[\"Complaint Type\"].value_counts().to_frame()\n"
      ],
      "execution_count": null,
      "outputs": [
        {
          "output_type": "execute_result",
          "data": {
            "text/html": [
              "<div>\n",
              "<style scoped>\n",
              "    .dataframe tbody tr th:only-of-type {\n",
              "        vertical-align: middle;\n",
              "    }\n",
              "\n",
              "    .dataframe tbody tr th {\n",
              "        vertical-align: top;\n",
              "    }\n",
              "\n",
              "    .dataframe thead th {\n",
              "        text-align: right;\n",
              "    }\n",
              "</style>\n",
              "<table border=\"1\" class=\"dataframe\">\n",
              "  <thead>\n",
              "    <tr style=\"text-align: right;\">\n",
              "      <th></th>\n",
              "      <th>Complaint Type</th>\n",
              "    </tr>\n",
              "  </thead>\n",
              "  <tbody>\n",
              "    <tr>\n",
              "      <th>HEAT/HOT WATER</th>\n",
              "      <td>1261574</td>\n",
              "    </tr>\n",
              "    <tr>\n",
              "      <th>HEATING</th>\n",
              "      <td>887850</td>\n",
              "    </tr>\n",
              "    <tr>\n",
              "      <th>PLUMBING</th>\n",
              "      <td>711130</td>\n",
              "    </tr>\n",
              "    <tr>\n",
              "      <th>GENERAL CONSTRUCTION</th>\n",
              "      <td>500863</td>\n",
              "    </tr>\n",
              "    <tr>\n",
              "      <th>UNSANITARY CONDITION</th>\n",
              "      <td>451643</td>\n",
              "    </tr>\n",
              "    <tr>\n",
              "      <th>PAINT - PLASTER</th>\n",
              "      <td>361257</td>\n",
              "    </tr>\n",
              "    <tr>\n",
              "      <th>PAINT/PLASTER</th>\n",
              "      <td>346438</td>\n",
              "    </tr>\n",
              "    <tr>\n",
              "      <th>ELECTRIC</th>\n",
              "      <td>307310</td>\n",
              "    </tr>\n",
              "    <tr>\n",
              "      <th>NONCONST</th>\n",
              "      <td>260890</td>\n",
              "    </tr>\n",
              "    <tr>\n",
              "      <th>DOOR/WINDOW</th>\n",
              "      <td>205278</td>\n",
              "    </tr>\n",
              "    <tr>\n",
              "      <th>WATER LEAK</th>\n",
              "      <td>193631</td>\n",
              "    </tr>\n",
              "    <tr>\n",
              "      <th>GENERAL</th>\n",
              "      <td>151308</td>\n",
              "    </tr>\n",
              "    <tr>\n",
              "      <th>FLOORING/STAIRS</th>\n",
              "      <td>137402</td>\n",
              "    </tr>\n",
              "    <tr>\n",
              "      <th>APPLIANCE</th>\n",
              "      <td>112831</td>\n",
              "    </tr>\n",
              "    <tr>\n",
              "      <th>HPD Literature Request</th>\n",
              "      <td>52824</td>\n",
              "    </tr>\n",
              "    <tr>\n",
              "      <th>SAFETY</th>\n",
              "      <td>51529</td>\n",
              "    </tr>\n",
              "    <tr>\n",
              "      <th>OUTSIDE BUILDING</th>\n",
              "      <td>7142</td>\n",
              "    </tr>\n",
              "    <tr>\n",
              "      <th>ELEVATOR</th>\n",
              "      <td>6725</td>\n",
              "    </tr>\n",
              "    <tr>\n",
              "      <th>Unsanitary Condition</th>\n",
              "      <td>5499</td>\n",
              "    </tr>\n",
              "    <tr>\n",
              "      <th>CONSTRUCTION</th>\n",
              "      <td>5078</td>\n",
              "    </tr>\n",
              "    <tr>\n",
              "      <th>General</th>\n",
              "      <td>1163</td>\n",
              "    </tr>\n",
              "    <tr>\n",
              "      <th>Safety</th>\n",
              "      <td>424</td>\n",
              "    </tr>\n",
              "    <tr>\n",
              "      <th>STRUCTURAL</th>\n",
              "      <td>16</td>\n",
              "    </tr>\n",
              "    <tr>\n",
              "      <th>Plumbing</th>\n",
              "      <td>11</td>\n",
              "    </tr>\n",
              "    <tr>\n",
              "      <th>AGENCY</th>\n",
              "      <td>9</td>\n",
              "    </tr>\n",
              "    <tr>\n",
              "      <th>VACANT APARTMENT</th>\n",
              "      <td>6</td>\n",
              "    </tr>\n",
              "    <tr>\n",
              "      <th>Outside Building</th>\n",
              "      <td>6</td>\n",
              "    </tr>\n",
              "    <tr>\n",
              "      <th>Appliance</th>\n",
              "      <td>4</td>\n",
              "    </tr>\n",
              "    <tr>\n",
              "      <th>Electric</th>\n",
              "      <td>1</td>\n",
              "    </tr>\n",
              "    <tr>\n",
              "      <th>Mold</th>\n",
              "      <td>1</td>\n",
              "    </tr>\n",
              "  </tbody>\n",
              "</table>\n",
              "</div>"
            ],
            "text/plain": [
              "                        Complaint Type\n",
              "HEAT/HOT WATER                 1261574\n",
              "HEATING                         887850\n",
              "PLUMBING                        711130\n",
              "GENERAL CONSTRUCTION            500863\n",
              "UNSANITARY CONDITION            451643\n",
              "PAINT - PLASTER                 361257\n",
              "PAINT/PLASTER                   346438\n",
              "ELECTRIC                        307310\n",
              "NONCONST                        260890\n",
              "DOOR/WINDOW                     205278\n",
              "WATER LEAK                      193631\n",
              "GENERAL                         151308\n",
              "FLOORING/STAIRS                 137402\n",
              "APPLIANCE                       112831\n",
              "HPD Literature Request           52824\n",
              "SAFETY                           51529\n",
              "OUTSIDE BUILDING                  7142\n",
              "ELEVATOR                          6725\n",
              "Unsanitary Condition              5499\n",
              "CONSTRUCTION                      5078\n",
              "General                           1163\n",
              "Safety                             424\n",
              "STRUCTURAL                          16\n",
              "Plumbing                            11\n",
              "AGENCY                               9\n",
              "VACANT APARTMENT                     6\n",
              "Outside Building                     6\n",
              "Appliance                            4\n",
              "Electric                             1\n",
              "Mold                                 1"
            ]
          },
          "metadata": {
            "tags": []
          },
          "execution_count": 16
        }
      ]
    },
    {
      "cell_type": "code",
      "metadata": {
        "id": "xxGPolS1x4f9",
        "colab_type": "code",
        "colab": {
          "base_uri": "https://localhost:8080/",
          "height": 167
        },
        "outputId": "b34f02d3-cced-43e4-bdc0-1047c19bd325"
      },
      "source": [
        "new[\"Complaint Type\"].describe().to_frame()"
      ],
      "execution_count": null,
      "outputs": [
        {
          "output_type": "execute_result",
          "data": {
            "text/html": [
              "<div>\n",
              "<style scoped>\n",
              "    .dataframe tbody tr th:only-of-type {\n",
              "        vertical-align: middle;\n",
              "    }\n",
              "\n",
              "    .dataframe tbody tr th {\n",
              "        vertical-align: top;\n",
              "    }\n",
              "\n",
              "    .dataframe thead th {\n",
              "        text-align: right;\n",
              "    }\n",
              "</style>\n",
              "<table border=\"1\" class=\"dataframe\">\n",
              "  <thead>\n",
              "    <tr style=\"text-align: right;\">\n",
              "      <th></th>\n",
              "      <th>Complaint Type</th>\n",
              "    </tr>\n",
              "  </thead>\n",
              "  <tbody>\n",
              "    <tr>\n",
              "      <th>count</th>\n",
              "      <td>6019843</td>\n",
              "    </tr>\n",
              "    <tr>\n",
              "      <th>unique</th>\n",
              "      <td>30</td>\n",
              "    </tr>\n",
              "    <tr>\n",
              "      <th>top</th>\n",
              "      <td>HEAT/HOT WATER</td>\n",
              "    </tr>\n",
              "    <tr>\n",
              "      <th>freq</th>\n",
              "      <td>1261574</td>\n",
              "    </tr>\n",
              "  </tbody>\n",
              "</table>\n",
              "</div>"
            ],
            "text/plain": [
              "        Complaint Type\n",
              "count          6019843\n",
              "unique              30\n",
              "top     HEAT/HOT WATER\n",
              "freq           1261574"
            ]
          },
          "metadata": {
            "tags": []
          },
          "execution_count": 17
        }
      ]
    },
    {
      "cell_type": "code",
      "metadata": {
        "id": "BSUhxkNdzpAm",
        "colab_type": "code",
        "colab": {
          "base_uri": "https://localhost:8080/",
          "height": 167
        },
        "outputId": "f2326ca6-5cd8-4116-9a07-3a82c3c2aabc"
      },
      "source": [
        "df[\"Street Name\"].describe().to_frame()"
      ],
      "execution_count": null,
      "outputs": [
        {
          "output_type": "execute_result",
          "data": {
            "text/html": [
              "<div>\n",
              "<style scoped>\n",
              "    .dataframe tbody tr th:only-of-type {\n",
              "        vertical-align: middle;\n",
              "    }\n",
              "\n",
              "    .dataframe tbody tr th {\n",
              "        vertical-align: top;\n",
              "    }\n",
              "\n",
              "    .dataframe thead th {\n",
              "        text-align: right;\n",
              "    }\n",
              "</style>\n",
              "<table border=\"1\" class=\"dataframe\">\n",
              "  <thead>\n",
              "    <tr style=\"text-align: right;\">\n",
              "      <th></th>\n",
              "      <th>Street Name</th>\n",
              "    </tr>\n",
              "  </thead>\n",
              "  <tbody>\n",
              "    <tr>\n",
              "      <th>count</th>\n",
              "      <td>5967018</td>\n",
              "    </tr>\n",
              "    <tr>\n",
              "      <th>unique</th>\n",
              "      <td>6825</td>\n",
              "    </tr>\n",
              "    <tr>\n",
              "      <th>top</th>\n",
              "      <td>GRAND CONCOURSE</td>\n",
              "    </tr>\n",
              "    <tr>\n",
              "      <th>freq</th>\n",
              "      <td>92450</td>\n",
              "    </tr>\n",
              "  </tbody>\n",
              "</table>\n",
              "</div>"
            ],
            "text/plain": [
              "            Street Name\n",
              "count           5967018\n",
              "unique             6825\n",
              "top     GRAND CONCOURSE\n",
              "freq              92450"
            ]
          },
          "metadata": {
            "tags": []
          },
          "execution_count": 18
        }
      ]
    },
    {
      "cell_type": "code",
      "metadata": {
        "id": "ze3KlfXk0UAw",
        "colab_type": "code",
        "colab": {
          "base_uri": "https://localhost:8080/",
          "height": 444
        },
        "outputId": "0f3fdc2f-82a3-4ff8-fa73-23974a3f5886"
      },
      "source": [
        "df.describe(include=\"all\")"
      ],
      "execution_count": null,
      "outputs": [
        {
          "output_type": "execute_result",
          "data": {
            "text/html": [
              "<div>\n",
              "<style scoped>\n",
              "    .dataframe tbody tr th:only-of-type {\n",
              "        vertical-align: middle;\n",
              "    }\n",
              "\n",
              "    .dataframe tbody tr th {\n",
              "        vertical-align: top;\n",
              "    }\n",
              "\n",
              "    .dataframe thead th {\n",
              "        text-align: right;\n",
              "    }\n",
              "</style>\n",
              "<table border=\"1\" class=\"dataframe\">\n",
              "  <thead>\n",
              "    <tr style=\"text-align: right;\">\n",
              "      <th></th>\n",
              "      <th>Unnamed: 0</th>\n",
              "      <th>Unique Key</th>\n",
              "      <th>Created Date</th>\n",
              "      <th>Closed Date</th>\n",
              "      <th>Complaint Type</th>\n",
              "      <th>Location Type</th>\n",
              "      <th>Incident Zip</th>\n",
              "      <th>Incident Address</th>\n",
              "      <th>Street Name</th>\n",
              "      <th>Address Type</th>\n",
              "      <th>City</th>\n",
              "      <th>Status</th>\n",
              "      <th>Resolution Description</th>\n",
              "      <th>Borough</th>\n",
              "      <th>Latitude</th>\n",
              "      <th>Longitude</th>\n",
              "    </tr>\n",
              "  </thead>\n",
              "  <tbody>\n",
              "    <tr>\n",
              "      <th>count</th>\n",
              "      <td>6.019843e+06</td>\n",
              "      <td>6.019843e+06</td>\n",
              "      <td>6019843</td>\n",
              "      <td>5893186</td>\n",
              "      <td>6019843</td>\n",
              "      <td>5967019</td>\n",
              "      <td>5.939146e+06</td>\n",
              "      <td>5967018</td>\n",
              "      <td>5967018</td>\n",
              "      <td>5935078</td>\n",
              "      <td>5939569</td>\n",
              "      <td>6019843</td>\n",
              "      <td>6012017</td>\n",
              "      <td>6019843</td>\n",
              "      <td>5.939172e+06</td>\n",
              "      <td>5.939172e+06</td>\n",
              "    </tr>\n",
              "    <tr>\n",
              "      <th>unique</th>\n",
              "      <td>NaN</td>\n",
              "      <td>NaN</td>\n",
              "      <td>1675132</td>\n",
              "      <td>757706</td>\n",
              "      <td>30</td>\n",
              "      <td>5</td>\n",
              "      <td>NaN</td>\n",
              "      <td>182600</td>\n",
              "      <td>6825</td>\n",
              "      <td>1</td>\n",
              "      <td>89</td>\n",
              "      <td>5</td>\n",
              "      <td>340</td>\n",
              "      <td>6</td>\n",
              "      <td>NaN</td>\n",
              "      <td>NaN</td>\n",
              "    </tr>\n",
              "    <tr>\n",
              "      <th>top</th>\n",
              "      <td>NaN</td>\n",
              "      <td>NaN</td>\n",
              "      <td>01/24/2013 12:00:00 AM</td>\n",
              "      <td>11/07/2012 12:00:00 AM</td>\n",
              "      <td>HEAT/HOT WATER</td>\n",
              "      <td>RESIDENTIAL BUILDING</td>\n",
              "      <td>NaN</td>\n",
              "      <td>34 ARDEN STREET</td>\n",
              "      <td>GRAND CONCOURSE</td>\n",
              "      <td>ADDRESS</td>\n",
              "      <td>BROOKLYN</td>\n",
              "      <td>Closed</td>\n",
              "      <td>The Department of Housing Preservation and Dev...</td>\n",
              "      <td>BROOKLYN</td>\n",
              "      <td>NaN</td>\n",
              "      <td>NaN</td>\n",
              "    </tr>\n",
              "    <tr>\n",
              "      <th>freq</th>\n",
              "      <td>NaN</td>\n",
              "      <td>NaN</td>\n",
              "      <td>7581</td>\n",
              "      <td>7296</td>\n",
              "      <td>1261574</td>\n",
              "      <td>5959910</td>\n",
              "      <td>NaN</td>\n",
              "      <td>14298</td>\n",
              "      <td>92450</td>\n",
              "      <td>5935078</td>\n",
              "      <td>2026580</td>\n",
              "      <td>5886253</td>\n",
              "      <td>1698990</td>\n",
              "      <td>1739886</td>\n",
              "      <td>NaN</td>\n",
              "      <td>NaN</td>\n",
              "    </tr>\n",
              "    <tr>\n",
              "      <th>mean</th>\n",
              "      <td>3.009921e+06</td>\n",
              "      <td>2.956254e+07</td>\n",
              "      <td>NaN</td>\n",
              "      <td>NaN</td>\n",
              "      <td>NaN</td>\n",
              "      <td>NaN</td>\n",
              "      <td>1.074698e+04</td>\n",
              "      <td>NaN</td>\n",
              "      <td>NaN</td>\n",
              "      <td>NaN</td>\n",
              "      <td>NaN</td>\n",
              "      <td>NaN</td>\n",
              "      <td>NaN</td>\n",
              "      <td>NaN</td>\n",
              "      <td>4.075424e+01</td>\n",
              "      <td>-7.391986e+01</td>\n",
              "    </tr>\n",
              "    <tr>\n",
              "      <th>std</th>\n",
              "      <td>1.737779e+06</td>\n",
              "      <td>7.909439e+06</td>\n",
              "      <td>NaN</td>\n",
              "      <td>NaN</td>\n",
              "      <td>NaN</td>\n",
              "      <td>NaN</td>\n",
              "      <td>5.130236e+02</td>\n",
              "      <td>NaN</td>\n",
              "      <td>NaN</td>\n",
              "      <td>NaN</td>\n",
              "      <td>NaN</td>\n",
              "      <td>NaN</td>\n",
              "      <td>NaN</td>\n",
              "      <td>NaN</td>\n",
              "      <td>9.087877e-02</td>\n",
              "      <td>5.684804e-02</td>\n",
              "    </tr>\n",
              "    <tr>\n",
              "      <th>min</th>\n",
              "      <td>0.000000e+00</td>\n",
              "      <td>1.562973e+07</td>\n",
              "      <td>NaN</td>\n",
              "      <td>NaN</td>\n",
              "      <td>NaN</td>\n",
              "      <td>NaN</td>\n",
              "      <td>1.000100e+04</td>\n",
              "      <td>NaN</td>\n",
              "      <td>NaN</td>\n",
              "      <td>NaN</td>\n",
              "      <td>NaN</td>\n",
              "      <td>NaN</td>\n",
              "      <td>NaN</td>\n",
              "      <td>NaN</td>\n",
              "      <td>4.049934e+01</td>\n",
              "      <td>-7.425312e+01</td>\n",
              "    </tr>\n",
              "    <tr>\n",
              "      <th>25%</th>\n",
              "      <td>1.504960e+06</td>\n",
              "      <td>2.291225e+07</td>\n",
              "      <td>NaN</td>\n",
              "      <td>NaN</td>\n",
              "      <td>NaN</td>\n",
              "      <td>NaN</td>\n",
              "      <td>1.045200e+04</td>\n",
              "      <td>NaN</td>\n",
              "      <td>NaN</td>\n",
              "      <td>NaN</td>\n",
              "      <td>NaN</td>\n",
              "      <td>NaN</td>\n",
              "      <td>NaN</td>\n",
              "      <td>NaN</td>\n",
              "      <td>4.067116e+01</td>\n",
              "      <td>-7.395200e+01</td>\n",
              "    </tr>\n",
              "    <tr>\n",
              "      <th>50%</th>\n",
              "      <td>3.009921e+06</td>\n",
              "      <td>2.931010e+07</td>\n",
              "      <td>NaN</td>\n",
              "      <td>NaN</td>\n",
              "      <td>NaN</td>\n",
              "      <td>NaN</td>\n",
              "      <td>1.046900e+04</td>\n",
              "      <td>NaN</td>\n",
              "      <td>NaN</td>\n",
              "      <td>NaN</td>\n",
              "      <td>NaN</td>\n",
              "      <td>NaN</td>\n",
              "      <td>NaN</td>\n",
              "      <td>NaN</td>\n",
              "      <td>4.075703e+01</td>\n",
              "      <td>-7.392248e+01</td>\n",
              "    </tr>\n",
              "    <tr>\n",
              "      <th>75%</th>\n",
              "      <td>4.514882e+06</td>\n",
              "      <td>3.583163e+07</td>\n",
              "      <td>NaN</td>\n",
              "      <td>NaN</td>\n",
              "      <td>NaN</td>\n",
              "      <td>NaN</td>\n",
              "      <td>1.122300e+04</td>\n",
              "      <td>NaN</td>\n",
              "      <td>NaN</td>\n",
              "      <td>NaN</td>\n",
              "      <td>NaN</td>\n",
              "      <td>NaN</td>\n",
              "      <td>NaN</td>\n",
              "      <td>NaN</td>\n",
              "      <td>4.083958e+01</td>\n",
              "      <td>-7.389023e+01</td>\n",
              "    </tr>\n",
              "    <tr>\n",
              "      <th>max</th>\n",
              "      <td>6.019842e+06</td>\n",
              "      <td>4.553204e+07</td>\n",
              "      <td>NaN</td>\n",
              "      <td>NaN</td>\n",
              "      <td>NaN</td>\n",
              "      <td>NaN</td>\n",
              "      <td>1.234500e+04</td>\n",
              "      <td>NaN</td>\n",
              "      <td>NaN</td>\n",
              "      <td>NaN</td>\n",
              "      <td>NaN</td>\n",
              "      <td>NaN</td>\n",
              "      <td>NaN</td>\n",
              "      <td>NaN</td>\n",
              "      <td>4.091287e+01</td>\n",
              "      <td>-7.370079e+01</td>\n",
              "    </tr>\n",
              "  </tbody>\n",
              "</table>\n",
              "</div>"
            ],
            "text/plain": [
              "          Unnamed: 0    Unique Key  ...      Latitude     Longitude\n",
              "count   6.019843e+06  6.019843e+06  ...  5.939172e+06  5.939172e+06\n",
              "unique           NaN           NaN  ...           NaN           NaN\n",
              "top              NaN           NaN  ...           NaN           NaN\n",
              "freq             NaN           NaN  ...           NaN           NaN\n",
              "mean    3.009921e+06  2.956254e+07  ...  4.075424e+01 -7.391986e+01\n",
              "std     1.737779e+06  7.909439e+06  ...  9.087877e-02  5.684804e-02\n",
              "min     0.000000e+00  1.562973e+07  ...  4.049934e+01 -7.425312e+01\n",
              "25%     1.504960e+06  2.291225e+07  ...  4.067116e+01 -7.395200e+01\n",
              "50%     3.009921e+06  2.931010e+07  ...  4.075703e+01 -7.392248e+01\n",
              "75%     4.514882e+06  3.583163e+07  ...  4.083958e+01 -7.389023e+01\n",
              "max     6.019842e+06  4.553204e+07  ...  4.091287e+01 -7.370079e+01\n",
              "\n",
              "[11 rows x 16 columns]"
            ]
          },
          "metadata": {
            "tags": []
          },
          "execution_count": 19
        }
      ]
    },
    {
      "cell_type": "code",
      "metadata": {
        "id": "f0oVxLNA0rxb",
        "colab_type": "code",
        "colab": {
          "base_uri": "https://localhost:8080/",
          "height": 35
        },
        "outputId": "ccec9362-c58e-4220-a446-482307127d68"
      },
      "source": [
        "df[\"Borough\"].value_counts().idxmax()"
      ],
      "execution_count": null,
      "outputs": [
        {
          "output_type": "execute_result",
          "data": {
            "application/vnd.google.colaboratory.intrinsic+json": {
              "type": "string"
            },
            "text/plain": [
              "'BROOKLYN'"
            ]
          },
          "metadata": {
            "tags": []
          },
          "execution_count": 20
        }
      ]
    },
    {
      "cell_type": "code",
      "metadata": {
        "id": "5bIxlkSW1Tht",
        "colab_type": "code",
        "colab": {
          "base_uri": "https://localhost:8080/",
          "height": 35
        },
        "outputId": "6dac515f-6623-479d-f813-7b46cc184dda"
      },
      "source": [
        "df[\"Incident Address\"].value_counts().idxmax()"
      ],
      "execution_count": null,
      "outputs": [
        {
          "output_type": "execute_result",
          "data": {
            "application/vnd.google.colaboratory.intrinsic+json": {
              "type": "string"
            },
            "text/plain": [
              "'34 ARDEN STREET'"
            ]
          },
          "metadata": {
            "tags": []
          },
          "execution_count": 21
        }
      ]
    },
    {
      "cell_type": "code",
      "metadata": {
        "id": "5eyIIbKd1Z2o",
        "colab_type": "code",
        "colab": {
          "base_uri": "https://localhost:8080/",
          "height": 34
        },
        "outputId": "5de0b78d-8f7c-42a3-bed3-36616c8dcd5f"
      },
      "source": [
        "df[\"Incident Zip\"].value_counts().idxmax()"
      ],
      "execution_count": null,
      "outputs": [
        {
          "output_type": "execute_result",
          "data": {
            "text/plain": [
              "11226.0"
            ]
          },
          "metadata": {
            "tags": []
          },
          "execution_count": 22
        }
      ]
    },
    {
      "cell_type": "code",
      "metadata": {
        "id": "brU8mzJU1yNM",
        "colab_type": "code",
        "colab": {
          "base_uri": "https://localhost:8080/",
          "height": 35
        },
        "outputId": "dad798d8-cc23-4d83-942c-2e82d703b4c2"
      },
      "source": [
        "df[\"Borough\"].value_counts().idxmin()"
      ],
      "execution_count": null,
      "outputs": [
        {
          "output_type": "execute_result",
          "data": {
            "application/vnd.google.colaboratory.intrinsic+json": {
              "type": "string"
            },
            "text/plain": [
              "'STATEN ISLAND'"
            ]
          },
          "metadata": {
            "tags": []
          },
          "execution_count": 23
        }
      ]
    },
    {
      "cell_type": "code",
      "metadata": {
        "id": "hDY_PmFI17Hs",
        "colab_type": "code",
        "colab": {
          "base_uri": "https://localhost:8080/",
          "height": 230
        },
        "outputId": "9f03d255-4b73-4c54-bebf-6e3874167aaf"
      },
      "source": [
        "df[\"Closed Date\"].value_counts()"
      ],
      "execution_count": null,
      "outputs": [
        {
          "output_type": "execute_result",
          "data": {
            "text/plain": [
              "11/07/2012 12:00:00 AM    7296\n",
              "12/09/2010 12:00:00 AM    6264\n",
              "11/28/2011 12:00:00 AM    6005\n",
              "01/06/2014 12:00:00 AM    5600\n",
              "01/28/2013 12:00:00 AM    5598\n",
              "                          ... \n",
              "01/17/2019 08:53:50 AM       1\n",
              "12/17/2015 08:54:32 PM       1\n",
              "04/02/2017 11:46:22 AM       1\n",
              "03/29/2018 10:37:34 AM       1\n",
              "08/21/2019 03:15:56 PM       1\n",
              "Name: Closed Date, Length: 757706, dtype: int64"
            ]
          },
          "metadata": {
            "tags": []
          },
          "execution_count": 24
        }
      ]
    },
    {
      "cell_type": "code",
      "metadata": {
        "id": "OzKUIThh2dU1",
        "colab_type": "code",
        "colab": {
          "base_uri": "https://localhost:8080/",
          "height": 297
        },
        "outputId": "02075f7a-4c54-407b-8b75-cc1487816b4b"
      },
      "source": [
        "df.head()"
      ],
      "execution_count": null,
      "outputs": [
        {
          "output_type": "execute_result",
          "data": {
            "text/html": [
              "<div>\n",
              "<style scoped>\n",
              "    .dataframe tbody tr th:only-of-type {\n",
              "        vertical-align: middle;\n",
              "    }\n",
              "\n",
              "    .dataframe tbody tr th {\n",
              "        vertical-align: top;\n",
              "    }\n",
              "\n",
              "    .dataframe thead th {\n",
              "        text-align: right;\n",
              "    }\n",
              "</style>\n",
              "<table border=\"1\" class=\"dataframe\">\n",
              "  <thead>\n",
              "    <tr style=\"text-align: right;\">\n",
              "      <th></th>\n",
              "      <th>Unnamed: 0</th>\n",
              "      <th>Unique Key</th>\n",
              "      <th>Created Date</th>\n",
              "      <th>Closed Date</th>\n",
              "      <th>Complaint Type</th>\n",
              "      <th>Location Type</th>\n",
              "      <th>Incident Zip</th>\n",
              "      <th>Incident Address</th>\n",
              "      <th>Street Name</th>\n",
              "      <th>Address Type</th>\n",
              "      <th>City</th>\n",
              "      <th>Status</th>\n",
              "      <th>Resolution Description</th>\n",
              "      <th>Borough</th>\n",
              "      <th>Latitude</th>\n",
              "      <th>Longitude</th>\n",
              "    </tr>\n",
              "  </thead>\n",
              "  <tbody>\n",
              "    <tr>\n",
              "      <th>0</th>\n",
              "      <td>0</td>\n",
              "      <td>45531130</td>\n",
              "      <td>02/02/2020 06:09:17 AM</td>\n",
              "      <td>NaN</td>\n",
              "      <td>HEAT/HOT WATER</td>\n",
              "      <td>RESIDENTIAL BUILDING</td>\n",
              "      <td>10019.0</td>\n",
              "      <td>426 WEST   52 STREET</td>\n",
              "      <td>WEST   52 STREET</td>\n",
              "      <td>ADDRESS</td>\n",
              "      <td>NEW YORK</td>\n",
              "      <td>Open</td>\n",
              "      <td>The following complaint conditions are still o...</td>\n",
              "      <td>MANHATTAN</td>\n",
              "      <td>40.765132</td>\n",
              "      <td>-73.988993</td>\n",
              "    </tr>\n",
              "    <tr>\n",
              "      <th>1</th>\n",
              "      <td>1</td>\n",
              "      <td>45529784</td>\n",
              "      <td>02/02/2020 02:15:24 PM</td>\n",
              "      <td>NaN</td>\n",
              "      <td>UNSANITARY CONDITION</td>\n",
              "      <td>RESIDENTIAL BUILDING</td>\n",
              "      <td>11204.0</td>\n",
              "      <td>1751 67 STREET</td>\n",
              "      <td>67 STREET</td>\n",
              "      <td>ADDRESS</td>\n",
              "      <td>BROOKLYN</td>\n",
              "      <td>Open</td>\n",
              "      <td>The following complaint conditions are still o...</td>\n",
              "      <td>BROOKLYN</td>\n",
              "      <td>40.618484</td>\n",
              "      <td>-73.992673</td>\n",
              "    </tr>\n",
              "    <tr>\n",
              "      <th>2</th>\n",
              "      <td>2</td>\n",
              "      <td>45527528</td>\n",
              "      <td>02/02/2020 02:27:41 AM</td>\n",
              "      <td>NaN</td>\n",
              "      <td>HEAT/HOT WATER</td>\n",
              "      <td>RESIDENTIAL BUILDING</td>\n",
              "      <td>11372.0</td>\n",
              "      <td>87-15 37 AVENUE</td>\n",
              "      <td>37 AVENUE</td>\n",
              "      <td>ADDRESS</td>\n",
              "      <td>Jackson Heights</td>\n",
              "      <td>Open</td>\n",
              "      <td>The following complaint conditions are still o...</td>\n",
              "      <td>QUEENS</td>\n",
              "      <td>40.750269</td>\n",
              "      <td>-73.879432</td>\n",
              "    </tr>\n",
              "    <tr>\n",
              "      <th>3</th>\n",
              "      <td>3</td>\n",
              "      <td>45530329</td>\n",
              "      <td>02/02/2020 12:13:18 PM</td>\n",
              "      <td>NaN</td>\n",
              "      <td>HEAT/HOT WATER</td>\n",
              "      <td>RESIDENTIAL BUILDING</td>\n",
              "      <td>10458.0</td>\n",
              "      <td>2405 SOUTHERN BOULEVARD</td>\n",
              "      <td>SOUTHERN BOULEVARD</td>\n",
              "      <td>ADDRESS</td>\n",
              "      <td>BRONX</td>\n",
              "      <td>Open</td>\n",
              "      <td>The following complaint conditions are still o...</td>\n",
              "      <td>BRONX</td>\n",
              "      <td>40.853773</td>\n",
              "      <td>-73.881558</td>\n",
              "    </tr>\n",
              "    <tr>\n",
              "      <th>4</th>\n",
              "      <td>4</td>\n",
              "      <td>45528814</td>\n",
              "      <td>02/02/2020 01:59:44 PM</td>\n",
              "      <td>NaN</td>\n",
              "      <td>APPLIANCE</td>\n",
              "      <td>RESIDENTIAL BUILDING</td>\n",
              "      <td>11209.0</td>\n",
              "      <td>223 78 STREET</td>\n",
              "      <td>78 STREET</td>\n",
              "      <td>ADDRESS</td>\n",
              "      <td>BROOKLYN</td>\n",
              "      <td>Open</td>\n",
              "      <td>The following complaint conditions are still o...</td>\n",
              "      <td>BROOKLYN</td>\n",
              "      <td>40.629745</td>\n",
              "      <td>-74.030533</td>\n",
              "    </tr>\n",
              "  </tbody>\n",
              "</table>\n",
              "</div>"
            ],
            "text/plain": [
              "   Unnamed: 0  Unique Key  ...   Latitude  Longitude\n",
              "0           0    45531130  ...  40.765132 -73.988993\n",
              "1           1    45529784  ...  40.618484 -73.992673\n",
              "2           2    45527528  ...  40.750269 -73.879432\n",
              "3           3    45530329  ...  40.853773 -73.881558\n",
              "4           4    45528814  ...  40.629745 -74.030533\n",
              "\n",
              "[5 rows x 16 columns]"
            ]
          },
          "metadata": {
            "tags": []
          },
          "execution_count": 25
        }
      ]
    },
    {
      "cell_type": "code",
      "metadata": {
        "id": "0krd-BAm287n",
        "colab_type": "code",
        "colab": {
          "base_uri": "https://localhost:8080/",
          "height": 34
        },
        "outputId": "27db53d7-eb21-4c54-8eac-434e5f8f2974"
      },
      "source": [
        "df.shape"
      ],
      "execution_count": null,
      "outputs": [
        {
          "output_type": "execute_result",
          "data": {
            "text/plain": [
              "(6019843, 16)"
            ]
          },
          "metadata": {
            "tags": []
          },
          "execution_count": 26
        }
      ]
    },
    {
      "cell_type": "code",
      "metadata": {
        "id": "mZNQpI003I8m",
        "colab_type": "code",
        "colab": {
          "base_uri": "https://localhost:8080/",
          "height": 197
        },
        "outputId": "9e93d350-5410-4b67-81b7-3f6d64b78604"
      },
      "source": [
        "df[\"Status\"].value_counts().to_frame()"
      ],
      "execution_count": null,
      "outputs": [
        {
          "output_type": "execute_result",
          "data": {
            "text/html": [
              "<div>\n",
              "<style scoped>\n",
              "    .dataframe tbody tr th:only-of-type {\n",
              "        vertical-align: middle;\n",
              "    }\n",
              "\n",
              "    .dataframe tbody tr th {\n",
              "        vertical-align: top;\n",
              "    }\n",
              "\n",
              "    .dataframe thead th {\n",
              "        text-align: right;\n",
              "    }\n",
              "</style>\n",
              "<table border=\"1\" class=\"dataframe\">\n",
              "  <thead>\n",
              "    <tr style=\"text-align: right;\">\n",
              "      <th></th>\n",
              "      <th>Status</th>\n",
              "    </tr>\n",
              "  </thead>\n",
              "  <tbody>\n",
              "    <tr>\n",
              "      <th>Closed</th>\n",
              "      <td>5886253</td>\n",
              "    </tr>\n",
              "    <tr>\n",
              "      <th>Open</th>\n",
              "      <td>133220</td>\n",
              "    </tr>\n",
              "    <tr>\n",
              "      <th>In Progress</th>\n",
              "      <td>364</td>\n",
              "    </tr>\n",
              "    <tr>\n",
              "      <th>Assigned</th>\n",
              "      <td>4</td>\n",
              "    </tr>\n",
              "    <tr>\n",
              "      <th>Pending</th>\n",
              "      <td>2</td>\n",
              "    </tr>\n",
              "  </tbody>\n",
              "</table>\n",
              "</div>"
            ],
            "text/plain": [
              "              Status\n",
              "Closed       5886253\n",
              "Open          133220\n",
              "In Progress      364\n",
              "Assigned           4\n",
              "Pending            2"
            ]
          },
          "metadata": {
            "tags": []
          },
          "execution_count": 27
        }
      ]
    },
    {
      "cell_type": "code",
      "metadata": {
        "id": "icd1hvOV3p2W",
        "colab_type": "code",
        "colab": {
          "base_uri": "https://localhost:8080/",
          "height": 230
        },
        "outputId": "aeb04334-2239-46ad-d373-1fa99e997d6c"
      },
      "source": [
        "df[\"Closed Date\"].value_counts()"
      ],
      "execution_count": null,
      "outputs": [
        {
          "output_type": "execute_result",
          "data": {
            "text/plain": [
              "11/07/2012 12:00:00 AM    7296\n",
              "12/09/2010 12:00:00 AM    6264\n",
              "11/28/2011 12:00:00 AM    6005\n",
              "01/06/2014 12:00:00 AM    5600\n",
              "01/28/2013 12:00:00 AM    5598\n",
              "                          ... \n",
              "01/17/2019 08:53:50 AM       1\n",
              "12/17/2015 08:54:32 PM       1\n",
              "04/02/2017 11:46:22 AM       1\n",
              "03/29/2018 10:37:34 AM       1\n",
              "08/21/2019 03:15:56 PM       1\n",
              "Name: Closed Date, Length: 757706, dtype: int64"
            ]
          },
          "metadata": {
            "tags": []
          },
          "execution_count": 28
        }
      ]
    },
    {
      "cell_type": "code",
      "metadata": {
        "id": "eSTJj4qK38MH",
        "colab_type": "code",
        "colab": {
          "base_uri": "https://localhost:8080/",
          "height": 318
        },
        "outputId": "082304f1-f402-437d-b40b-630a5278a100"
      },
      "source": [
        "df.dtypes"
      ],
      "execution_count": null,
      "outputs": [
        {
          "output_type": "execute_result",
          "data": {
            "text/plain": [
              "Unnamed: 0                  int64\n",
              "Unique Key                  int64\n",
              "Created Date               object\n",
              "Closed Date                object\n",
              "Complaint Type             object\n",
              "Location Type              object\n",
              "Incident Zip              float64\n",
              "Incident Address           object\n",
              "Street Name                object\n",
              "Address Type               object\n",
              "City                       object\n",
              "Status                     object\n",
              "Resolution Description     object\n",
              "Borough                    object\n",
              "Latitude                  float64\n",
              "Longitude                 float64\n",
              "dtype: object"
            ]
          },
          "metadata": {
            "tags": []
          },
          "execution_count": 29
        }
      ]
    },
    {
      "cell_type": "code",
      "metadata": {
        "id": "IQYN81mR58Pw",
        "colab_type": "code",
        "colab": {}
      },
      "source": [
        ""
      ],
      "execution_count": null,
      "outputs": []
    }
  ]
}