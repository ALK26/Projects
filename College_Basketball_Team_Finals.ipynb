{
  "nbformat": 4,
  "nbformat_minor": 0,
  "metadata": {
    "colab": {
      "name": "College Basketball Team Finals",
      "provenance": [],
      "collapsed_sections": [],
      "authorship_tag": "ABX9TyMukHP4jpK0QrQANWX9MN/p",
      "include_colab_link": true
    },
    "kernelspec": {
      "name": "python3",
      "display_name": "Python 3"
    }
  },
  "cells": [
    {
      "cell_type": "markdown",
      "metadata": {
        "id": "view-in-github",
        "colab_type": "text"
      },
      "source": [
        "<a href=\"https://colab.research.google.com/github/ALK26/Projects/blob/master/College_Basketball_Team_Finals.ipynb\" target=\"_parent\"><img src=\"https://colab.research.google.com/assets/colab-badge.svg\" alt=\"Open In Colab\"/></a>"
      ]
    },
    {
      "cell_type": "code",
      "metadata": {
        "id": "mXehPbPNscQ_",
        "colab_type": "code",
        "colab": {}
      },
      "source": [
        "# Predicting the Winning College Basketball Team\n",
        "# to determine which basketball teams are most likely to make it to the semifinal round of the College Basketball Tournament known as the Final Four.\n",
        "# Now equipped with the skills to use different Machine Learning algorithms, will have the opportunity to practice and apply it on a data set.  \n",
        "\n",
        "#In this scenario, you are a Data Scientist working for a college basketball team. \n",
        "# Your coaches have asked you to look at historical data to see which team metrics (individually or in combination) make a team more likely to make it into the Final Four. \n",
        "# For example, if a team is more efficient defensively, does this have a direct relationship to their ability to get into the Final Four? \n",
        "# What about defensively efficiency along with overall wins? \n",
        "# Your job is to figure out if there is a combination of metrics that give a team more of a chance of making it into this tournament.\n",
        "\n",
        "# Something to keep in mind is that when trying to predict results of basketball tournaments there are many variables that need to be taken into account. \n",
        "# As a result of this creating accurate models is incredibly hard. \n",
        "# In the sports betting industry an accuracy rate of anything over 55% is considered good as it indicates profits.\n",
        "\n",
        "# You will load a historical data set from previous seasons, clean the data, and apply different classification algorithms to the data. \n",
        "# You are expected to use the following algorithms to build your models:\n",
        "  # k-Nearest Neighbour\n",
        "  # Decision Tree\n",
        "  # Support Vector Machine\n",
        "  # Logistic Regression\n",
        "#The results are reported as the accuracy of each classifier, using the following metrics when applicable: \n",
        "  # Jaccard index\n",
        "  # F1-score\n",
        "  # Accuracy \n",
        "\n",
        "#Review Criteria\n",
        "  # Build a KNN model using a value of k equals five, find the accuracy on the validation data (1 mark )\n",
        "  # Determine the accuracy for the first 15 values of k the on the validation data:. (1 mark )\n",
        "  # Determine the minimum value for the parameter that improves results on validation data. (1 marks)\n",
        "  # Building model using Support Vector Machine. (2 marks)\n",
        "  # Train a logistic regression model and determine the accuracy of the validation data (set C=0.01) (2 marks)\n",
        "  # Calculate the F1 score and Jaccard Similarity score for each model from above. Use the Hyperparameter that performed best on the validation data (2 marks)\n"
      ],
      "execution_count": 67,
      "outputs": []
    },
    {
      "cell_type": "code",
      "metadata": {
        "id": "jqXeacILtW52",
        "colab_type": "code",
        "colab": {}
      },
      "source": [
        "# We load a dataset using Pandas library, and apply the following algorithms, and find the best one for this specific dataset by accuracy evaluation methods.\n",
        "\n",
        "# first load required libraries:\n",
        "\n",
        "import itertools\n",
        "import numpy as np\n",
        "import matplotlib.pyplot as plt\n",
        "from matplotlib.ticker import NullFormatter\n",
        "import pandas as pd\n",
        "import numpy as np\n",
        "import matplotlib.ticker as ticker\n",
        "from sklearn import preprocessing\n",
        "%matplotlib inline"
      ],
      "execution_count": 68,
      "outputs": []
    },
    {
      "cell_type": "code",
      "metadata": {
        "id": "iuNmsG4Otb2X",
        "colab_type": "code",
        "colab": {}
      },
      "source": [
        "#About dataset\n",
        "#This dataset is about the performance of basketball teams. The cbb.csv data set includes performance data about five seasons of 354 basketball teams. It includes following fields:\n",
        "\n",
        "#Field\tDescription\n",
        "#TEAM\tThe Division I college basketball school\n",
        "#CONF\tThe Athletic Conference in which the school participates in (A10 = Atlantic 10, ACC = Atlantic Coast Conference, AE = America East, Amer = American, ASun = ASUN, B10 = Big Ten, B12 = Big 12, BE = Big East, BSky = Big Sky, BSth = Big South, BW = Big West, CAA = Colonial Athletic Association, CUSA = Conference USA, Horz = Horizon League, Ivy = Ivy League, MAAC = Metro Atlantic Athletic Conference, MAC = Mid-American Conference, MEAC = Mid-Eastern Athletic Conference, MVC = Missouri Valley Conference, MWC = Mountain West, NEC = Northeast Conference, OVC = Ohio Valley Conference, P12 = Pac-12, Pat = Patriot League, SB = Sun Belt, SC = Southern Conference, SEC = South Eastern Conference, Slnd = Southland Conference, Sum = Summit League, SWAC = Southwestern Athletic Conference, WAC = Western Athletic Conference, WCC = West Coast Conference)\n",
        "#G\tNumber of games played\n",
        "#W\tNumber of games won\n",
        "#ADJOE\tAdjusted Offensive Efficiency (An estimate of the offensive efficiency (points scored per 100 possessions) a team would have against the average Division I defense)\n",
        "#ADJDE\tAdjusted Defensive Efficiency (An estimate of the defensive efficiency (points allowed per 100 possessions) a team would have against the average Division I offense)\n",
        "#BARTHAG\tPower Rating (Chance of beating an average Division I team)\n",
        "#EFG_O\tEffective Field Goal Percentage Shot\n",
        "#EFG_D\tEffective Field Goal Percentage Allowed\n",
        "#TOR\tTurnover Percentage Allowed (Turnover Rate)\n",
        "#TORD\tTurnover Percentage Committed (Steal Rate)\n",
        "#ORB\tOffensive Rebound Percentage\n",
        "#DRB\tDefensive Rebound Percentage\n",
        "#FTR\tFree Throw Rate (How often the given team shoots Free Throws)\n",
        "#FTRD\tFree Throw Rate Allowed\n",
        "#2P_O\tTwo-Point Shooting Percentage\n",
        "#2P_D\tTwo-Point Shooting Percentage Allowed\n",
        "#3P_O\tThree-Point Shooting Percentage\n",
        "#3P_D\tThree-Point Shooting Percentage Allowed\n",
        "#ADJ_T\tAdjusted Tempo (An estimate of the tempo (possessions per 40 minutes) a team would have against the team that wants to play at an average Division I tempo)\n",
        "#WAB\tWins Above Bubble (The bubble refers to the cut off between making the NCAA March Madness Tournament and not making it)\n",
        "#POSTSEASON\tRound where the given team was eliminated or where their season ended (R68 = First Four, R64 = Round of 64, R32 = Round of 32, S16 = Sweet Sixteen, E8 = Elite Eight, F4 = Final Four, 2ND = Runner-up, Champion = Winner of the NCAA March Madness Tournament for that given year)\n",
        "#SEED\tSeed in the NCAA March Madness Tournament\n",
        "#YEAR\tSeason\n"
      ],
      "execution_count": 69,
      "outputs": []
    },
    {
      "cell_type": "code",
      "metadata": {
        "id": "Z-OL5IL4tsYX",
        "colab_type": "code",
        "colab": {
          "base_uri": "https://localhost:8080/",
          "height": 204
        },
        "outputId": "1d3241ca-045e-4ec8-ad9d-2c2ed771285c"
      },
      "source": [
        "# Load Data From CSV File\n",
        "# load the dataset [NB Need to provide link to csv file]\n",
        "\n",
        "df = pd.read_csv('https://s3-api.us-geo.objectstorage.softlayer.net/cf-courses-data/CognitiveClass/ML0120ENv3/Dataset/ML0101EN_EDX_skill_up/cbb.csv')\n",
        "df.head()"
      ],
      "execution_count": 70,
      "outputs": [
        {
          "output_type": "execute_result",
          "data": {
            "text/html": [
              "<div>\n",
              "<style scoped>\n",
              "    .dataframe tbody tr th:only-of-type {\n",
              "        vertical-align: middle;\n",
              "    }\n",
              "\n",
              "    .dataframe tbody tr th {\n",
              "        vertical-align: top;\n",
              "    }\n",
              "\n",
              "    .dataframe thead th {\n",
              "        text-align: right;\n",
              "    }\n",
              "</style>\n",
              "<table border=\"1\" class=\"dataframe\">\n",
              "  <thead>\n",
              "    <tr style=\"text-align: right;\">\n",
              "      <th></th>\n",
              "      <th>TEAM</th>\n",
              "      <th>CONF</th>\n",
              "      <th>G</th>\n",
              "      <th>W</th>\n",
              "      <th>ADJOE</th>\n",
              "      <th>ADJDE</th>\n",
              "      <th>BARTHAG</th>\n",
              "      <th>EFG_O</th>\n",
              "      <th>EFG_D</th>\n",
              "      <th>TOR</th>\n",
              "      <th>TORD</th>\n",
              "      <th>ORB</th>\n",
              "      <th>DRB</th>\n",
              "      <th>FTR</th>\n",
              "      <th>FTRD</th>\n",
              "      <th>2P_O</th>\n",
              "      <th>2P_D</th>\n",
              "      <th>3P_O</th>\n",
              "      <th>3P_D</th>\n",
              "      <th>ADJ_T</th>\n",
              "      <th>WAB</th>\n",
              "      <th>POSTSEASON</th>\n",
              "      <th>SEED</th>\n",
              "      <th>YEAR</th>\n",
              "    </tr>\n",
              "  </thead>\n",
              "  <tbody>\n",
              "    <tr>\n",
              "      <th>0</th>\n",
              "      <td>North Carolina</td>\n",
              "      <td>ACC</td>\n",
              "      <td>40</td>\n",
              "      <td>33</td>\n",
              "      <td>123.3</td>\n",
              "      <td>94.9</td>\n",
              "      <td>0.9531</td>\n",
              "      <td>52.6</td>\n",
              "      <td>48.1</td>\n",
              "      <td>15.4</td>\n",
              "      <td>18.2</td>\n",
              "      <td>40.7</td>\n",
              "      <td>30.0</td>\n",
              "      <td>32.3</td>\n",
              "      <td>30.4</td>\n",
              "      <td>53.9</td>\n",
              "      <td>44.6</td>\n",
              "      <td>32.7</td>\n",
              "      <td>36.2</td>\n",
              "      <td>71.7</td>\n",
              "      <td>8.6</td>\n",
              "      <td>2ND</td>\n",
              "      <td>1.0</td>\n",
              "      <td>2016</td>\n",
              "    </tr>\n",
              "    <tr>\n",
              "      <th>1</th>\n",
              "      <td>Villanova</td>\n",
              "      <td>BE</td>\n",
              "      <td>40</td>\n",
              "      <td>35</td>\n",
              "      <td>123.1</td>\n",
              "      <td>90.9</td>\n",
              "      <td>0.9703</td>\n",
              "      <td>56.1</td>\n",
              "      <td>46.7</td>\n",
              "      <td>16.3</td>\n",
              "      <td>20.6</td>\n",
              "      <td>28.2</td>\n",
              "      <td>29.4</td>\n",
              "      <td>34.1</td>\n",
              "      <td>30.0</td>\n",
              "      <td>57.4</td>\n",
              "      <td>44.1</td>\n",
              "      <td>36.2</td>\n",
              "      <td>33.9</td>\n",
              "      <td>66.7</td>\n",
              "      <td>8.9</td>\n",
              "      <td>Champions</td>\n",
              "      <td>2.0</td>\n",
              "      <td>2016</td>\n",
              "    </tr>\n",
              "    <tr>\n",
              "      <th>2</th>\n",
              "      <td>Notre Dame</td>\n",
              "      <td>ACC</td>\n",
              "      <td>36</td>\n",
              "      <td>24</td>\n",
              "      <td>118.3</td>\n",
              "      <td>103.3</td>\n",
              "      <td>0.8269</td>\n",
              "      <td>54.0</td>\n",
              "      <td>49.5</td>\n",
              "      <td>15.3</td>\n",
              "      <td>14.8</td>\n",
              "      <td>32.7</td>\n",
              "      <td>32.1</td>\n",
              "      <td>32.9</td>\n",
              "      <td>26.0</td>\n",
              "      <td>52.9</td>\n",
              "      <td>46.5</td>\n",
              "      <td>37.4</td>\n",
              "      <td>36.9</td>\n",
              "      <td>65.5</td>\n",
              "      <td>2.3</td>\n",
              "      <td>E8</td>\n",
              "      <td>6.0</td>\n",
              "      <td>2016</td>\n",
              "    </tr>\n",
              "    <tr>\n",
              "      <th>3</th>\n",
              "      <td>Virginia</td>\n",
              "      <td>ACC</td>\n",
              "      <td>37</td>\n",
              "      <td>29</td>\n",
              "      <td>119.9</td>\n",
              "      <td>91.0</td>\n",
              "      <td>0.9600</td>\n",
              "      <td>54.8</td>\n",
              "      <td>48.4</td>\n",
              "      <td>15.1</td>\n",
              "      <td>18.8</td>\n",
              "      <td>29.9</td>\n",
              "      <td>25.2</td>\n",
              "      <td>32.1</td>\n",
              "      <td>33.4</td>\n",
              "      <td>52.6</td>\n",
              "      <td>46.3</td>\n",
              "      <td>40.3</td>\n",
              "      <td>34.7</td>\n",
              "      <td>61.9</td>\n",
              "      <td>8.6</td>\n",
              "      <td>E8</td>\n",
              "      <td>1.0</td>\n",
              "      <td>2016</td>\n",
              "    </tr>\n",
              "    <tr>\n",
              "      <th>4</th>\n",
              "      <td>Kansas</td>\n",
              "      <td>B12</td>\n",
              "      <td>37</td>\n",
              "      <td>32</td>\n",
              "      <td>120.9</td>\n",
              "      <td>90.4</td>\n",
              "      <td>0.9662</td>\n",
              "      <td>55.7</td>\n",
              "      <td>45.1</td>\n",
              "      <td>17.8</td>\n",
              "      <td>18.5</td>\n",
              "      <td>32.2</td>\n",
              "      <td>27.9</td>\n",
              "      <td>38.6</td>\n",
              "      <td>37.3</td>\n",
              "      <td>52.7</td>\n",
              "      <td>43.4</td>\n",
              "      <td>41.3</td>\n",
              "      <td>32.5</td>\n",
              "      <td>70.1</td>\n",
              "      <td>11.6</td>\n",
              "      <td>E8</td>\n",
              "      <td>1.0</td>\n",
              "      <td>2016</td>\n",
              "    </tr>\n",
              "  </tbody>\n",
              "</table>\n",
              "</div>"
            ],
            "text/plain": [
              "             TEAM CONF   G   W  ADJOE  ...  ADJ_T   WAB  POSTSEASON  SEED  YEAR\n",
              "0  North Carolina  ACC  40  33  123.3  ...   71.7   8.6         2ND   1.0  2016\n",
              "1       Villanova   BE  40  35  123.1  ...   66.7   8.9   Champions   2.0  2016\n",
              "2      Notre Dame  ACC  36  24  118.3  ...   65.5   2.3          E8   6.0  2016\n",
              "3        Virginia  ACC  37  29  119.9  ...   61.9   8.6          E8   1.0  2016\n",
              "4          Kansas  B12  37  32  120.9  ...   70.1  11.6          E8   1.0  2016\n",
              "\n",
              "[5 rows x 24 columns]"
            ]
          },
          "metadata": {
            "tags": []
          },
          "execution_count": 70
        }
      ]
    },
    {
      "cell_type": "code",
      "metadata": {
        "id": "PWNPmkG1txo9",
        "colab_type": "code",
        "colab": {
          "base_uri": "https://localhost:8080/",
          "height": 34
        },
        "outputId": "45ee5699-3a52-4792-e125-bfa971d242aa"
      },
      "source": [
        "df.shape"
      ],
      "execution_count": 71,
      "outputs": [
        {
          "output_type": "execute_result",
          "data": {
            "text/plain": [
              "(1406, 24)"
            ]
          },
          "metadata": {
            "tags": []
          },
          "execution_count": 71
        }
      ]
    },
    {
      "cell_type": "code",
      "metadata": {
        "id": "gSrEHzZqtyWG",
        "colab_type": "code",
        "colab": {}
      },
      "source": [
        "# Add Column\n",
        "# add a column that will contain \"true\" if the wins above bubble are over 7 and \"false\" if not. call this column Win Index or \"windex\" for short.\n",
        "\n",
        "df['windex'] = np.where(df.WAB > 7, 'True', 'False')"
      ],
      "execution_count": 72,
      "outputs": []
    },
    {
      "cell_type": "code",
      "metadata": {
        "id": "g4CvBQJGt2KH",
        "colab_type": "code",
        "colab": {
          "base_uri": "https://localhost:8080/",
          "height": 204
        },
        "outputId": "5606fcd4-0d65-4e42-8e81-99d42229107d"
      },
      "source": [
        "# Data visualization and pre-processing\n",
        "# filter the data set to the teams that made the Sweet Sixteen, the Elite Eight, and the Final Four in the post season. create a new dataframe that will hold the values with the new column.\n",
        "\n",
        "df1 = df.loc[df['POSTSEASON'].str.contains('F4|S16|E8', na=False)]\n",
        "df1.head()"
      ],
      "execution_count": 73,
      "outputs": [
        {
          "output_type": "execute_result",
          "data": {
            "text/html": [
              "<div>\n",
              "<style scoped>\n",
              "    .dataframe tbody tr th:only-of-type {\n",
              "        vertical-align: middle;\n",
              "    }\n",
              "\n",
              "    .dataframe tbody tr th {\n",
              "        vertical-align: top;\n",
              "    }\n",
              "\n",
              "    .dataframe thead th {\n",
              "        text-align: right;\n",
              "    }\n",
              "</style>\n",
              "<table border=\"1\" class=\"dataframe\">\n",
              "  <thead>\n",
              "    <tr style=\"text-align: right;\">\n",
              "      <th></th>\n",
              "      <th>TEAM</th>\n",
              "      <th>CONF</th>\n",
              "      <th>G</th>\n",
              "      <th>W</th>\n",
              "      <th>ADJOE</th>\n",
              "      <th>ADJDE</th>\n",
              "      <th>BARTHAG</th>\n",
              "      <th>EFG_O</th>\n",
              "      <th>EFG_D</th>\n",
              "      <th>TOR</th>\n",
              "      <th>TORD</th>\n",
              "      <th>ORB</th>\n",
              "      <th>DRB</th>\n",
              "      <th>FTR</th>\n",
              "      <th>FTRD</th>\n",
              "      <th>2P_O</th>\n",
              "      <th>2P_D</th>\n",
              "      <th>3P_O</th>\n",
              "      <th>3P_D</th>\n",
              "      <th>ADJ_T</th>\n",
              "      <th>WAB</th>\n",
              "      <th>POSTSEASON</th>\n",
              "      <th>SEED</th>\n",
              "      <th>YEAR</th>\n",
              "      <th>windex</th>\n",
              "    </tr>\n",
              "  </thead>\n",
              "  <tbody>\n",
              "    <tr>\n",
              "      <th>2</th>\n",
              "      <td>Notre Dame</td>\n",
              "      <td>ACC</td>\n",
              "      <td>36</td>\n",
              "      <td>24</td>\n",
              "      <td>118.3</td>\n",
              "      <td>103.3</td>\n",
              "      <td>0.8269</td>\n",
              "      <td>54.0</td>\n",
              "      <td>49.5</td>\n",
              "      <td>15.3</td>\n",
              "      <td>14.8</td>\n",
              "      <td>32.7</td>\n",
              "      <td>32.1</td>\n",
              "      <td>32.9</td>\n",
              "      <td>26.0</td>\n",
              "      <td>52.9</td>\n",
              "      <td>46.5</td>\n",
              "      <td>37.4</td>\n",
              "      <td>36.9</td>\n",
              "      <td>65.5</td>\n",
              "      <td>2.3</td>\n",
              "      <td>E8</td>\n",
              "      <td>6.0</td>\n",
              "      <td>2016</td>\n",
              "      <td>False</td>\n",
              "    </tr>\n",
              "    <tr>\n",
              "      <th>3</th>\n",
              "      <td>Virginia</td>\n",
              "      <td>ACC</td>\n",
              "      <td>37</td>\n",
              "      <td>29</td>\n",
              "      <td>119.9</td>\n",
              "      <td>91.0</td>\n",
              "      <td>0.9600</td>\n",
              "      <td>54.8</td>\n",
              "      <td>48.4</td>\n",
              "      <td>15.1</td>\n",
              "      <td>18.8</td>\n",
              "      <td>29.9</td>\n",
              "      <td>25.2</td>\n",
              "      <td>32.1</td>\n",
              "      <td>33.4</td>\n",
              "      <td>52.6</td>\n",
              "      <td>46.3</td>\n",
              "      <td>40.3</td>\n",
              "      <td>34.7</td>\n",
              "      <td>61.9</td>\n",
              "      <td>8.6</td>\n",
              "      <td>E8</td>\n",
              "      <td>1.0</td>\n",
              "      <td>2016</td>\n",
              "      <td>True</td>\n",
              "    </tr>\n",
              "    <tr>\n",
              "      <th>4</th>\n",
              "      <td>Kansas</td>\n",
              "      <td>B12</td>\n",
              "      <td>37</td>\n",
              "      <td>32</td>\n",
              "      <td>120.9</td>\n",
              "      <td>90.4</td>\n",
              "      <td>0.9662</td>\n",
              "      <td>55.7</td>\n",
              "      <td>45.1</td>\n",
              "      <td>17.8</td>\n",
              "      <td>18.5</td>\n",
              "      <td>32.2</td>\n",
              "      <td>27.9</td>\n",
              "      <td>38.6</td>\n",
              "      <td>37.3</td>\n",
              "      <td>52.7</td>\n",
              "      <td>43.4</td>\n",
              "      <td>41.3</td>\n",
              "      <td>32.5</td>\n",
              "      <td>70.1</td>\n",
              "      <td>11.6</td>\n",
              "      <td>E8</td>\n",
              "      <td>1.0</td>\n",
              "      <td>2016</td>\n",
              "      <td>True</td>\n",
              "    </tr>\n",
              "    <tr>\n",
              "      <th>5</th>\n",
              "      <td>Oregon</td>\n",
              "      <td>P12</td>\n",
              "      <td>37</td>\n",
              "      <td>30</td>\n",
              "      <td>118.4</td>\n",
              "      <td>96.2</td>\n",
              "      <td>0.9163</td>\n",
              "      <td>52.3</td>\n",
              "      <td>48.9</td>\n",
              "      <td>16.1</td>\n",
              "      <td>20.2</td>\n",
              "      <td>34.1</td>\n",
              "      <td>30.5</td>\n",
              "      <td>40.3</td>\n",
              "      <td>32.0</td>\n",
              "      <td>52.6</td>\n",
              "      <td>46.1</td>\n",
              "      <td>34.4</td>\n",
              "      <td>36.2</td>\n",
              "      <td>69.0</td>\n",
              "      <td>6.7</td>\n",
              "      <td>E8</td>\n",
              "      <td>1.0</td>\n",
              "      <td>2016</td>\n",
              "      <td>False</td>\n",
              "    </tr>\n",
              "    <tr>\n",
              "      <th>6</th>\n",
              "      <td>Syracuse</td>\n",
              "      <td>ACC</td>\n",
              "      <td>37</td>\n",
              "      <td>23</td>\n",
              "      <td>111.9</td>\n",
              "      <td>93.6</td>\n",
              "      <td>0.8857</td>\n",
              "      <td>50.0</td>\n",
              "      <td>47.3</td>\n",
              "      <td>18.1</td>\n",
              "      <td>20.4</td>\n",
              "      <td>33.5</td>\n",
              "      <td>35.3</td>\n",
              "      <td>35.4</td>\n",
              "      <td>28.0</td>\n",
              "      <td>47.2</td>\n",
              "      <td>48.1</td>\n",
              "      <td>36.0</td>\n",
              "      <td>30.7</td>\n",
              "      <td>65.5</td>\n",
              "      <td>-0.3</td>\n",
              "      <td>F4</td>\n",
              "      <td>10.0</td>\n",
              "      <td>2016</td>\n",
              "      <td>False</td>\n",
              "    </tr>\n",
              "  </tbody>\n",
              "</table>\n",
              "</div>"
            ],
            "text/plain": [
              "         TEAM CONF   G   W  ADJOE  ...   WAB  POSTSEASON  SEED  YEAR  windex\n",
              "2  Notre Dame  ACC  36  24  118.3  ...   2.3          E8   6.0  2016   False\n",
              "3    Virginia  ACC  37  29  119.9  ...   8.6          E8   1.0  2016    True\n",
              "4      Kansas  B12  37  32  120.9  ...  11.6          E8   1.0  2016    True\n",
              "5      Oregon  P12  37  30  118.4  ...   6.7          E8   1.0  2016   False\n",
              "6    Syracuse  ACC  37  23  111.9  ...  -0.3          F4  10.0  2016   False\n",
              "\n",
              "[5 rows x 25 columns]"
            ]
          },
          "metadata": {
            "tags": []
          },
          "execution_count": 73
        }
      ]
    },
    {
      "cell_type": "code",
      "metadata": {
        "id": "Hoc2pPc7t6TG",
        "colab_type": "code",
        "colab": {
          "base_uri": "https://localhost:8080/",
          "height": 85
        },
        "outputId": "eeb47f2c-b652-411c-a8d1-717643320d8c"
      },
      "source": [
        "df1['POSTSEASON'].value_counts()\n",
        "# 32 teams made it into the Sweet Sixteen, 16 into the Elite Eight, and 8 made it into the Final Four over 5 seasons."
      ],
      "execution_count": 74,
      "outputs": [
        {
          "output_type": "execute_result",
          "data": {
            "text/plain": [
              "S16    32\n",
              "E8     16\n",
              "F4      8\n",
              "Name: POSTSEASON, dtype: int64"
            ]
          },
          "metadata": {
            "tags": []
          },
          "execution_count": 74
        }
      ]
    },
    {
      "cell_type": "code",
      "metadata": {
        "id": "EjpKAztyt-1N",
        "colab_type": "code",
        "colab": {
          "base_uri": "https://localhost:8080/",
          "height": 34
        },
        "outputId": "3c35d14a-13c8-477e-cff2-be069b928f99"
      },
      "source": [
        "# plot some columns to underestand data better:\n",
        "\n",
        "!conda install -c anaconda seaborn -y"
      ],
      "execution_count": 75,
      "outputs": [
        {
          "output_type": "stream",
          "text": [
            "/bin/bash: conda: command not found\n"
          ],
          "name": "stdout"
        }
      ]
    },
    {
      "cell_type": "code",
      "metadata": {
        "id": "3wu_JUg1uCK1",
        "colab_type": "code",
        "colab": {
          "base_uri": "https://localhost:8080/",
          "height": 225
        },
        "outputId": "05da949a-2ab7-4606-8399-585020fd49c6"
      },
      "source": [
        "import seaborn as sns\n",
        "\n",
        "bins = np.linspace(df1.BARTHAG.min(), df1.BARTHAG.max(), 10)\n",
        "g = sns.FacetGrid(df1, col=\"windex\", hue=\"POSTSEASON\", palette=\"Set1\", col_wrap=6)\n",
        "g.map(plt.hist, 'BARTHAG', bins=bins, ec=\"k\")\n",
        "\n",
        "g.axes[-1].legend()\n",
        "plt.show()"
      ],
      "execution_count": 76,
      "outputs": [
        {
          "output_type": "display_data",
          "data": {
            "image/png": "[encoded data removed]",
            "text/plain": [
              "<Figure size 1296x216 with 2 Axes>"
            ]
          },
          "metadata": {
            "tags": [],
            "needs_background": "light"
          }
        }
      ]
    },
    {
      "cell_type": "code",
      "metadata": {
        "id": "KP3PB69euEhs",
        "colab_type": "code",
        "colab": {
          "base_uri": "https://localhost:8080/",
          "height": 225
        },
        "outputId": "d74d214a-b78b-4686-c196-d6f22f515fc3"
      },
      "source": [
        "bins = np.linspace(df1.ADJOE.min(), df1.ADJOE.max(), 10)\n",
        "g = sns.FacetGrid(df1, col=\"windex\", hue=\"POSTSEASON\", palette=\"Set1\", col_wrap=2)\n",
        "g.map(plt.hist, 'ADJOE', bins=bins, ec=\"k\")\n",
        "\n",
        "g.axes[-1].legend()\n",
        "plt.show()"
      ],
      "execution_count": 77,
      "outputs": [
        {
          "output_type": "display_data",
          "data": {
            "image/png": "[encoded data removed]",
            "text/plain": [
              "<Figure size 432x216 with 2 Axes>"
            ]
          },
          "metadata": {
            "tags": [],
            "needs_background": "light"
          }
        }
      ]
    },
    {
      "cell_type": "code",
      "metadata": {
        "id": "ih0EDeAkuG7h",
        "colab_type": "code",
        "colab": {
          "base_uri": "https://localhost:8080/",
          "height": 225
        },
        "outputId": "676784c3-d7fa-49d7-9d53-b76d6dd590e3"
      },
      "source": [
        "# Pre-processing: Feature selection/extraction\n",
        "# look at how Adjusted Defense Efficiency plots\n",
        "bins = np.linspace(df1.ADJDE.min(), df1.ADJDE.max(), 10)\n",
        "g = sns.FacetGrid(df1, col=\"windex\", hue=\"POSTSEASON\", palette=\"Set1\", col_wrap=2)\n",
        "g.map(plt.hist, 'ADJDE', bins=bins, ec=\"k\")\n",
        "g.axes[-1].legend()\n",
        "plt.show()\n",
        "\n",
        "# see that this data point doesn't impact the ability of a team to get into the Final Four."
      ],
      "execution_count": 78,
      "outputs": [
        {
          "output_type": "display_data",
          "data": {
            "image/png": "[encoded data removed]",
            "text/plain": [
              "<Figure size 432x216 with 2 Axes>"
            ]
          },
          "metadata": {
            "tags": [],
            "needs_background": "light"
          }
        }
      ]
    },
    {
      "cell_type": "code",
      "metadata": {
        "id": "6-1OmetpuKeg",
        "colab_type": "code",
        "colab": {
          "base_uri": "https://localhost:8080/",
          "height": 153
        },
        "outputId": "a0c5d30e-d3ef-4f43-d5c1-4bc2d42c4103"
      },
      "source": [
        "# Convert Categorical features to numerical values\n",
        "# look at the postseason:\n",
        "\n",
        "df1.groupby(['windex'])['POSTSEASON'].value_counts(normalize=True)\n",
        "\n",
        "# 13% of teams with 6 or less wins above bubble make it into the final four while 17% of teams with 7 or more do."
      ],
      "execution_count": 79,
      "outputs": [
        {
          "output_type": "execute_result",
          "data": {
            "text/plain": [
              "windex  POSTSEASON\n",
              "False   S16           0.605263\n",
              "        E8            0.263158\n",
              "        F4            0.131579\n",
              "True    S16           0.500000\n",
              "        E8            0.333333\n",
              "        F4            0.166667\n",
              "Name: POSTSEASON, dtype: float64"
            ]
          },
          "metadata": {
            "tags": []
          },
          "execution_count": 79
        }
      ]
    },
    {
      "cell_type": "code",
      "metadata": {
        "id": "4MyILnt_uTvB",
        "colab_type": "code",
        "colab": {
          "base_uri": "https://localhost:8080/",
          "height": 289
        },
        "outputId": "4d5cc0fe-05fc-44a2-c324-31bb5ce5b5ca"
      },
      "source": [
        "# convert wins above bubble (winindex) under 7 to 0 and over 7 to 1:\n",
        "\n",
        "df1['windex'].replace(to_replace=['False','True'], value=[0,1],inplace=True)\n",
        "df1.head()"
      ],
      "execution_count": 80,
      "outputs": [
        {
          "output_type": "stream",
          "text": [
            "/usr/local/lib/python3.6/dist-packages/pandas/core/generic.py:6746: SettingWithCopyWarning: \n",
            "A value is trying to be set on a copy of a slice from a DataFrame\n",
            "\n",
            "See the caveats in the documentation: https://pandas.pydata.org/pandas-docs/stable/user_guide/indexing.html#returning-a-view-versus-a-copy\n",
            "  self._update_inplace(new_data)\n"
          ],
          "name": "stderr"
        },
        {
          "output_type": "execute_result",
          "data": {
            "text/html": [
              "<div>\n",
              "<style scoped>\n",
              "    .dataframe tbody tr th:only-of-type {\n",
              "        vertical-align: middle;\n",
              "    }\n",
              "\n",
              "    .dataframe tbody tr th {\n",
              "        vertical-align: top;\n",
              "    }\n",
              "\n",
              "    .dataframe thead th {\n",
              "        text-align: right;\n",
              "    }\n",
              "</style>\n",
              "<table border=\"1\" class=\"dataframe\">\n",
              "  <thead>\n",
              "    <tr style=\"text-align: right;\">\n",
              "      <th></th>\n",
              "      <th>TEAM</th>\n",
              "      <th>CONF</th>\n",
              "      <th>G</th>\n",
              "      <th>W</th>\n",
              "      <th>ADJOE</th>\n",
              "      <th>ADJDE</th>\n",
              "      <th>BARTHAG</th>\n",
              "      <th>EFG_O</th>\n",
              "      <th>EFG_D</th>\n",
              "      <th>TOR</th>\n",
              "      <th>TORD</th>\n",
              "      <th>ORB</th>\n",
              "      <th>DRB</th>\n",
              "      <th>FTR</th>\n",
              "      <th>FTRD</th>\n",
              "      <th>2P_O</th>\n",
              "      <th>2P_D</th>\n",
              "      <th>3P_O</th>\n",
              "      <th>3P_D</th>\n",
              "      <th>ADJ_T</th>\n",
              "      <th>WAB</th>\n",
              "      <th>POSTSEASON</th>\n",
              "      <th>SEED</th>\n",
              "      <th>YEAR</th>\n",
              "      <th>windex</th>\n",
              "    </tr>\n",
              "  </thead>\n",
              "  <tbody>\n",
              "    <tr>\n",
              "      <th>2</th>\n",
              "      <td>Notre Dame</td>\n",
              "      <td>ACC</td>\n",
              "      <td>36</td>\n",
              "      <td>24</td>\n",
              "      <td>118.3</td>\n",
              "      <td>103.3</td>\n",
              "      <td>0.8269</td>\n",
              "      <td>54.0</td>\n",
              "      <td>49.5</td>\n",
              "      <td>15.3</td>\n",
              "      <td>14.8</td>\n",
              "      <td>32.7</td>\n",
              "      <td>32.1</td>\n",
              "      <td>32.9</td>\n",
              "      <td>26.0</td>\n",
              "      <td>52.9</td>\n",
              "      <td>46.5</td>\n",
              "      <td>37.4</td>\n",
              "      <td>36.9</td>\n",
              "      <td>65.5</td>\n",
              "      <td>2.3</td>\n",
              "      <td>E8</td>\n",
              "      <td>6.0</td>\n",
              "      <td>2016</td>\n",
              "      <td>0</td>\n",
              "    </tr>\n",
              "    <tr>\n",
              "      <th>3</th>\n",
              "      <td>Virginia</td>\n",
              "      <td>ACC</td>\n",
              "      <td>37</td>\n",
              "      <td>29</td>\n",
              "      <td>119.9</td>\n",
              "      <td>91.0</td>\n",
              "      <td>0.9600</td>\n",
              "      <td>54.8</td>\n",
              "      <td>48.4</td>\n",
              "      <td>15.1</td>\n",
              "      <td>18.8</td>\n",
              "      <td>29.9</td>\n",
              "      <td>25.2</td>\n",
              "      <td>32.1</td>\n",
              "      <td>33.4</td>\n",
              "      <td>52.6</td>\n",
              "      <td>46.3</td>\n",
              "      <td>40.3</td>\n",
              "      <td>34.7</td>\n",
              "      <td>61.9</td>\n",
              "      <td>8.6</td>\n",
              "      <td>E8</td>\n",
              "      <td>1.0</td>\n",
              "      <td>2016</td>\n",
              "      <td>1</td>\n",
              "    </tr>\n",
              "    <tr>\n",
              "      <th>4</th>\n",
              "      <td>Kansas</td>\n",
              "      <td>B12</td>\n",
              "      <td>37</td>\n",
              "      <td>32</td>\n",
              "      <td>120.9</td>\n",
              "      <td>90.4</td>\n",
              "      <td>0.9662</td>\n",
              "      <td>55.7</td>\n",
              "      <td>45.1</td>\n",
              "      <td>17.8</td>\n",
              "      <td>18.5</td>\n",
              "      <td>32.2</td>\n",
              "      <td>27.9</td>\n",
              "      <td>38.6</td>\n",
              "      <td>37.3</td>\n",
              "      <td>52.7</td>\n",
              "      <td>43.4</td>\n",
              "      <td>41.3</td>\n",
              "      <td>32.5</td>\n",
              "      <td>70.1</td>\n",
              "      <td>11.6</td>\n",
              "      <td>E8</td>\n",
              "      <td>1.0</td>\n",
              "      <td>2016</td>\n",
              "      <td>1</td>\n",
              "    </tr>\n",
              "    <tr>\n",
              "      <th>5</th>\n",
              "      <td>Oregon</td>\n",
              "      <td>P12</td>\n",
              "      <td>37</td>\n",
              "      <td>30</td>\n",
              "      <td>118.4</td>\n",
              "      <td>96.2</td>\n",
              "      <td>0.9163</td>\n",
              "      <td>52.3</td>\n",
              "      <td>48.9</td>\n",
              "      <td>16.1</td>\n",
              "      <td>20.2</td>\n",
              "      <td>34.1</td>\n",
              "      <td>30.5</td>\n",
              "      <td>40.3</td>\n",
              "      <td>32.0</td>\n",
              "      <td>52.6</td>\n",
              "      <td>46.1</td>\n",
              "      <td>34.4</td>\n",
              "      <td>36.2</td>\n",
              "      <td>69.0</td>\n",
              "      <td>6.7</td>\n",
              "      <td>E8</td>\n",
              "      <td>1.0</td>\n",
              "      <td>2016</td>\n",
              "      <td>0</td>\n",
              "    </tr>\n",
              "    <tr>\n",
              "      <th>6</th>\n",
              "      <td>Syracuse</td>\n",
              "      <td>ACC</td>\n",
              "      <td>37</td>\n",
              "      <td>23</td>\n",
              "      <td>111.9</td>\n",
              "      <td>93.6</td>\n",
              "      <td>0.8857</td>\n",
              "      <td>50.0</td>\n",
              "      <td>47.3</td>\n",
              "      <td>18.1</td>\n",
              "      <td>20.4</td>\n",
              "      <td>33.5</td>\n",
              "      <td>35.3</td>\n",
              "      <td>35.4</td>\n",
              "      <td>28.0</td>\n",
              "      <td>47.2</td>\n",
              "      <td>48.1</td>\n",
              "      <td>36.0</td>\n",
              "      <td>30.7</td>\n",
              "      <td>65.5</td>\n",
              "      <td>-0.3</td>\n",
              "      <td>F4</td>\n",
              "      <td>10.0</td>\n",
              "      <td>2016</td>\n",
              "      <td>0</td>\n",
              "    </tr>\n",
              "  </tbody>\n",
              "</table>\n",
              "</div>"
            ],
            "text/plain": [
              "         TEAM CONF   G   W  ADJOE  ...   WAB  POSTSEASON  SEED  YEAR  windex\n",
              "2  Notre Dame  ACC  36  24  118.3  ...   2.3          E8   6.0  2016       0\n",
              "3    Virginia  ACC  37  29  119.9  ...   8.6          E8   1.0  2016       1\n",
              "4      Kansas  B12  37  32  120.9  ...  11.6          E8   1.0  2016       1\n",
              "5      Oregon  P12  37  30  118.4  ...   6.7          E8   1.0  2016       0\n",
              "6    Syracuse  ACC  37  23  111.9  ...  -0.3          F4  10.0  2016       0\n",
              "\n",
              "[5 rows x 25 columns]"
            ]
          },
          "metadata": {
            "tags": []
          },
          "execution_count": 80
        }
      ]
    },
    {
      "cell_type": "code",
      "metadata": {
        "id": "nHjgjcJkuWLN",
        "colab_type": "code",
        "colab": {
          "base_uri": "https://localhost:8080/",
          "height": 204
        },
        "outputId": "79b56e06-a92a-4161-96a7-857ad44db0dd"
      },
      "source": [
        "# Feature selection\n",
        "# define feature sets, X:\n",
        "\n",
        "X = df1[['G', 'W', 'ADJOE', 'ADJDE', 'BARTHAG', 'EFG_O', 'EFG_D',\n",
        "       'TOR', 'TORD', 'ORB', 'DRB', 'FTR', 'FTRD', '2P_O', '2P_D', '3P_O',\n",
        "       '3P_D', 'ADJ_T', 'WAB', 'SEED', 'windex']]\n",
        "X[0:5]"
      ],
      "execution_count": 81,
      "outputs": [
        {
          "output_type": "execute_result",
          "data": {
            "text/html": [
              "<div>\n",
              "<style scoped>\n",
              "    .dataframe tbody tr th:only-of-type {\n",
              "        vertical-align: middle;\n",
              "    }\n",
              "\n",
              "    .dataframe tbody tr th {\n",
              "        vertical-align: top;\n",
              "    }\n",
              "\n",
              "    .dataframe thead th {\n",
              "        text-align: right;\n",
              "    }\n",
              "</style>\n",
              "<table border=\"1\" class=\"dataframe\">\n",
              "  <thead>\n",
              "    <tr style=\"text-align: right;\">\n",
              "      <th></th>\n",
              "      <th>G</th>\n",
              "      <th>W</th>\n",
              "      <th>ADJOE</th>\n",
              "      <th>ADJDE</th>\n",
              "      <th>BARTHAG</th>\n",
              "      <th>EFG_O</th>\n",
              "      <th>EFG_D</th>\n",
              "      <th>TOR</th>\n",
              "      <th>TORD</th>\n",
              "      <th>ORB</th>\n",
              "      <th>DRB</th>\n",
              "      <th>FTR</th>\n",
              "      <th>FTRD</th>\n",
              "      <th>2P_O</th>\n",
              "      <th>2P_D</th>\n",
              "      <th>3P_O</th>\n",
              "      <th>3P_D</th>\n",
              "      <th>ADJ_T</th>\n",
              "      <th>WAB</th>\n",
              "      <th>SEED</th>\n",
              "      <th>windex</th>\n",
              "    </tr>\n",
              "  </thead>\n",
              "  <tbody>\n",
              "    <tr>\n",
              "      <th>2</th>\n",
              "      <td>36</td>\n",
              "      <td>24</td>\n",
              "      <td>118.3</td>\n",
              "      <td>103.3</td>\n",
              "      <td>0.8269</td>\n",
              "      <td>54.0</td>\n",
              "      <td>49.5</td>\n",
              "      <td>15.3</td>\n",
              "      <td>14.8</td>\n",
              "      <td>32.7</td>\n",
              "      <td>32.1</td>\n",
              "      <td>32.9</td>\n",
              "      <td>26.0</td>\n",
              "      <td>52.9</td>\n",
              "      <td>46.5</td>\n",
              "      <td>37.4</td>\n",
              "      <td>36.9</td>\n",
              "      <td>65.5</td>\n",
              "      <td>2.3</td>\n",
              "      <td>6.0</td>\n",
              "      <td>0</td>\n",
              "    </tr>\n",
              "    <tr>\n",
              "      <th>3</th>\n",
              "      <td>37</td>\n",
              "      <td>29</td>\n",
              "      <td>119.9</td>\n",
              "      <td>91.0</td>\n",
              "      <td>0.9600</td>\n",
              "      <td>54.8</td>\n",
              "      <td>48.4</td>\n",
              "      <td>15.1</td>\n",
              "      <td>18.8</td>\n",
              "      <td>29.9</td>\n",
              "      <td>25.2</td>\n",
              "      <td>32.1</td>\n",
              "      <td>33.4</td>\n",
              "      <td>52.6</td>\n",
              "      <td>46.3</td>\n",
              "      <td>40.3</td>\n",
              "      <td>34.7</td>\n",
              "      <td>61.9</td>\n",
              "      <td>8.6</td>\n",
              "      <td>1.0</td>\n",
              "      <td>1</td>\n",
              "    </tr>\n",
              "    <tr>\n",
              "      <th>4</th>\n",
              "      <td>37</td>\n",
              "      <td>32</td>\n",
              "      <td>120.9</td>\n",
              "      <td>90.4</td>\n",
              "      <td>0.9662</td>\n",
              "      <td>55.7</td>\n",
              "      <td>45.1</td>\n",
              "      <td>17.8</td>\n",
              "      <td>18.5</td>\n",
              "      <td>32.2</td>\n",
              "      <td>27.9</td>\n",
              "      <td>38.6</td>\n",
              "      <td>37.3</td>\n",
              "      <td>52.7</td>\n",
              "      <td>43.4</td>\n",
              "      <td>41.3</td>\n",
              "      <td>32.5</td>\n",
              "      <td>70.1</td>\n",
              "      <td>11.6</td>\n",
              "      <td>1.0</td>\n",
              "      <td>1</td>\n",
              "    </tr>\n",
              "    <tr>\n",
              "      <th>5</th>\n",
              "      <td>37</td>\n",
              "      <td>30</td>\n",
              "      <td>118.4</td>\n",
              "      <td>96.2</td>\n",
              "      <td>0.9163</td>\n",
              "      <td>52.3</td>\n",
              "      <td>48.9</td>\n",
              "      <td>16.1</td>\n",
              "      <td>20.2</td>\n",
              "      <td>34.1</td>\n",
              "      <td>30.5</td>\n",
              "      <td>40.3</td>\n",
              "      <td>32.0</td>\n",
              "      <td>52.6</td>\n",
              "      <td>46.1</td>\n",
              "      <td>34.4</td>\n",
              "      <td>36.2</td>\n",
              "      <td>69.0</td>\n",
              "      <td>6.7</td>\n",
              "      <td>1.0</td>\n",
              "      <td>0</td>\n",
              "    </tr>\n",
              "    <tr>\n",
              "      <th>6</th>\n",
              "      <td>37</td>\n",
              "      <td>23</td>\n",
              "      <td>111.9</td>\n",
              "      <td>93.6</td>\n",
              "      <td>0.8857</td>\n",
              "      <td>50.0</td>\n",
              "      <td>47.3</td>\n",
              "      <td>18.1</td>\n",
              "      <td>20.4</td>\n",
              "      <td>33.5</td>\n",
              "      <td>35.3</td>\n",
              "      <td>35.4</td>\n",
              "      <td>28.0</td>\n",
              "      <td>47.2</td>\n",
              "      <td>48.1</td>\n",
              "      <td>36.0</td>\n",
              "      <td>30.7</td>\n",
              "      <td>65.5</td>\n",
              "      <td>-0.3</td>\n",
              "      <td>10.0</td>\n",
              "      <td>0</td>\n",
              "    </tr>\n",
              "  </tbody>\n",
              "</table>\n",
              "</div>"
            ],
            "text/plain": [
              "    G   W  ADJOE  ADJDE  BARTHAG  EFG_O  ...  3P_O  3P_D  ADJ_T   WAB  SEED  windex\n",
              "2  36  24  118.3  103.3   0.8269   54.0  ...  37.4  36.9   65.5   2.3   6.0       0\n",
              "3  37  29  119.9   91.0   0.9600   54.8  ...  40.3  34.7   61.9   8.6   1.0       1\n",
              "4  37  32  120.9   90.4   0.9662   55.7  ...  41.3  32.5   70.1  11.6   1.0       1\n",
              "5  37  30  118.4   96.2   0.9163   52.3  ...  34.4  36.2   69.0   6.7   1.0       0\n",
              "6  37  23  111.9   93.6   0.8857   50.0  ...  36.0  30.7   65.5  -0.3  10.0       0\n",
              "\n",
              "[5 rows x 21 columns]"
            ]
          },
          "metadata": {
            "tags": []
          },
          "execution_count": 81
        }
      ]
    },
    {
      "cell_type": "code",
      "metadata": {
        "id": "xKp36PYxuaC0",
        "colab_type": "code",
        "colab": {
          "base_uri": "https://localhost:8080/",
          "height": 34
        },
        "outputId": "fb7476bf-a702-4698-b9e0-ccdfb47994a4"
      },
      "source": [
        "# Labels? Round where the given team was eliminated or where their season ended \n",
        "# (R68 = First Four, R64 = Round of 64, R32 = Round of 32, S16 = Sweet Sixteen, E8 = Elite Eight, F4 = Final Four, 2ND = Runner-up, Champion = Winner of the NCAA March Madness Tournament for that given year)|\n",
        "\n",
        "y = df1['POSTSEASON'].values\n",
        "y[0:5]"
      ],
      "execution_count": 82,
      "outputs": [
        {
          "output_type": "execute_result",
          "data": {
            "text/plain": [
              "array(['E8', 'E8', 'E8', 'E8', 'F4'], dtype=object)"
            ]
          },
          "metadata": {
            "tags": []
          },
          "execution_count": 82
        }
      ]
    },
    {
      "cell_type": "code",
      "metadata": {
        "id": "J2yvlCOFudMi",
        "colab_type": "code",
        "colab": {
          "base_uri": "https://localhost:8080/",
          "height": 442
        },
        "outputId": "07394ce0-2460-4eee-f20a-70524d62ba89"
      },
      "source": [
        "# Normalize Data\n",
        "# Data Standardization give data zero mean and unit variance (technically should be done after train test split )\n",
        "\n",
        "X= preprocessing.StandardScaler().fit(X).transform(X)\n",
        "X[0:5]"
      ],
      "execution_count": 83,
      "outputs": [
        {
          "output_type": "execute_result",
          "data": {
            "text/plain": [
              "array([[-0.43331874, -1.26140173,  0.28034482,  2.74329908, -2.45717765,\n",
              "         0.10027963,  0.94171924, -1.16188145, -1.71391372,  0.12750511,\n",
              "         1.33368704, -0.4942211 , -0.87998988,  0.02784185,  0.00307239,\n",
              "         0.22576157,  1.59744386, -1.12106011, -1.0448016 ,  0.49716104,\n",
              "        -0.6882472 ],\n",
              "       [ 0.40343468,  0.35874728,  0.64758014, -0.90102957,  1.127076  ,\n",
              "         0.39390887,  0.38123706, -1.29466791, -0.03522254, -0.62979797,\n",
              "        -1.31585883, -0.68542235,  0.55458056, -0.07167795, -0.0829545 ,\n",
              "         1.32677295,  0.65081046, -2.369021  ,  0.98050611, -1.14054592,\n",
              "         1.45296631],\n",
              "       [ 0.40343468,  1.33083669,  0.87710222, -1.0788017 ,  1.29403598,\n",
              "         0.72424177, -1.30020946,  0.49794919, -0.16112438, -0.00772758,\n",
              "        -0.27908001,  0.86808783,  1.31063795, -0.03850468, -1.33034432,\n",
              "         1.70643205, -0.29582294,  0.47355659,  1.94493836, -1.14054592,\n",
              "         1.45296631],\n",
              "       [ 0.40343468,  0.68277708,  0.30329703,  0.63966222, -0.04972253,\n",
              "        -0.52368251,  0.63600169, -0.63073565,  0.55231938,  0.50615665,\n",
              "         0.71929959,  1.2743905 ,  0.28317534, -0.07167795, -0.16898138,\n",
              "        -0.91321572,  1.29624232,  0.0922352 ,  0.36969903, -1.14054592,\n",
              "        -0.6882472 ],\n",
              "       [ 0.40343468, -1.58543153, -1.18859646, -0.13068368, -0.87375079,\n",
              "        -1.36786658, -0.17924511,  0.69712887,  0.63625394,  0.34387742,\n",
              "         2.56246194,  0.10328282, -0.49226814, -1.8630343 ,  0.69128747,\n",
              "        -0.30576117, -1.07034117, -1.12106011, -1.88064288,  1.80732661,\n",
              "        -0.6882472 ]])"
            ]
          },
          "metadata": {
            "tags": []
          },
          "execution_count": 83
        }
      ]
    },
    {
      "cell_type": "code",
      "metadata": {
        "id": "a1AmxeGuuhKR",
        "colab_type": "code",
        "colab": {
          "base_uri": "https://localhost:8080/",
          "height": 51
        },
        "outputId": "2244efb0-889d-47db-9d20-598e4722eb3f"
      },
      "source": [
        "# Training and Validation\n",
        "# Split the data into Training and Validation data.\n",
        "\n",
        "# split the X into train and test to find the best k\n",
        "from sklearn.model_selection import train_test_split\n",
        "X_train, X_val, y_train, y_val = train_test_split(X, y, test_size=0.2, random_state=4)\n",
        "print ('Train set:', X_train.shape,  y_train.shape)\n",
        "print ('Validation set:', X_val.shape,  y_val.shape)"
      ],
      "execution_count": 84,
      "outputs": [
        {
          "output_type": "stream",
          "text": [
            "Train set: (44, 21) (44,)\n",
            "Validation set: (12, 21) (12,)\n"
          ],
          "name": "stdout"
        }
      ]
    },
    {
      "cell_type": "code",
      "metadata": {
        "id": "E9Whz8C0ulq5",
        "colab_type": "code",
        "colab": {}
      },
      "source": [
        "# Classification\n",
        "# use the training set to build an accurate model. use the validation set to report the accuracy of the model You should use the following algorithm:\n",
        "\n",
        "# K Nearest Neighbor(KNN)\n",
        "# Decision Tree\n",
        "# Support Vector Machine\n",
        "# Logistic Regression\n",
        "# K Nearest Neighbor(KNN)\n",
        "\n",
        "# Build a KNN model using a value of k equals five, find the accuracy on the validation data (X_val and y_val)\n",
        "\n",
        "# can use  accuracy_score\n",
        "\n",
        "from sklearn.metrics import accuracy_score\n",
        "from sklearn.neighbors import KNeighborsClassifier"
      ],
      "execution_count": 85,
      "outputs": []
    },
    {
      "cell_type": "code",
      "metadata": {
        "id": "ne3Ot4AXuseA",
        "colab_type": "code",
        "colab": {}
      },
      "source": [
        "# Determine and print the accuracy for the first 15 values of k the on the validation data:"
      ],
      "execution_count": 86,
      "outputs": []
    },
    {
      "cell_type": "code",
      "metadata": {
        "id": "vyYvYclyuu1i",
        "colab_type": "code",
        "colab": {}
      },
      "source": [
        "# Decision Tree\n",
        "# The following lines of code fit a DecisionTreeClassifier:\n",
        "\n",
        "from sklearn.tree import DecisionTreeClassifier\n",
        "\n",
        "# Determine the minumum value for the parameter max_depth that improves results"
      ],
      "execution_count": 87,
      "outputs": []
    },
    {
      "cell_type": "code",
      "metadata": {
        "id": "8GyhIqxsu0Dp",
        "colab_type": "code",
        "colab": {}
      },
      "source": [
        "# Support Vector Machine\n",
        "# Train the support vector machine model and determine the accuracy on the validation data for each kernel. Find the kernel (linear, poly, rbf, sigmoid) that provides the best score on the validation data and train a SVM using it.\n",
        "\n",
        "from sklearn import svm"
      ],
      "execution_count": 88,
      "outputs": []
    },
    {
      "cell_type": "code",
      "metadata": {
        "id": "k6VmwFmGu3Pq",
        "colab_type": "code",
        "colab": {}
      },
      "source": [
        "# Logistic Regression\n",
        "# Train a logistic regression model and determine the accuracy of the validation data (set C=0.01)\n",
        "\n",
        "from sklearn.linear_model import LogisticRegression"
      ],
      "execution_count": 89,
      "outputs": []
    },
    {
      "cell_type": "code",
      "metadata": {
        "id": "rn3tBY7Ou8fB",
        "colab_type": "code",
        "colab": {}
      },
      "source": [
        "# Model Evaluation using Test set\n",
        "from sklearn.metrics import f1_score\n",
        "# for f1_score please set the average parameter to 'micro'\n",
        "from sklearn.metrics import log_loss"
      ],
      "execution_count": 90,
      "outputs": []
    },
    {
      "cell_type": "code",
      "metadata": {
        "id": "pXpF-z6pu-Qm",
        "colab_type": "code",
        "colab": {}
      },
      "source": [
        "def jaccard_index(predictions, true):\n",
        "    if (len(predictions) == len(true)):\n",
        "        intersect = 0;\n",
        "        for x,y in zip(predictions, true):\n",
        "            if (x == y):\n",
        "                intersect += 1\n",
        "        return intersect / (len(predictions) + len(true) - intersect)\n",
        "    else:\n",
        "        return -1"
      ],
      "execution_count": 91,
      "outputs": []
    },
    {
      "cell_type": "code",
      "metadata": {
        "id": "8CT5DkosvAXN",
        "colab_type": "code",
        "colab": {
          "base_uri": "https://localhost:8080/",
          "height": 204
        },
        "outputId": "b57fc4d4-167c-4c21-9dc8-49ec038b9b5f"
      },
      "source": [
        "# Calculate the F1 score and Jaccard Similarity score for each model from above. Use the Hyperparameter that performed best on the validation data. \n",
        "# For f1_score please set the average parameter to 'micro'.\n",
        "\n",
        "# Load Test set for evaluation\n",
        "test_df = pd.read_csv('https://s3-api.us-geo.objectstorage.softlayer.net/cf-courses-data/CognitiveClass/ML0120ENv3/Dataset/ML0101EN_EDX_skill_up/basketball_train.csv',error_bad_lines=False)\n",
        "test_df.head()"
      ],
      "execution_count": 92,
      "outputs": [
        {
          "output_type": "execute_result",
          "data": {
            "text/html": [
              "<div>\n",
              "<style scoped>\n",
              "    .dataframe tbody tr th:only-of-type {\n",
              "        vertical-align: middle;\n",
              "    }\n",
              "\n",
              "    .dataframe tbody tr th {\n",
              "        vertical-align: top;\n",
              "    }\n",
              "\n",
              "    .dataframe thead th {\n",
              "        text-align: right;\n",
              "    }\n",
              "</style>\n",
              "<table border=\"1\" class=\"dataframe\">\n",
              "  <thead>\n",
              "    <tr style=\"text-align: right;\">\n",
              "      <th></th>\n",
              "      <th>TEAM</th>\n",
              "      <th>CONF</th>\n",
              "      <th>G</th>\n",
              "      <th>W</th>\n",
              "      <th>ADJOE</th>\n",
              "      <th>ADJDE</th>\n",
              "      <th>BARTHAG</th>\n",
              "      <th>EFG_O</th>\n",
              "      <th>EFG_D</th>\n",
              "      <th>TOR</th>\n",
              "      <th>TORD</th>\n",
              "      <th>ORB</th>\n",
              "      <th>DRB</th>\n",
              "      <th>FTR</th>\n",
              "      <th>FTRD</th>\n",
              "      <th>2P_O</th>\n",
              "      <th>2P_D</th>\n",
              "      <th>3P_O</th>\n",
              "      <th>3P_D</th>\n",
              "      <th>ADJ_T</th>\n",
              "      <th>WAB</th>\n",
              "      <th>POSTSEASON</th>\n",
              "      <th>SEED</th>\n",
              "      <th>YEAR</th>\n",
              "    </tr>\n",
              "  </thead>\n",
              "  <tbody>\n",
              "    <tr>\n",
              "      <th>0</th>\n",
              "      <td>North Carolina</td>\n",
              "      <td>ACC</td>\n",
              "      <td>40</td>\n",
              "      <td>33</td>\n",
              "      <td>123.3</td>\n",
              "      <td>94.9</td>\n",
              "      <td>0.9531</td>\n",
              "      <td>52.6</td>\n",
              "      <td>48.1</td>\n",
              "      <td>15.4</td>\n",
              "      <td>18.2</td>\n",
              "      <td>40.7</td>\n",
              "      <td>30.0</td>\n",
              "      <td>32.3</td>\n",
              "      <td>30.4</td>\n",
              "      <td>53.9</td>\n",
              "      <td>44.6</td>\n",
              "      <td>32.7</td>\n",
              "      <td>36.2</td>\n",
              "      <td>71.7</td>\n",
              "      <td>8.6</td>\n",
              "      <td>2ND</td>\n",
              "      <td>1.0</td>\n",
              "      <td>2016</td>\n",
              "    </tr>\n",
              "    <tr>\n",
              "      <th>1</th>\n",
              "      <td>Villanova</td>\n",
              "      <td>BE</td>\n",
              "      <td>40</td>\n",
              "      <td>35</td>\n",
              "      <td>123.1</td>\n",
              "      <td>90.9</td>\n",
              "      <td>0.9703</td>\n",
              "      <td>56.1</td>\n",
              "      <td>46.7</td>\n",
              "      <td>16.3</td>\n",
              "      <td>20.6</td>\n",
              "      <td>28.2</td>\n",
              "      <td>29.4</td>\n",
              "      <td>34.1</td>\n",
              "      <td>30.0</td>\n",
              "      <td>57.4</td>\n",
              "      <td>44.1</td>\n",
              "      <td>36.2</td>\n",
              "      <td>33.9</td>\n",
              "      <td>66.7</td>\n",
              "      <td>8.9</td>\n",
              "      <td>Champions</td>\n",
              "      <td>2.0</td>\n",
              "      <td>2016</td>\n",
              "    </tr>\n",
              "    <tr>\n",
              "      <th>2</th>\n",
              "      <td>Notre Dame</td>\n",
              "      <td>ACC</td>\n",
              "      <td>36</td>\n",
              "      <td>24</td>\n",
              "      <td>118.3</td>\n",
              "      <td>103.3</td>\n",
              "      <td>0.8269</td>\n",
              "      <td>54.0</td>\n",
              "      <td>49.5</td>\n",
              "      <td>15.3</td>\n",
              "      <td>14.8</td>\n",
              "      <td>32.7</td>\n",
              "      <td>32.1</td>\n",
              "      <td>32.9</td>\n",
              "      <td>26.0</td>\n",
              "      <td>52.9</td>\n",
              "      <td>46.5</td>\n",
              "      <td>37.4</td>\n",
              "      <td>36.9</td>\n",
              "      <td>65.5</td>\n",
              "      <td>2.3</td>\n",
              "      <td>E8</td>\n",
              "      <td>6.0</td>\n",
              "      <td>2016</td>\n",
              "    </tr>\n",
              "    <tr>\n",
              "      <th>3</th>\n",
              "      <td>Virginia</td>\n",
              "      <td>ACC</td>\n",
              "      <td>37</td>\n",
              "      <td>29</td>\n",
              "      <td>119.9</td>\n",
              "      <td>91.0</td>\n",
              "      <td>0.9600</td>\n",
              "      <td>54.8</td>\n",
              "      <td>48.4</td>\n",
              "      <td>15.1</td>\n",
              "      <td>18.8</td>\n",
              "      <td>29.9</td>\n",
              "      <td>25.2</td>\n",
              "      <td>32.1</td>\n",
              "      <td>33.4</td>\n",
              "      <td>52.6</td>\n",
              "      <td>46.3</td>\n",
              "      <td>40.3</td>\n",
              "      <td>34.7</td>\n",
              "      <td>61.9</td>\n",
              "      <td>8.6</td>\n",
              "      <td>E8</td>\n",
              "      <td>1.0</td>\n",
              "      <td>2016</td>\n",
              "    </tr>\n",
              "    <tr>\n",
              "      <th>4</th>\n",
              "      <td>Kansas</td>\n",
              "      <td>B12</td>\n",
              "      <td>37</td>\n",
              "      <td>32</td>\n",
              "      <td>120.9</td>\n",
              "      <td>90.4</td>\n",
              "      <td>0.9662</td>\n",
              "      <td>55.7</td>\n",
              "      <td>45.1</td>\n",
              "      <td>17.8</td>\n",
              "      <td>18.5</td>\n",
              "      <td>32.2</td>\n",
              "      <td>27.9</td>\n",
              "      <td>38.6</td>\n",
              "      <td>37.3</td>\n",
              "      <td>52.7</td>\n",
              "      <td>43.4</td>\n",
              "      <td>41.3</td>\n",
              "      <td>32.5</td>\n",
              "      <td>70.1</td>\n",
              "      <td>11.6</td>\n",
              "      <td>E8</td>\n",
              "      <td>1.0</td>\n",
              "      <td>2016</td>\n",
              "    </tr>\n",
              "  </tbody>\n",
              "</table>\n",
              "</div>"
            ],
            "text/plain": [
              "             TEAM CONF   G   W  ADJOE  ...  ADJ_T   WAB  POSTSEASON  SEED  YEAR\n",
              "0  North Carolina  ACC  40  33  123.3  ...   71.7   8.6         2ND   1.0  2016\n",
              "1       Villanova   BE  40  35  123.1  ...   66.7   8.9   Champions   2.0  2016\n",
              "2      Notre Dame  ACC  36  24  118.3  ...   65.5   2.3          E8   6.0  2016\n",
              "3        Virginia  ACC  37  29  119.9  ...   61.9   8.6          E8   1.0  2016\n",
              "4          Kansas  B12  37  32  120.9  ...   70.1  11.6          E8   1.0  2016\n",
              "\n",
              "[5 rows x 24 columns]"
            ]
          },
          "metadata": {
            "tags": []
          },
          "execution_count": 92
        }
      ]
    },
    {
      "cell_type": "code",
      "metadata": {
        "id": "VRSTYhD4vGAR",
        "colab_type": "code",
        "colab": {
          "base_uri": "https://localhost:8080/",
          "height": 697
        },
        "outputId": "b43f17a1-efdd-4f4a-88d6-f37f2eff9b0f"
      },
      "source": [
        "test_df['windex'] = np.where(test_df.WAB > 7, 'True', 'False')\n",
        "test_df1 = test_df[test_df['POSTSEASON'].str.contains('F4|S16|E8', na=False)]\n",
        "test_Feature = test_df1[['G', 'W', 'ADJOE', 'ADJDE', 'BARTHAG', 'EFG_O', 'EFG_D',\n",
        "       'TOR', 'TORD', 'ORB', 'DRB', 'FTR', 'FTRD', '2P_O', '2P_D', '3P_O',\n",
        "       '3P_D', 'ADJ_T', 'WAB', 'SEED', 'windex']]\n",
        "test_Feature['windex'].replace(to_replace=['False','True'], value=[0,1],inplace=True)\n",
        "test_X=test_Feature\n",
        "test_X= preprocessing.StandardScaler().fit(test_X).transform(test_X)\n",
        "test_X[0:5]"
      ],
      "execution_count": 93,
      "outputs": [
        {
          "output_type": "stream",
          "text": [
            "/usr/local/lib/python3.6/dist-packages/pandas/core/generic.py:6746: SettingWithCopyWarning: \n",
            "A value is trying to be set on a copy of a slice from a DataFrame\n",
            "\n",
            "See the caveats in the documentation: https://pandas.pydata.org/pandas-docs/stable/user_guide/indexing.html#returning-a-view-versus-a-copy\n",
            "  self._update_inplace(new_data)\n"
          ],
          "name": "stderr"
        },
        {
          "output_type": "execute_result",
          "data": {
            "text/plain": [
              "array([[-4.08074446e-01, -1.10135297e+00,  3.37365934e-01,\n",
              "         2.66479976e+00, -2.46831661e+00,  2.13703245e-01,\n",
              "         9.44090550e-01, -1.19216365e+00, -1.64348924e+00,\n",
              "         1.45405982e-02,  1.29523097e+00, -6.23533182e-01,\n",
              "        -9.31788560e-01,  1.42784371e-01,  1.68876201e-01,\n",
              "         2.84500844e-01,  1.62625961e+00, -8.36649260e-01,\n",
              "        -9.98500539e-01,  4.84319174e-01, -6.77003200e-01],\n",
              "       [ 3.63958290e-01,  3.26326807e-01,  7.03145068e-01,\n",
              "        -7.13778644e-01,  1.07370841e+00,  4.82633172e-01,\n",
              "         4.77498943e-01, -1.32975879e+00, -6.86193316e-02,\n",
              "        -7.35448152e-01, -1.35447914e+00, -8.06829025e-01,\n",
              "         3.41737757e-01,  4.96641291e-02,  9.40576311e-02,\n",
              "         1.37214061e+00,  6.93854620e-01, -2.00860931e+00,\n",
              "         9.80549967e-01, -1.19401460e+00,  1.47709789e+00],\n",
              "       [ 3.63958290e-01,  1.18293467e+00,  9.31757027e-01,\n",
              "        -8.78587347e-01,  1.23870131e+00,  7.85179340e-01,\n",
              "        -9.22275877e-01,  5.27775662e-01, -1.86734575e-01,\n",
              "        -1.19385964e-01, -3.17636057e-01,  6.82449703e-01,\n",
              "         1.01292055e+00,  8.07042098e-02, -9.90811637e-01,\n",
              "         1.74718880e+00, -2.38550367e-01,  6.60855252e-01,\n",
              "         1.92295497e+00, -1.19401460e+00,  1.47709789e+00],\n",
              "       [ 3.63958290e-01,  6.11862762e-01,  3.60227129e-01,\n",
              "         7.14563447e-01, -8.92254236e-02, -3.57772849e-01,\n",
              "         6.89586037e-01, -6.41783067e-01,  4.82585136e-01,\n",
              "         3.89534973e-01,  6.80805434e-01,  1.07195337e+00,\n",
              "         1.00800346e-01,  4.96641291e-02,  1.92390609e-02,\n",
              "        -8.40643737e-01,  1.32958529e+00,  3.02756347e-01,\n",
              "         3.83693465e-01, -1.19401460e+00, -6.77003200e-01],\n",
              "       [ 3.63958290e-01, -1.38688893e+00, -1.12575060e+00,\n",
              "         3.92401673e-04, -9.03545224e-01, -1.13094639e+00,\n",
              "         1.09073363e-02,  7.34168378e-01,  5.61328631e-01,\n",
              "         2.28823098e-01,  2.52408203e+00, -5.07336709e-02,\n",
              "        -5.87592258e-01, -1.62650023e+00,  7.67424763e-01,\n",
              "        -2.40566627e-01, -1.00142717e+00, -8.36649260e-01,\n",
              "        -1.81525154e+00,  1.82698619e+00, -6.77003200e-01]])"
            ]
          },
          "metadata": {
            "tags": []
          },
          "execution_count": 93
        }
      ]
    },
    {
      "cell_type": "code",
      "metadata": {
        "id": "mV2k7875vGzF",
        "colab_type": "code",
        "colab": {
          "base_uri": "https://localhost:8080/",
          "height": 34
        },
        "outputId": "ffcfafe9-ff35-41a7-80f2-63638022ddd7"
      },
      "source": [
        "test_y = test_df1['POSTSEASON'].values\n",
        "test_y[0:5]"
      ],
      "execution_count": 94,
      "outputs": [
        {
          "output_type": "execute_result",
          "data": {
            "text/plain": [
              "array(['E8', 'E8', 'E8', 'E8', 'F4'], dtype=object)"
            ]
          },
          "metadata": {
            "tags": []
          },
          "execution_count": 94
        }
      ]
    },
    {
      "cell_type": "code",
      "metadata": {
        "id": "1HEIHsZvvIuB",
        "colab_type": "code",
        "colab": {}
      },
      "source": [
        "# KNN"
      ],
      "execution_count": 95,
      "outputs": []
    },
    {
      "cell_type": "code",
      "metadata": {
        "id": "htjnTMv9vLbm",
        "colab_type": "code",
        "colab": {}
      },
      "source": [
        "# Decision Tree"
      ],
      "execution_count": 96,
      "outputs": []
    },
    {
      "cell_type": "code",
      "metadata": {
        "id": "C5pySTJ1vNkX",
        "colab_type": "code",
        "colab": {}
      },
      "source": [
        "# SVM"
      ],
      "execution_count": 97,
      "outputs": []
    },
    {
      "cell_type": "code",
      "metadata": {
        "id": "Enb9jXp4vPOa",
        "colab_type": "code",
        "colab": {}
      },
      "source": [
        "# Logistic Regression"
      ],
      "execution_count": 98,
      "outputs": []
    },
    {
      "cell_type": "code",
      "metadata": {
        "id": "NxhMwxVOvTGm",
        "colab_type": "code",
        "colab": {}
      },
      "source": [
        "# Report\n",
        "# should be able to report the accuracy of the built model using different evaluation metrics:\n",
        "\n",
        "# Algorithm             Accuracy    Jaccard     F1-score\tLogLoss\n",
        "# KNN\t                0.628571\t0.458333\t0.628571\tNA\n",
        "# Decision Tree\t        0.642857\t0.473684\t0.642857\tNA\n",
        "# SVM\t                0.685714\t0.521739\t0.685714\tNA\n",
        "# LogisticRegression\t0.685714\t0.521739\t0.685714\t1.03719\n",
        "\n",
        "# Something to keep in mind when creating models to predict the results of basketball tournaments or sports in general is that is quite hard due to so many factors influencing the game. \n",
        "# Even in sports betting an accuracy of 55% and over is considered good as it indicates profits.\n"
      ],
      "execution_count": 99,
      "outputs": []
    }
  ]
}